{
 "cells": [
  {
   "cell_type": "code",
   "execution_count": null,
   "id": "c479a1ba",
   "metadata": {},
   "outputs": [],
   "source": [
    "# example for public variable"
   ]
  },
  {
   "cell_type": "code",
   "execution_count": null,
   "id": "136bd186",
   "metadata": {},
   "outputs": [],
   "source": [
    "class test:\n",
    "    def detail(self,name,age):\n",
    "        self.name=name\n",
    "        self.age=age\n",
    "        print(\"Name: \", obj.name)  \n",
    "        print(\"age: \", obj.age) \n",
    "        \n",
    "obj=test()\n",
    "obj.detail(\"john\",23)"
   ]
  },
  {
   "cell_type": "code",
   "execution_count": null,
   "id": "62abc20c",
   "metadata": {},
   "outputs": [],
   "source": [
    "class test:\n",
    "    def detail(self,name,age):\n",
    "        self.name=name\n",
    "        self.age=age\n",
    "    print(\"Name: \", obj.name)  \n",
    "    print(\"age: \", obj.age)          \n",
    "obj=test()\n",
    "obj.detail(\"john\",23)\n",
    "print(\"Name: \", obj.name)  \n",
    "print(\"age: \", obj.age) "
   ]
  },
  {
   "cell_type": "code",
   "execution_count": 1,
   "id": "c9b3df49",
   "metadata": {},
   "outputs": [
    {
     "name": "stdout",
     "output_type": "stream",
     "text": [
      "Name:  johns\n",
      "Age:  28\n"
     ]
    }
   ],
   "source": [
    "class test:\n",
    "    def detail(self,name,age):\n",
    "        self.name=name\n",
    "        self.age=age\n",
    "    def Age(self): \n",
    "        print(\"Age: \", self.age) \n",
    "        \n",
    "obj=test()\n",
    "obj.detail(\"johns\",28)\n",
    "print(\"Name: \", obj.name) # accessing public member\n",
    "\n",
    "obj.Age()"
   ]
  },
  {
   "cell_type": "code",
   "execution_count": null,
   "id": "1491f84b",
   "metadata": {},
   "outputs": [],
   "source": [
    "# example for private variable"
   ]
  },
  {
   "cell_type": "code",
   "execution_count": 7,
   "id": "7021c770",
   "metadata": {},
   "outputs": [
    {
     "name": "stdout",
     "output_type": "stream",
     "text": [
      "Name:  johnsaaa\n",
      "age:  21\n"
     ]
    }
   ],
   "source": [
    "class test:\n",
    "    def detail(self,name,age):\n",
    "        self.__name=name\n",
    "        self.__age=age\n",
    "        print(\"Name: \", obj.__name)  \n",
    "        print(\"age: \", obj.__age) \n",
    "        \n",
    "obj=test()\n",
    "obj.detail(\"johnsaaa\",21)\n"
   ]
  },
  {
   "cell_type": "code",
   "execution_count": null,
   "id": "26d72aa0",
   "metadata": {
    "scrolled": true
   },
   "outputs": [],
   "source": [
    "class test:\n",
    "    def detail(self,name,age):\n",
    "        self.__name=name\n",
    "        self.__age=age\n",
    "        \n",
    "obj=test()\n",
    "obj.detail(\"john\",23)\n",
    "print(\"Name: \", obj.__name)  \n",
    "print(\"age: \", obj.__age) "
   ]
  },
  {
   "cell_type": "code",
   "execution_count": 8,
   "id": "4092db36",
   "metadata": {},
   "outputs": [
    {
     "name": "stdout",
     "output_type": "stream",
     "text": [
      "Name: johnsaaa\n",
      "age:  21\n"
     ]
    }
   ],
   "source": [
    "class test:\n",
    "    def detail(self,name,age):\n",
    "        self.__name=name\n",
    "        self.__age=age\n",
    "    print(\"Name:\", obj.__name)  \n",
    "    print(\"age: \", obj.__age)   \n",
    "obj=test()\n",
    "obj.detail(\"john\",23)\n"
   ]
  },
  {
   "cell_type": "code",
   "execution_count": null,
   "id": "688ecc35",
   "metadata": {},
   "outputs": [],
   "source": []
  }
 ],
 "metadata": {
  "kernelspec": {
   "display_name": "Python 3 (ipykernel)",
   "language": "python",
   "name": "python3"
  },
  "language_info": {
   "codemirror_mode": {
    "name": "ipython",
    "version": 3
   },
   "file_extension": ".py",
   "mimetype": "text/x-python",
   "name": "python",
   "nbconvert_exporter": "python",
   "pygments_lexer": "ipython3",
   "version": "3.9.13"
  }
 },
 "nbformat": 4,
 "nbformat_minor": 5
}
