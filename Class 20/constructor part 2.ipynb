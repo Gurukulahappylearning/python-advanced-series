{
 "cells": [
  {
   "cell_type": "code",
   "execution_count": null,
   "id": "e31365ec",
   "metadata": {},
   "outputs": [],
   "source": [
    "#what is constructor"
   ]
  },
  {
   "cell_type": "code",
   "execution_count": null,
   "id": "4cc23056",
   "metadata": {},
   "outputs": [],
   "source": [
    "#types of constructor"
   ]
  },
  {
   "cell_type": "code",
   "execution_count": null,
   "id": "f909c106",
   "metadata": {},
   "outputs": [],
   "source": [
    "#parameterised constructor"
   ]
  },
  {
   "cell_type": "code",
   "execution_count": 1,
   "id": "f9926120",
   "metadata": {},
   "outputs": [
    {
     "name": "stdout",
     "output_type": "stream",
     "text": [
      "my name is: sakthi\n",
      "my age is: 20\n"
     ]
    }
   ],
   "source": [
    "class student:\n",
    "    def __init__(self):\n",
    "        name=\"sakthi\"\n",
    "        age=20\n",
    "        print(\"my name is:\",name)\n",
    "        print(\"my age is:\",age)\n",
    "stu1=student()"
   ]
  },
  {
   "cell_type": "code",
   "execution_count": 2,
   "id": "008c0e7d",
   "metadata": {},
   "outputs": [
    {
     "name": "stdout",
     "output_type": "stream",
     "text": [
      "my name is: john\n",
      "my age is: 23\n"
     ]
    }
   ],
   "source": [
    "class student:\n",
    "    def __init__(self,name,age):\n",
    "        print(\"my name is:\",name)\n",
    "        print(\"my age is:\",age)\n",
    "stu1=student(\"john\",23)"
   ]
  },
  {
   "cell_type": "code",
   "execution_count": 3,
   "id": "0bae9de3",
   "metadata": {},
   "outputs": [
    {
     "name": "stdout",
     "output_type": "stream",
     "text": [
      "my name is: john\n",
      "my age is: 20\n"
     ]
    }
   ],
   "source": [
    "class student:\n",
    "    def __init__(self,name):\n",
    "        age=20\n",
    "        print(\"my name is:\",name)\n",
    "        print(\"my age is:\",age)\n",
    "stu1=student(\"john\")"
   ]
  },
  {
   "cell_type": "code",
   "execution_count": 7,
   "id": "8f0e9ea3",
   "metadata": {},
   "outputs": [
    {
     "name": "stdout",
     "output_type": "stream",
     "text": [
      "my name is: john\n",
      "my age is: 23\n"
     ]
    }
   ],
   "source": [
    "class student:\n",
    "    def __init__(self,name,age):\n",
    "        self.name=name\n",
    "        self.age=age\n",
    "    def print1(self):\n",
    "        print(\"my name is:\",self.name)\n",
    "        print(\"my age is:\",self.age)\n",
    "stu1=student(\"john\",23)\n",
    "stu1.print1()"
   ]
  },
  {
   "cell_type": "code",
   "execution_count": 13,
   "id": "31f48003",
   "metadata": {},
   "outputs": [
    {
     "name": "stdout",
     "output_type": "stream",
     "text": [
      "my name is: john\n",
      "my age is: 23\n"
     ]
    }
   ],
   "source": [
    "class student:\n",
    "    def __init__(self,name,age):\n",
    "        self.name=name\n",
    "        self.age=age\n",
    "    def print1(self):\n",
    "        print(\"my name is:\",self.name)\n",
    "        print(\"my age is:\",self.age)\n",
    "stu1=student(\"john\",23)\n",
    "stu1.print1()"
   ]
  },
  {
   "cell_type": "code",
   "execution_count": 14,
   "id": "fedf46cb",
   "metadata": {},
   "outputs": [
    {
     "name": "stdout",
     "output_type": "stream",
     "text": [
      "my name is: suvetha\n",
      "my age is: 27\n"
     ]
    }
   ],
   "source": [
    "class student:\n",
    "    def __init__(self,name,age):\n",
    "        self.name=name\n",
    "        self.age=age\n",
    "    def print1(self):\n",
    "        print(\"my name is:\",self.name)\n",
    "        print(\"my age is:\",self.age)\n",
    "stu1=student(\"john\",23)\n",
    "stu1=student(\"suvetha\",27)\n",
    "stu1.print1()"
   ]
  },
  {
   "cell_type": "code",
   "execution_count": 15,
   "id": "5a5657cb",
   "metadata": {},
   "outputs": [
    {
     "name": "stdout",
     "output_type": "stream",
     "text": [
      "my name is: john\n",
      "my age is: 23\n",
      "my name is: suvetha\n",
      "my age is: 27\n"
     ]
    }
   ],
   "source": [
    "class student:\n",
    "    def __init__(self,name,age):\n",
    "        self.name=name\n",
    "        self.age=age\n",
    "    def print1(self):\n",
    "        print(\"my name is:\",self.name)\n",
    "        print(\"my age is:\",self.age)\n",
    "stu1=student(\"john\",23)\n",
    "stu1.print1()\n",
    "stu1=student(\"suvetha\",27)\n",
    "stu1.print1()"
   ]
  },
  {
   "cell_type": "code",
   "execution_count": 17,
   "id": "88706c75",
   "metadata": {},
   "outputs": [
    {
     "name": "stdout",
     "output_type": "stream",
     "text": [
      "my name is: john\n",
      "my age is: 23\n",
      "my name is: suvetha\n",
      "my age is: 27\n"
     ]
    }
   ],
   "source": [
    "class student:\n",
    "    def __init__(self,name,age):\n",
    "        self.name=name\n",
    "        self.age=age\n",
    "    def print1(self):\n",
    "        print(\"my name is:\",self.name)\n",
    "        print(\"my age is:\",self.age)\n",
    "stu1=student(\"john\",23)\n",
    "\n",
    "stu2=student(\"suvetha\",27)\n",
    "\n",
    "stu1.print1()\n",
    "stu2.print1()"
   ]
  },
  {
   "cell_type": "code",
   "execution_count": null,
   "id": "bed941e3",
   "metadata": {},
   "outputs": [],
   "source": []
  }
 ],
 "metadata": {
  "kernelspec": {
   "display_name": "Python 3 (ipykernel)",
   "language": "python",
   "name": "python3"
  },
  "language_info": {
   "codemirror_mode": {
    "name": "ipython",
    "version": 3
   },
   "file_extension": ".py",
   "mimetype": "text/x-python",
   "name": "python",
   "nbconvert_exporter": "python",
   "pygments_lexer": "ipython3",
   "version": "3.9.13"
  }
 },
 "nbformat": 4,
 "nbformat_minor": 5
}
