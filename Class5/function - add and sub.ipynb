{
 "cells": [
  {
   "cell_type": "code",
   "execution_count": null,
   "id": "70005f3e",
   "metadata": {},
   "outputs": [],
   "source": [
    "#function"
   ]
  },
  {
   "cell_type": "code",
   "execution_count": null,
   "id": "e6a05db2",
   "metadata": {},
   "outputs": [],
   "source": [
    "#add with 2 values"
   ]
  },
  {
   "cell_type": "code",
   "execution_count": null,
   "id": "ce2ba248",
   "metadata": {},
   "outputs": [],
   "source": [
    "#add with 2 function call:"
   ]
  },
  {
   "cell_type": "code",
   "execution_count": null,
   "id": "243ea3a0",
   "metadata": {},
   "outputs": [],
   "source": [
    "# add and sub"
   ]
  },
  {
   "cell_type": "code",
   "execution_count": null,
   "id": "cd6ff5e7",
   "metadata": {},
   "outputs": [],
   "source": [
    "# direct assignment"
   ]
  },
  {
   "cell_type": "code",
   "execution_count": null,
   "id": "cf3961f6",
   "metadata": {},
   "outputs": [],
   "source": [
    "# print outside function"
   ]
  },
  {
   "cell_type": "code",
   "execution_count": null,
   "id": "6391ca9e",
   "metadata": {},
   "outputs": [],
   "source": []
  },
  {
   "cell_type": "code",
   "execution_count": null,
   "id": "ef6d36b4",
   "metadata": {},
   "outputs": [],
   "source": []
  }
 ],
 "metadata": {
  "kernelspec": {
   "display_name": "Python 3 (ipykernel)",
   "language": "python",
   "name": "python3"
  },
  "language_info": {
   "codemirror_mode": {
    "name": "ipython",
    "version": 3
   },
   "file_extension": ".py",
   "mimetype": "text/x-python",
   "name": "python",
   "nbconvert_exporter": "python",
   "pygments_lexer": "ipython3",
   "version": "3.9.13"
  }
 },
 "nbformat": 4,
 "nbformat_minor": 5
}
