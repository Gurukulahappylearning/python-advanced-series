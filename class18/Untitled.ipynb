{
 "cells": [
  {
   "cell_type": "code",
   "execution_count": 1,
   "id": "82b52526",
   "metadata": {},
   "outputs": [
    {
     "name": "stdout",
     "output_type": "stream",
     "text": [
      "my name is: sakthi\n",
      "age is: 23\n",
      "gender is: male\n",
      "my name is: jeeva\n",
      "age is: 30\n",
      "gender is: male\n"
     ]
    }
   ],
   "source": [
    "class person:\n",
    "    def get_detail(self,name,age,gender):\n",
    "        self.name=name\n",
    "        self.age=age\n",
    "        self.gender=gender\n",
    "    def print_detail(self):\n",
    "        print(\"my name is:\",self.name)\n",
    "        print(\"age is:\",self.age)\n",
    "        print(\"gender is:\",self.gender)\n",
    "c=person()\n",
    "c.get_detail(\"sakthi\",23,\"male\")\n",
    "c.print_detail()\n",
    "d=person()\n",
    "d.get_detail(\"jeeva\",30,\"male\")\n",
    "d.print_detail()"
   ]
  },
  {
   "cell_type": "code",
   "execution_count": 2,
   "id": "cc6eb073",
   "metadata": {},
   "outputs": [
    {
     "name": "stdout",
     "output_type": "stream",
     "text": [
      "my name is: sakthi\n",
      "age is 10\n",
      "gender  male\n",
      "my name is: jeeva\n",
      "age is 30\n",
      "gender  male\n"
     ]
    }
   ],
   "source": [
    "class person:\n",
    "    name = \"\"\n",
    "    age = 0 \n",
    "    gender=\"\"\n",
    "    \n",
    "person1 = person()\n",
    "person1.name = \"sakthi\"\n",
    "person1.age = 10\n",
    "person1.gender=\"male\"\n",
    "\n",
    "\n",
    "person2 = person()\n",
    "person2.name = \"jeeva\"\n",
    "person2.age = 30\n",
    "person2.gender=\"male\"\n",
    "\n",
    "\n",
    "print(\"my name is:\",person1.name)\n",
    "print(\"age is\" ,person1.age)\n",
    "print( \"gender \",person1.gender)\n",
    "print(\"my name is:\",person2.name)\n",
    "print(\"age is\" ,person2.age)\n",
    "print( \"gender \",person2.gender)"
   ]
  },
  {
   "cell_type": "code",
   "execution_count": 3,
   "id": "051eb227",
   "metadata": {},
   "outputs": [
    {
     "name": "stdout",
     "output_type": "stream",
     "text": [
      "sakthi is 10 years old -  male\n",
      "jeeva is 30 years old - male\n"
     ]
    }
   ],
   "source": [
    "class person:\n",
    "    name = \"\"\n",
    "    age = 0 \n",
    "    gender=\"\"\n",
    "    \n",
    "person1 = person()\n",
    "person1.name = \"sakthi\"\n",
    "person1.age = 10\n",
    "person1.gender=\"male\"\n",
    "\n",
    "\n",
    "person2 = person()\n",
    "person2.name = \"jeeva\"\n",
    "person2.age = 30\n",
    "person2.gender=\"male\"\n",
    "\n",
    "\n",
    "print(person1.name, \"is\" ,person1.age, \"years old - \",person1.gender)\n",
    "print(person2.name, \"is\" ,person2.age, \"years old -\" ,person2.gender)"
   ]
  },
  {
   "cell_type": "code",
   "execution_count": 4,
   "id": "e0c7ab7a",
   "metadata": {},
   "outputs": [
    {
     "name": "stdout",
     "output_type": "stream",
     "text": [
      "my name is: sakthi\n",
      "age is: 10\n",
      "gender is: male\n"
     ]
    }
   ],
   "source": [
    "class person:\n",
    "    name=\"\"\n",
    "    age=0\n",
    "    gender=\"\"\n",
    "    def print_detail(self):\n",
    "        print(\"my name is:\",c.name)\n",
    "        print(\"age is:\",c.age)\n",
    "        print(\"gender is:\",c.gender)\n",
    "c=person()\n",
    "c.name = \"sakthi\"\n",
    "c.age = 10\n",
    "c.gender=\"male\"\n",
    "c.print_detail()"
   ]
  },
  {
   "cell_type": "code",
   "execution_count": 5,
   "id": "1ec50600",
   "metadata": {},
   "outputs": [
    {
     "name": "stdout",
     "output_type": "stream",
     "text": [
      "Area of Room = 1309.0\n"
     ]
    }
   ],
   "source": [
    "class Room:\n",
    "    length = 0.0\n",
    "    breadth = 0.0\n",
    "    def calculate_area(self):\n",
    "        print(\"Area of Room =\", room1.length * room1.breadth)\n",
    "\n",
    "room1= Room()\n",
    "\n",
    "room1.length = 42.5\n",
    "room1.breadth = 30.8\n",
    "\n",
    "room1.calculate_area()"
   ]
  },
  {
   "cell_type": "code",
   "execution_count": 6,
   "id": "b2ec9996",
   "metadata": {},
   "outputs": [
    {
     "name": "stdout",
     "output_type": "stream",
     "text": [
      "Area of Room = 1309.0\n"
     ]
    }
   ],
   "source": [
    "class Room:\n",
    "    \n",
    "    def calculate_area(self):\n",
    "        length = 0.0\n",
    "        breadth = 0.0\n",
    "        print(\"Area of Room =\", room1.length * room1.breadth)\n",
    "\n",
    "room1= Room()\n",
    "\n",
    "room1.length = 42.5\n",
    "room1.breadth = 30.8\n",
    "\n",
    "room1.calculate_area()"
   ]
  },
  {
   "cell_type": "code",
   "execution_count": 7,
   "id": "7bcfb494",
   "metadata": {},
   "outputs": [
    {
     "name": "stdout",
     "output_type": "stream",
     "text": [
      "Area of Room = 1309.0\n"
     ]
    }
   ],
   "source": [
    "class Room:\n",
    "    \n",
    "    def calculate_area(self):\n",
    "        length = 0.0\n",
    "        breadth = 0.0\n",
    "        print(\"Area of Room =\", self.length * self.breadth)\n",
    "\n",
    "room1= Room()\n",
    "\n",
    "room1.length = 42.5\n",
    "room1.breadth = 30.8\n",
    "\n",
    "room1.calculate_area()"
   ]
  },
  {
   "cell_type": "code",
   "execution_count": 8,
   "id": "67872548",
   "metadata": {},
   "outputs": [
    {
     "name": "stdout",
     "output_type": "stream",
     "text": [
      "Area of Room = 1309.0\n"
     ]
    }
   ],
   "source": [
    "class Room:    \n",
    "    def calculate_area(self):\n",
    "        length = 0.0\n",
    "        breadth = 0.0\n",
    "        print(\"Area of Room =\", self.length * self.breadth)\n",
    "\n",
    "room1= Room()\n",
    "room1.length = 42.5\n",
    "room1.breadth = 30.8\n",
    "\n",
    "room1.calculate_area()"
   ]
  }
 ],
 "metadata": {
  "kernelspec": {
   "display_name": "Python 3 (ipykernel)",
   "language": "python",
   "name": "python3"
  },
  "language_info": {
   "codemirror_mode": {
    "name": "ipython",
    "version": 3
   },
   "file_extension": ".py",
   "mimetype": "text/x-python",
   "name": "python",
   "nbconvert_exporter": "python",
   "pygments_lexer": "ipython3",
   "version": "3.9.13"
  }
 },
 "nbformat": 4,
 "nbformat_minor": 5
}
