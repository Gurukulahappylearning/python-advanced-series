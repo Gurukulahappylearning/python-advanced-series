{
 "cells": [
  {
   "cell_type": "code",
   "execution_count": 1,
   "id": "4a758e14",
   "metadata": {
    "scrolled": true
   },
   "outputs": [
    {
     "name": "stdout",
     "output_type": "stream",
     "text": [
      " hai... i am from function...\n"
     ]
    }
   ],
   "source": [
    "#previous code.\n",
    "def greeting():\n",
    "    print(\" hai. i am from function...\")\n",
    "greeting()"
   ]
  },
  {
   "cell_type": "code",
   "execution_count": 2,
   "id": "d17bc5cf",
   "metadata": {
    "scrolled": true
   },
   "outputs": [
    {
     "name": "stdout",
     "output_type": "stream",
     "text": [
      " hai.. Neha.. Good morning\n"
     ]
    }
   ],
   "source": [
    "def greeting():\n",
    "    print(\" hai.. Neha.. Good morning\")\n",
    "greeting()"
   ]
  },
  {
   "cell_type": "code",
   "execution_count": 3,
   "id": "d87c396a",
   "metadata": {
    "scrolled": true
   },
   "outputs": [
    {
     "name": "stdout",
     "output_type": "stream",
     "text": [
      " hai.. sakthi.. Good morning\n"
     ]
    }
   ],
   "source": [
    "def greeting():\n",
    "    print(\" hai.. sakthi.. Good morning\")\n",
    "greeting()"
   ]
  },
  {
   "cell_type": "code",
   "execution_count": 8,
   "id": "db3b895b",
   "metadata": {
    "scrolled": true
   },
   "outputs": [
    {
     "name": "stdout",
     "output_type": "stream",
     "text": [
      " hai vishnu  Good morning\n",
      " hai visudha  Good morning\n"
     ]
    }
   ],
   "source": [
    "def greeting(name):\n",
    "    print(\" hai\",name,\" Good morning\")\n",
    "greeting(\"vishnu\")\n",
    "greeting(\"visudha\")"
   ]
  },
  {
   "cell_type": "code",
   "execution_count": 7,
   "id": "4893a562",
   "metadata": {},
   "outputs": [
    {
     "name": "stdout",
     "output_type": "stream",
     "text": [
      " hai vishnu  Good morning\n"
     ]
    }
   ],
   "source": [
    "def greeting(name=\"vishnu\"):\n",
    "    print(\" hai\",name,\" Good morning\")\n",
    "greeting()"
   ]
  },
  {
   "cell_type": "code",
   "execution_count": 8,
   "id": "34661448",
   "metadata": {
    "scrolled": true
   },
   "outputs": [
    {
     "name": "stdout",
     "output_type": "stream",
     "text": [
      " hai jeeva  Good morning\n"
     ]
    }
   ],
   "source": [
    "def greeting(name=\"vishnu\"):\n",
    "    print(\" hai\",name,\" Good morning\")\n",
    "greeting(\"jeeva\")"
   ]
  },
  {
   "cell_type": "code",
   "execution_count": 6,
   "id": "ac5edb5d",
   "metadata": {},
   "outputs": [
    {
     "name": "stdout",
     "output_type": "stream",
     "text": [
      " hai jeeva  Good morning\n",
      " hai vishnu  Good morning\n"
     ]
    }
   ],
   "source": [
    "def greeting(name=\"vishnu\"):\n",
    "    print(\" hai\",name,\" Good morning\")\n",
    "greeting(\"jeeva\")\n",
    "greeting()"
   ]
  },
  {
   "cell_type": "code",
   "execution_count": 11,
   "id": "20069c7f",
   "metadata": {},
   "outputs": [
    {
     "name": "stdout",
     "output_type": "stream",
     "text": [
      "the added value is: 30\n",
      "the added value is: 50\n",
      "hai..Good Morning\n"
     ]
    }
   ],
   "source": [
    "#function with a task\n",
    "\n",
    "def greeting():\n",
    "    print(\"hai..Good Morning\")\n",
    "\n",
    "def add(x,y):\n",
    "    z=x+y\n",
    "    print(\"the added value is:\", z)\n",
    "add(10,20)\n",
    "add(20,30)\n",
    "greeting()"
   ]
  },
  {
   "cell_type": "code",
   "execution_count": 14,
   "id": "0764d326",
   "metadata": {},
   "outputs": [
    {
     "name": "stdout",
     "output_type": "stream",
     "text": [
      "the added value is: 30\n",
      "the subtracted value is: 10\n"
     ]
    }
   ],
   "source": [
    "def add(x,y):\n",
    "    z=x+y\n",
    "    print(\"the added value is:\", z)\n",
    "def sub(x,y):\n",
    "    z=x-y\n",
    "    print(\"the subtracted value is:\",z)\n",
    "add(10,20)\n",
    "sub(30,20)\n"
   ]
  }
 ],
 "metadata": {
  "kernelspec": {
   "display_name": "Python 3 (ipykernel)",
   "language": "python",
   "name": "python3"
  },
  "language_info": {
   "codemirror_mode": {
    "name": "ipython",
    "version": 3
   },
   "file_extension": ".py",
   "mimetype": "text/x-python",
   "name": "python",
   "nbconvert_exporter": "python",
   "pygments_lexer": "ipython3",
   "version": "3.9.13"
  }
 },
 "nbformat": 4,
 "nbformat_minor": 5
}
