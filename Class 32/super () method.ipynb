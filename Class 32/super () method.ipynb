{
 "cells": [
  {
   "cell_type": "code",
   "execution_count": 5,
   "id": "6f640e72",
   "metadata": {},
   "outputs": [
    {
     "name": "stdout",
     "output_type": "stream",
     "text": [
      "i am from init b\n"
     ]
    }
   ],
   "source": [
    "class a:\n",
    "    def __init__(self):\n",
    "        print(\"i am from init a\")\n",
    "    def func1(self):\n",
    "        print(\"i am func 1\")\n",
    "\n",
    "        \n",
    "class b(a):\n",
    "    def __init__(self):\n",
    "        print(\"i am from init b\")\n",
    "    def func2(self):\n",
    "        print(\"i am func 2\")\n",
    "aobj=b()"
   ]
  },
  {
   "cell_type": "code",
   "execution_count": 7,
   "id": "ed263404",
   "metadata": {},
   "outputs": [
    {
     "name": "stdout",
     "output_type": "stream",
     "text": [
      "i am from init a\n",
      "i am from init b\n",
      "i am func 2\n"
     ]
    }
   ],
   "source": [
    "class a:\n",
    "    def __init__(self):\n",
    "        print(\"i am from init a\")\n",
    "    def func1(self):\n",
    "        print(\"i am func 1\")\n",
    "\n",
    "        \n",
    "class b(a):\n",
    "    def __init__(self):\n",
    "        super().__init__()\n",
    "        print(\"i am from init b\")\n",
    "    def func2(self):\n",
    "        print(\"i am func 2\")\n",
    "aobj=b()\n",
    "aobj.func2()"
   ]
  },
  {
   "cell_type": "code",
   "execution_count": 9,
   "id": "b5e8d0cc",
   "metadata": {},
   "outputs": [
    {
     "name": "stdout",
     "output_type": "stream",
     "text": [
      "i am from init a\n"
     ]
    }
   ],
   "source": [
    "class a:\n",
    "    def __init__(self):\n",
    "        print(\"i am from init a\")\n",
    "    def func1(self):\n",
    "        print(\"i am func 1\")\n",
    "    \n",
    "        \n",
    "class b:\n",
    "    def __init__(self):\n",
    "        print(\"i am from init b\")\n",
    "    def fun2(self):\n",
    "        print(\"i am fun 2\")\n",
    "        \n",
    "class c(a,b):\n",
    "    def __init__(self):\n",
    "        print(\"i am from init c\")\n",
    "    \n",
    "aobj=c()\n"
   ]
  },
  {
   "cell_type": "code",
   "execution_count": 10,
   "id": "197669c0",
   "metadata": {},
   "outputs": [
    {
     "name": "stdout",
     "output_type": "stream",
     "text": [
      "i am from init a\n"
     ]
    }
   ],
   "source": [
    "class a:\n",
    "    def __init__(self):\n",
    "        print(\"i am from init a\")\n",
    "    def func1(self):\n",
    "        print(\"i am func 1\")\n",
    "    \n",
    "        \n",
    "class b:\n",
    "    def __init__(self):\n",
    "        print(\"i am from init b\")\n",
    "    def fun2(self):\n",
    "        print(\"i am fun 2\")\n",
    "        \n",
    "class c(a,b):\n",
    "    pass\n",
    "    \n",
    "aobj=c()"
   ]
  },
  {
   "cell_type": "code",
   "execution_count": 11,
   "id": "13162b5a",
   "metadata": {},
   "outputs": [
    {
     "name": "stdout",
     "output_type": "stream",
     "text": [
      "i am from init a\n",
      "i am from init c\n"
     ]
    }
   ],
   "source": [
    "class a:\n",
    "    def __init__(self):\n",
    "        print(\"i am from init a\")\n",
    "    def func1(self):\n",
    "        print(\"i am func 1\")\n",
    "    \n",
    "        \n",
    "class b:\n",
    "    def __init__(self):\n",
    "        print(\"i am from init b\")\n",
    "    def fun2(self):\n",
    "        print(\"i am fun 2\")\n",
    "        \n",
    "class c(a,b):\n",
    "    def __init__(self):\n",
    "        super().__init__()\n",
    "        print(\"i am from init c\")\n",
    "    \n",
    "aobj=c()"
   ]
  },
  {
   "cell_type": "code",
   "execution_count": null,
   "id": "f26153d4",
   "metadata": {},
   "outputs": [],
   "source": []
  },
  {
   "cell_type": "code",
   "execution_count": null,
   "id": "c59e0dd4",
   "metadata": {},
   "outputs": [],
   "source": []
  },
  {
   "cell_type": "code",
   "execution_count": null,
   "id": "89f70917",
   "metadata": {},
   "outputs": [],
   "source": []
  },
  {
   "cell_type": "code",
   "execution_count": null,
   "id": "806d5993",
   "metadata": {},
   "outputs": [],
   "source": []
  },
  {
   "cell_type": "code",
   "execution_count": null,
   "id": "09edade9",
   "metadata": {},
   "outputs": [],
   "source": []
  }
 ],
 "metadata": {
  "kernelspec": {
   "display_name": "Python 3 (ipykernel)",
   "language": "python",
   "name": "python3"
  },
  "language_info": {
   "codemirror_mode": {
    "name": "ipython",
    "version": 3
   },
   "file_extension": ".py",
   "mimetype": "text/x-python",
   "name": "python",
   "nbconvert_exporter": "python",
   "pygments_lexer": "ipython3",
   "version": "3.9.13"
  }
 },
 "nbformat": 4,
 "nbformat_minor": 5
}
