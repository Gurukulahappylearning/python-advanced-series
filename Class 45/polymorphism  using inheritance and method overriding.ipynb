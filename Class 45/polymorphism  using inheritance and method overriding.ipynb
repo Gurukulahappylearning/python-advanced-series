{
 "cells": [
  {
   "cell_type": "code",
   "execution_count": 1,
   "id": "27541e8d",
   "metadata": {},
   "outputs": [
    {
     "name": "stdout",
     "output_type": "stream",
     "text": [
      "i am from class a\n",
      "i am from class b\n",
      "i am from class c\n"
     ]
    }
   ],
   "source": [
    "class a:\n",
    "    def detail(self):\n",
    "        print(\"i am from class a\")       \n",
    "class b(a):\n",
    "    def detail(self):\n",
    "        super().detail()\n",
    "        print(\"i am from class b\")\n",
    "class c(b):\n",
    "    def detail(self):\n",
    "        super().detail()\n",
    "        print(\"i am from class c\")\n",
    "obj=c()\n",
    "obj.detail()"
   ]
  },
  {
   "cell_type": "code",
   "execution_count": 9,
   "id": "b1676bb6",
   "metadata": {},
   "outputs": [
    {
     "name": "stdout",
     "output_type": "stream",
     "text": [
      "i am sheela\n",
      "i am sakthi\n",
      "i am shiva\n"
     ]
    }
   ],
   "source": [
    "class sheela:\n",
    "    def speak(self):\n",
    "        return \"i am sheela\"\n",
    "\n",
    "class sakthi(sheela):\n",
    "    def speak(self):\n",
    "        return \"i am sakthi\"\n",
    "\n",
    "class shiva(sakthi):\n",
    "    def speak(self):\n",
    "        return \"i am shiva\"\n",
    "\n",
    "obj1 =sheela()\n",
    "obj2=sakthi()\n",
    "obj3=shiva()\n",
    "\n",
    "for i in (obj1,obj2,obj3):\n",
    "    print(i.speak())"
   ]
  },
  {
   "cell_type": "code",
   "execution_count": 12,
   "id": "f8827662",
   "metadata": {},
   "outputs": [
    {
     "name": "stdout",
     "output_type": "stream",
     "text": [
      "i am sheela\n",
      "i am sakthi\n",
      "i am shiva\n"
     ]
    }
   ],
   "source": [
    "class sheela:\n",
    "    def speak(self):\n",
    "        return \"i am sheela\"\n",
    "\n",
    "class sakthi(sheela):\n",
    "    def speak(self):\n",
    "        return \"i am sakthi\"\n",
    "\n",
    "class shiva(sakthi):\n",
    "    def speak(self):\n",
    "        return \"i am shiva\"\n",
    "\n",
    "    \n",
    "obj = [sheela(),sakthi(),shiva()]\n",
    " \n",
    "\n",
    "for i in obj:\n",
    "    print(i.speak())\n"
   ]
  },
  {
   "cell_type": "code",
   "execution_count": 14,
   "id": "9647cf4c",
   "metadata": {},
   "outputs": [
    {
     "name": "stdout",
     "output_type": "stream",
     "text": [
      "Details: kwid Red 4L\n",
      "Car max speed is 240\n",
      "car has gear\n",
      "\n",
      "\n",
      "Details: scooty white 1L\n",
      "Vehicle max speed is 100\n",
      "scooty - no gear\n"
     ]
    }
   ],
   "source": [
    "class Vehicle:\n",
    "\n",
    "    def __init__(self, name, color, price):\n",
    "        self.name = name\n",
    "        self.color = color\n",
    "        self.price = price\n",
    "\n",
    "    def show(self):\n",
    "        print('Details:', self.name, self.color, self.price)\n",
    "\n",
    "    def speed(self):\n",
    "        print('Vehicle max speed is 100')\n",
    "\n",
    "    def gear(self):\n",
    "        print('scooty - no gear')\n",
    "        \n",
    "class Car(Vehicle):\n",
    "    def speed(self):\n",
    "        print('Car max speed is 240')\n",
    "\n",
    "    def gear(self):\n",
    "        print('car has gear')\n",
    "car = Car('kwid', 'Red', \"4L\")\n",
    "car.show()\n",
    "car.speed()\n",
    "car.gear()\n",
    "\n",
    "print(\"\\n\")\n",
    "\n",
    "vehicle = Vehicle('scooty', 'white', \"1L\")\n",
    "vehicle.show()\n",
    "vehicle.speed()\n",
    "vehicle.gear()"
   ]
  },
  {
   "cell_type": "code",
   "execution_count": null,
   "id": "c5d89fd7",
   "metadata": {},
   "outputs": [],
   "source": []
  }
 ],
 "metadata": {
  "kernelspec": {
   "display_name": "Python 3 (ipykernel)",
   "language": "python",
   "name": "python3"
  },
  "language_info": {
   "codemirror_mode": {
    "name": "ipython",
    "version": 3
   },
   "file_extension": ".py",
   "mimetype": "text/x-python",
   "name": "python",
   "nbconvert_exporter": "python",
   "pygments_lexer": "ipython3",
   "version": "3.9.13"
  }
 },
 "nbformat": 4,
 "nbformat_minor": 5
}
