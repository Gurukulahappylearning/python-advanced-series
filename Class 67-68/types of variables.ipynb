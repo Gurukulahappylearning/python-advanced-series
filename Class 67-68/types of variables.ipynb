{
 "cells": [
  {
   "cell_type": "code",
   "execution_count": 25,
   "id": "082f4a88",
   "metadata": {},
   "outputs": [
    {
     "name": "stdout",
     "output_type": "stream",
     "text": [
      "Name: john\n",
      "roll no: 23\n"
     ]
    }
   ],
   "source": [
    "class detail:\n",
    "    \n",
    "    def fun1(self,name,no):\n",
    "        self.name=name\n",
    "        self.no=no\n",
    "        print(\"Name:\",self.name)\n",
    "        print(\"roll no:\",self.no)\n",
    "        \n",
    "obj=detail()\n",
    "obj.fun1(\"john\",23)"
   ]
  },
  {
   "cell_type": "code",
   "execution_count": 26,
   "id": "a54e1fa1",
   "metadata": {},
   "outputs": [
    {
     "name": "stdout",
     "output_type": "stream",
     "text": [
      "Name: john\n",
      "Age: 23\n",
      "Name: little john\n",
      "Age: 24\n"
     ]
    }
   ],
   "source": [
    "class detail:\n",
    "    \n",
    "    def fun1(self,name,no):\n",
    "        self.name=name\n",
    "        self.no=no\n",
    "        print(\"Name:\",self.name)\n",
    "        print(\"Age:\",self.no)\n",
    "        \n",
    "obj=detail()\n",
    "obj.fun1(\"john\",23)\n",
    "\n",
    "\n",
    "obj2=detail()\n",
    "obj2.fun1(\"little john\",24)\n",
    "\n"
   ]
  },
  {
   "cell_type": "code",
   "execution_count": 27,
   "id": "8ad941c8",
   "metadata": {},
   "outputs": [
    {
     "name": "stdout",
     "output_type": "stream",
     "text": [
      "shiva 10 ABC school \n"
     ]
    }
   ],
   "source": [
    "# creating class variable and accessing outside a class\n",
    "class detail:\n",
    "    school_name = 'ABC school '\n",
    "    def __init__(self, name, no):\n",
    "        self.name = name\n",
    "        self.no=no\n",
    "        \n",
    "s1 = detail('shiva', 10)\n",
    "print(s1.name, s1.no, detail.school_name)\n"
   ]
  },
  {
   "cell_type": "code",
   "execution_count": 28,
   "id": "767fea5a",
   "metadata": {},
   "outputs": [
    {
     "name": "stdout",
     "output_type": "stream",
     "text": [
      "shiva 10 ABC school \n",
      "ABC school \n"
     ]
    }
   ],
   "source": [
    "#accessing outside a class\n",
    "class detail:\n",
    "    school_name = 'ABC school '\n",
    "    def __init__(self, name, no):\n",
    "        self.name = name\n",
    "        self.no=no\n",
    "\n",
    "s1 = detail('shiva', 10)\n",
    "print(s1.name, s1.no, detail.school_name)\n",
    "print(s1.school_name)"
   ]
  },
  {
   "cell_type": "code",
   "execution_count": 29,
   "id": "0a57028e",
   "metadata": {},
   "outputs": [
    {
     "name": "stdout",
     "output_type": "stream",
     "text": [
      "shiva 10 ABC school \n",
      "shiva 10 ABC school \n"
     ]
    }
   ],
   "source": [
    "# creating class variable and accessing outside a class\n",
    "class detail:\n",
    "    school_name = 'ABC school '\n",
    "    def __init__(self, name, no):\n",
    "        self.name = name\n",
    "        self.no=no\n",
    "        \n",
    "s1 = detail('shiva', 10)\n",
    "print(s1.name, s1.no, detail.school_name)\n",
    "\n",
    "s2 = detail('sakthi', 10)\n",
    "print(s1.name, s1.no, detail.school_name)"
   ]
  },
  {
   "cell_type": "code",
   "execution_count": 30,
   "id": "7270aa0b",
   "metadata": {},
   "outputs": [
    {
     "name": "stdout",
     "output_type": "stream",
     "text": [
      "ABC school \n",
      "ABC school \n",
      "shiva 10 ABC school \n"
     ]
    }
   ],
   "source": [
    "# accessing class variable within function\n",
    "class detail:\n",
    "    school_name = 'ABC school '\n",
    "    def __init__(self, name, no):\n",
    "        self.name = name\n",
    "        self.no=no\n",
    "        print(detail.school_name)\n",
    "        print(self.school_name)\n",
    "        \n",
    "s1 = detail('shiva', 10)\n",
    "print(s1.name, s1.no, detail.school_name)"
   ]
  },
  {
   "cell_type": "code",
   "execution_count": 31,
   "id": "6883ca11",
   "metadata": {},
   "outputs": [
    {
     "name": "stdout",
     "output_type": "stream",
     "text": [
      "sakthi 10 XYZ School\n",
      "shiva 10 XYZ School\n"
     ]
    }
   ],
   "source": [
    "# modifying class variable\n",
    "\n",
    "class detail:\n",
    "    school_name = 'ABC School '\n",
    "\n",
    "    def __init__(self, name, no):\n",
    "        self.name = name\n",
    "        self.no = no\n",
    "\n",
    "    def show(self):\n",
    "        print(self.name, self.no, detail.school_name)\n",
    "\n",
    "detail.school_name = 'XYZ School'\n",
    "\n",
    "s1 = detail('sakthi', 10)\n",
    "s1.show()\n",
    "\n",
    "s2 = detail('shiva', 10)\n",
    "s2.show()\n"
   ]
  },
  {
   "cell_type": "code",
   "execution_count": 32,
   "id": "6d88e7b9",
   "metadata": {
    "scrolled": true
   },
   "outputs": [
    {
     "name": "stdout",
     "output_type": "stream",
     "text": [
      "object s1\n",
      "sakthi 10 ABC School\n",
      "shiva 20 ABC School\n",
      "\n",
      "\n",
      "object s2\n",
      "sakthi 10 XYZ School\n",
      "shiva 20 ABC School\n"
     ]
    }
   ],
   "source": [
    "# modifying class variable\n",
    "\n",
    "class detail:\n",
    "    school_name = 'ABC School'\n",
    "    def __init__(self, name, no):\n",
    "        self.name = name\n",
    "        self.no = no\n",
    "s1 = detail('sakthi', 10)\n",
    "s2 = detail('shiva', 20)\n",
    "\n",
    "print('object s1')\n",
    "print(s1.name, s1.no, s1.school_name)\n",
    "print(s2.name, s2.no, s2.school_name)\n",
    "print(\"\\n\")\n",
    "\n",
    "s1.school_name = 'XYZ School'\n",
    "print('object s2')\n",
    "print(s1.name, s1.no, s1.school_name)\n",
    "print(s2.name, s2.no, s2.school_name)\n"
   ]
  },
  {
   "cell_type": "code",
   "execution_count": null,
   "id": "821bc989",
   "metadata": {},
   "outputs": [],
   "source": [
    "\n",
    "\n",
    "\n",
    "\n",
    "\n",
    "\n",
    "\n",
    "\n",
    "\n",
    "\n",
    "\n",
    "\n",
    "\n",
    "\n",
    "\n",
    "\n",
    "\n",
    "\n",
    "\n",
    "\n",
    "\n",
    "\n",
    "\n",
    "\n",
    "\n"
   ]
  },
  {
   "cell_type": "code",
   "execution_count": null,
   "id": "59b650a0",
   "metadata": {},
   "outputs": [],
   "source": []
  }
 ],
 "metadata": {
  "kernelspec": {
   "display_name": "Python 3 (ipykernel)",
   "language": "python",
   "name": "python3"
  },
  "language_info": {
   "codemirror_mode": {
    "name": "ipython",
    "version": 3
   },
   "file_extension": ".py",
   "mimetype": "text/x-python",
   "name": "python",
   "nbconvert_exporter": "python",
   "pygments_lexer": "ipython3",
   "version": "3.9.13"
  }
 },
 "nbformat": 4,
 "nbformat_minor": 5
}
