{
 "cells": [
  {
   "cell_type": "code",
   "execution_count": null,
   "id": "7bd2b908",
   "metadata": {},
   "outputs": [],
   "source": [
    "class a:\n",
    "    def fun(self,a):\n",
    "        print(a)\n",
    "    def fun(self,a,b):\n",
    "        print(a+b)\n",
    "    def fun(self,a,b,c):\n",
    "        print(a+b+c)\n",
    "obj=a()\n",
    "obj.fun(10,20)       "
   ]
  },
  {
   "cell_type": "code",
   "execution_count": 1,
   "id": "f0eee667",
   "metadata": {},
   "outputs": [
    {
     "name": "stdout",
     "output_type": "stream",
     "text": [
      "Requirement already satisfied: multipledispatch in c:\\users\\suvetha\\anaconda3\\lib\\site-packages (0.6.0)\n",
      "Requirement already satisfied: six in c:\\users\\suvetha\\anaconda3\\lib\\site-packages (from multipledispatch) (1.16.0)\n"
     ]
    }
   ],
   "source": [
    "!pip install multipledispatch"
   ]
  },
  {
   "cell_type": "code",
   "execution_count": 2,
   "id": "b4b6d7be",
   "metadata": {},
   "outputs": [
    {
     "name": "stdout",
     "output_type": "stream",
     "text": [
      "7\n",
      "60\n"
     ]
    }
   ],
   "source": [
    "from multipledispatch import dispatch  \n",
    "\n",
    "@dispatch(int, int)  \n",
    "def add(a,b):\n",
    "    return a+b\n",
    "\n",
    "@dispatch(int, int, int)  \n",
    "def add(a,b,c):\n",
    "    return a+b+ c\n",
    "\n",
    "print(add(3,4))\n",
    "print(add(10,20,30))\n"
   ]
  },
  {
   "cell_type": "code",
   "execution_count": 17,
   "id": "7f4924d3",
   "metadata": {},
   "outputs": [
    {
     "name": "stdout",
     "output_type": "stream",
     "text": [
      "30\n",
      "60\n"
     ]
    }
   ],
   "source": [
    "\n",
    "class a:\n",
    "    @dispatch(int,int)  \n",
    "    def add(a,b):\n",
    "        print(a+b)\n",
    "\n",
    "    @dispatch(int, int, int)  \n",
    "    def add(a,b,c):\n",
    "        print(a+b+c)\n",
    "obj=a()\n",
    "obj.add(10,20)\n",
    "obj.add(10,20,30)"
   ]
  },
  {
   "cell_type": "code",
   "execution_count": 15,
   "id": "90a04e40",
   "metadata": {},
   "outputs": [
    {
     "name": "stdout",
     "output_type": "stream",
     "text": [
      "30\n"
     ]
    },
    {
     "data": {
      "text/plain": [
       "6000"
      ]
     },
     "execution_count": 15,
     "metadata": {},
     "output_type": "execute_result"
    }
   ],
   "source": [
    "class a:\n",
    "    @dispatch(int,int)  \n",
    "    def add(a,b):\n",
    "        print(a+b)\n",
    "\n",
    "    @dispatch(int, int, int)  \n",
    "    def add(a,b,c):\n",
    "        return a*b*c\n",
    "\n",
    "obj=a()\n",
    "obj.add(10,20)\n",
    "obj.add(10,20,30)"
   ]
  },
  {
   "cell_type": "code",
   "execution_count": 37,
   "id": "1a8c36eb",
   "metadata": {},
   "outputs": [
    {
     "name": "stdout",
     "output_type": "stream",
     "text": [
      "13.440000000000001\n",
      "30\n",
      "60\n"
     ]
    }
   ],
   "source": [
    "class a:\n",
    "    @dispatch(int, int)  \n",
    "    def add(a, b):\n",
    "        print(a+b)\n",
    "\n",
    "    @dispatch(float,float)  \n",
    "    def add(a, b):\n",
    "        print(a*b)\n",
    "    \n",
    "    @dispatch(int, int, int)  \n",
    "    def add(a,b,c):\n",
    "        print(a+b+c)\n",
    "\n",
    "obj=a()\n",
    "obj.add(3.2,4.2)\n",
    "obj.add(10,20)\n",
    "obj.add(10,20,30)\n"
   ]
  },
  {
   "cell_type": "code",
   "execution_count": 42,
   "id": "647725f2",
   "metadata": {},
   "outputs": [
    {
     "name": "stdout",
     "output_type": "stream",
     "text": [
      "happy learning\n",
      "13.440000000000001\n",
      "60.5\n"
     ]
    }
   ],
   "source": [
    "class a:\n",
    "   \n",
    "    @dispatch(float,float)  \n",
    "    def add(a, b):\n",
    "        print(a*b)\n",
    "\n",
    "    @dispatch(int, int, float)  \n",
    "    def add(a,b,c):\n",
    "        print(a+b+c)\n",
    "\n",
    "    @dispatch(str,str)  \n",
    "    def add(a,b):\n",
    "        print(a+b)\n",
    "\n",
    "obj=a()\n",
    "obj.add(\"happy \" , \"learning\")\n",
    "obj.add(3.2,4.2)\n",
    "obj.add(10,20,30.5)"
   ]
  },
  {
   "cell_type": "code",
   "execution_count": null,
   "id": "8106e0cd",
   "metadata": {},
   "outputs": [],
   "source": []
  }
 ],
 "metadata": {
  "kernelspec": {
   "display_name": "Python 3 (ipykernel)",
   "language": "python",
   "name": "python3"
  },
  "language_info": {
   "codemirror_mode": {
    "name": "ipython",
    "version": 3
   },
   "file_extension": ".py",
   "mimetype": "text/x-python",
   "name": "python",
   "nbconvert_exporter": "python",
   "pygments_lexer": "ipython3",
   "version": "3.9.13"
  }
 },
 "nbformat": 4,
 "nbformat_minor": 5
}
