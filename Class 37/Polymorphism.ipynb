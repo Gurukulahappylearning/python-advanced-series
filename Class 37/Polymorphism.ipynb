{
 "cells": [
  {
   "cell_type": "code",
   "execution_count": null,
   "id": "ab7f62a2",
   "metadata": {},
   "outputs": [],
   "source": [
    "# what is polymorphism"
   ]
  },
  {
   "cell_type": "code",
   "execution_count": null,
   "id": "b455cd7a",
   "metadata": {},
   "outputs": [],
   "source": [
    "#Example of Polymorphism in Python "
   ]
  },
  {
   "cell_type": "code",
   "execution_count": 1,
   "id": "5c6f81fa",
   "metadata": {
    "scrolled": true
   },
   "outputs": [
    {
     "name": "stdout",
     "output_type": "stream",
     "text": [
      "the added value: 30\n"
     ]
    }
   ],
   "source": [
    "#Polymorphism in ‘+’operators\n",
    "\n",
    "num1=10\n",
    "num2=20\n",
    "print(\"the added value:\",num1+num2)"
   ]
  },
  {
   "cell_type": "code",
   "execution_count": 2,
   "id": "75db687d",
   "metadata": {},
   "outputs": [
    {
     "name": "stdout",
     "output_type": "stream",
     "text": [
      "the added value: happy learning\n"
     ]
    }
   ],
   "source": [
    "num1=\"happy \"\n",
    "num2=\"learning\"\n",
    "print(\"the added value:\",num1+num2)"
   ]
  },
  {
   "cell_type": "code",
   "execution_count": 3,
   "id": "d4c5a280",
   "metadata": {},
   "outputs": [
    {
     "name": "stdout",
     "output_type": "stream",
     "text": [
      "the added value: 200\n"
     ]
    }
   ],
   "source": [
    "#Polymorphism in ‘*’operators\n",
    "\n",
    "\n",
    "num1=10\n",
    "num2=20\n",
    "print(\"the added value:\",num1*num2)"
   ]
  },
  {
   "cell_type": "code",
   "execution_count": 4,
   "id": "2dbd09c3",
   "metadata": {},
   "outputs": [
    {
     "name": "stdout",
     "output_type": "stream",
     "text": [
      "the added value:  happy learning happy learning\n"
     ]
    }
   ],
   "source": [
    "num1=\" happy learning\"\n",
    "num2=2\n",
    "print(\"the added value:\",num1*num2)"
   ]
  },
  {
   "cell_type": "code",
   "execution_count": 5,
   "id": "ac917aad",
   "metadata": {
    "scrolled": true
   },
   "outputs": [
    {
     "name": "stdout",
     "output_type": "stream",
     "text": [
      "14\n"
     ]
    }
   ],
   "source": [
    "#Polymorphism in Functions\n",
    "\n",
    "print(len(\"Happy Learning\"))\n"
   ]
  },
  {
   "cell_type": "code",
   "execution_count": 6,
   "id": "5670822b",
   "metadata": {},
   "outputs": [
    {
     "name": "stdout",
     "output_type": "stream",
     "text": [
      "4\n"
     ]
    }
   ],
   "source": [
    "print(len([\"Python\", \"Gurukula\", \"Happy\",\"Learning\"]))"
   ]
  },
  {
   "cell_type": "code",
   "execution_count": 7,
   "id": "ccebc2a6",
   "metadata": {},
   "outputs": [
    {
     "name": "stdout",
     "output_type": "stream",
     "text": [
      "2\n"
     ]
    }
   ],
   "source": [
    "print(len({\"Name\": \"Gurukula\", \"Course\": \"Python advanced series\"}))"
   ]
  },
  {
   "cell_type": "code",
   "execution_count": null,
   "id": "87eee658",
   "metadata": {},
   "outputs": [],
   "source": [
    "#Polymorphism in Classes"
   ]
  },
  {
   "cell_type": "code",
   "execution_count": 13,
   "id": "09e8ee05",
   "metadata": {},
   "outputs": [
    {
     "name": "stdout",
     "output_type": "stream",
     "text": [
      "name: sakthi\n",
      "age: 20\n",
      "name: shiva\n",
      "age: 25\n"
     ]
    }
   ],
   "source": [
    "class employee1:\n",
    "    def info(self):\n",
    "        name = \"sakthi\"\n",
    "        age=20\n",
    "        print(\"name:\",name)\n",
    "        print(\"age:\",age)\n",
    "        \n",
    "class employee2:\n",
    "    def info(self):\n",
    "        name = \"shiva\"\n",
    "        age=25\n",
    "        print(\"name:\",name)\n",
    "        print(\"age:\",age)\n",
    "        \n",
    "obj_emp = employee1()\n",
    "obj_adm = employee2()\n",
    "obj_emp.info()\n",
    "obj_adm.info()"
   ]
  },
  {
   "cell_type": "code",
   "execution_count": null,
   "id": "f42b9de5",
   "metadata": {},
   "outputs": [],
   "source": []
  },
  {
   "cell_type": "code",
   "execution_count": null,
   "id": "dd278a65",
   "metadata": {},
   "outputs": [],
   "source": []
  },
  {
   "cell_type": "code",
   "execution_count": null,
   "id": "cdfa02c6",
   "metadata": {},
   "outputs": [],
   "source": []
  },
  {
   "cell_type": "code",
   "execution_count": null,
   "id": "44944b9b",
   "metadata": {},
   "outputs": [],
   "source": []
  }
 ],
 "metadata": {
  "kernelspec": {
   "display_name": "Python 3 (ipykernel)",
   "language": "python",
   "name": "python3"
  },
  "language_info": {
   "codemirror_mode": {
    "name": "ipython",
    "version": 3
   },
   "file_extension": ".py",
   "mimetype": "text/x-python",
   "name": "python",
   "nbconvert_exporter": "python",
   "pygments_lexer": "ipython3",
   "version": "3.9.13"
  }
 },
 "nbformat": 4,
 "nbformat_minor": 5
}
