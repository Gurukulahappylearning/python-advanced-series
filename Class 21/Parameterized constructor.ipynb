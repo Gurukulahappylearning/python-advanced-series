{
 "cells": [
  {
   "cell_type": "code",
   "execution_count": 18,
   "id": "4e65fa50",
   "metadata": {
    "scrolled": true
   },
   "outputs": [
    {
     "name": "stdout",
     "output_type": "stream",
     "text": [
      "my name is: john\n",
      "my age is: 23\n",
      "my name is: suvetha\n",
      "my age is: 27\n"
     ]
    }
   ],
   "source": [
    "class student:\n",
    "    def __init__(self,name,age):\n",
    "        self.name=name\n",
    "        self.age=age\n",
    "    def print1(self):\n",
    "        print(\"my name is:\",self.name)\n",
    "        print(\"my age is:\",self.age)\n",
    "stu1=student(\"john\",23)\n",
    "\n",
    "stu2=student(\"suvetha\",27)\n",
    "\n",
    "stu1.print1()\n",
    "stu2.print1()"
   ]
  },
  {
   "cell_type": "code",
   "execution_count": null,
   "id": "61fbf9f3",
   "metadata": {},
   "outputs": [],
   "source": [
    "#types of arguments\n",
    "#position\n",
    "#keyword\n",
    "#default\n",
    "#variable length"
   ]
  },
  {
   "cell_type": "code",
   "execution_count": 23,
   "id": "ae57a3b2",
   "metadata": {},
   "outputs": [
    {
     "name": "stdout",
     "output_type": "stream",
     "text": [
      "my name is: john\n",
      "my age is: 23\n"
     ]
    }
   ],
   "source": [
    "#position\n",
    "class student:\n",
    "    def __init__(self,name,age):\n",
    "        self.name=name\n",
    "        self.age=age\n",
    "    def print1(self):\n",
    "        print(\"my name is:\",self.name)\n",
    "        print(\"my age is:\",self.age)\n",
    "stu1=student(\"john\",23)\n",
    "stu1.print1()\n"
   ]
  },
  {
   "cell_type": "code",
   "execution_count": 29,
   "id": "5e978f2a",
   "metadata": {},
   "outputs": [
    {
     "name": "stdout",
     "output_type": "stream",
     "text": [
      "my name is: john\n",
      "my age is: 30\n"
     ]
    }
   ],
   "source": [
    "\n",
    "#default\n",
    "class student:\n",
    "    def __init__(self,name=\"john\",age=30):\n",
    "        self.name=name\n",
    "        self.age=age\n",
    "    def print1(self):\n",
    "        print(\"my name is:\",self.name)\n",
    "        print(\"my age is:\",self.age)\n",
    "stu1=student()\n",
    "stu1.print1()"
   ]
  },
  {
   "cell_type": "code",
   "execution_count": 30,
   "id": "4bc0735f",
   "metadata": {},
   "outputs": [
    {
     "name": "stdout",
     "output_type": "stream",
     "text": [
      "sum: 100\n"
     ]
    }
   ],
   "source": [
    "class test:\n",
    "    z=0\n",
    "    def __init__(self,x,*y):\n",
    "        z=x\n",
    "        for i in y:\n",
    "            z=z+i\n",
    "        print(\"sum:\",z)\n",
    "obj=test(10,20,30,40)"
   ]
  },
  {
   "cell_type": "code",
   "execution_count": null,
   "id": "ffea9ba1",
   "metadata": {},
   "outputs": [],
   "source": []
  },
  {
   "cell_type": "code",
   "execution_count": null,
   "id": "1c9a49d1",
   "metadata": {},
   "outputs": [],
   "source": []
  },
  {
   "cell_type": "code",
   "execution_count": null,
   "id": "91e3fc40",
   "metadata": {},
   "outputs": [],
   "source": []
  },
  {
   "cell_type": "code",
   "execution_count": null,
   "id": "e0b442a9",
   "metadata": {},
   "outputs": [],
   "source": []
  },
  {
   "cell_type": "code",
   "execution_count": null,
   "id": "afc865fe",
   "metadata": {},
   "outputs": [],
   "source": []
  },
  {
   "cell_type": "code",
   "execution_count": null,
   "id": "30ec4274",
   "metadata": {},
   "outputs": [],
   "source": []
  },
  {
   "cell_type": "code",
   "execution_count": null,
   "id": "869efd22",
   "metadata": {},
   "outputs": [],
   "source": []
  },
  {
   "cell_type": "code",
   "execution_count": 22,
   "id": "6dd250ee",
   "metadata": {},
   "outputs": [
    {
     "name": "stdout",
     "output_type": "stream",
     "text": [
      "Area of triangle: 35.0\n"
     ]
    }
   ],
   "source": []
  }
 ],
 "metadata": {
  "kernelspec": {
   "display_name": "Python 3 (ipykernel)",
   "language": "python",
   "name": "python3"
  },
  "language_info": {
   "codemirror_mode": {
    "name": "ipython",
    "version": 3
   },
   "file_extension": ".py",
   "mimetype": "text/x-python",
   "name": "python",
   "nbconvert_exporter": "python",
   "pygments_lexer": "ipython3",
   "version": "3.9.13"
  }
 },
 "nbformat": 4,
 "nbformat_minor": 5
}
