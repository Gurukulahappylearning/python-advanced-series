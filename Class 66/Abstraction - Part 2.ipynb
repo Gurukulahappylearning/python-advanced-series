{
 "cells": [
  {
   "cell_type": "code",
   "execution_count": 25,
   "id": "6dea3b50",
   "metadata": {},
   "outputs": [
    {
     "name": "stdout",
     "output_type": "stream",
     "text": [
      "i am from class b\n"
     ]
    }
   ],
   "source": [
    "from abc import ABC,abstractmethod\n",
    "\n",
    "class a(ABC):\n",
    "    @abstractmethod\n",
    "    def method1(self):\n",
    "        print(\"i am from class A\")\n",
    "        \n",
    "    \n",
    "class b(a):\n",
    "    def method1(self):\n",
    "        print(\"i am from class b\")\n",
    "obj=b()\n",
    "obj.method1()"
   ]
  },
  {
   "cell_type": "code",
   "execution_count": 23,
   "id": "de34fa8a",
   "metadata": {},
   "outputs": [
    {
     "name": "stdout",
     "output_type": "stream",
     "text": [
      "i am from class b\n",
      "i am from method 2\n"
     ]
    }
   ],
   "source": [
    "from abc import ABC,abstractmethod\n",
    "\n",
    "class a(ABC):\n",
    "    @abstractmethod\n",
    "    def method1(self):\n",
    "        print(\"i am from class A\")\n",
    "        pass\n",
    "    \n",
    "    def method2(self):\n",
    "        print(\"i am from method 2\")\n",
    "\n",
    "class b(a):\n",
    "    def method1(self):\n",
    "        print(\"i am from class b\")\n",
    "obj=b()\n",
    "obj.method1()\n",
    "obj.method2()"
   ]
  },
  {
   "cell_type": "code",
   "execution_count": 26,
   "id": "9e387f45",
   "metadata": {},
   "outputs": [
    {
     "ename": "TypeError",
     "evalue": "Can't instantiate abstract class b with abstract method method2",
     "output_type": "error",
     "traceback": [
      "\u001b[1;31m---------------------------------------------------------------------------\u001b[0m",
      "\u001b[1;31mTypeError\u001b[0m                                 Traceback (most recent call last)",
      "\u001b[1;32m~\\AppData\\Local\\Temp\\ipykernel_20228\\302524068.py\u001b[0m in \u001b[0;36m<module>\u001b[1;34m\u001b[0m\n\u001b[0;32m     13\u001b[0m         \u001b[0mprint\u001b[0m\u001b[1;33m(\u001b[0m\u001b[1;34m\"i am method 1\"\u001b[0m\u001b[1;33m)\u001b[0m\u001b[1;33m\u001b[0m\u001b[1;33m\u001b[0m\u001b[0m\n\u001b[0;32m     14\u001b[0m \u001b[1;33m\u001b[0m\u001b[0m\n\u001b[1;32m---> 15\u001b[1;33m \u001b[0mobj\u001b[0m\u001b[1;33m=\u001b[0m\u001b[0mb\u001b[0m\u001b[1;33m(\u001b[0m\u001b[1;33m)\u001b[0m\u001b[1;33m\u001b[0m\u001b[1;33m\u001b[0m\u001b[0m\n\u001b[0m\u001b[0;32m     16\u001b[0m \u001b[0mobj\u001b[0m\u001b[1;33m.\u001b[0m\u001b[0mmethod1\u001b[0m\u001b[1;33m(\u001b[0m\u001b[1;33m)\u001b[0m\u001b[1;33m\u001b[0m\u001b[1;33m\u001b[0m\u001b[0m\n",
      "\u001b[1;31mTypeError\u001b[0m: Can't instantiate abstract class b with abstract method method2"
     ]
    }
   ],
   "source": [
    "from abc import ABC,abstractmethod\n",
    "\n",
    "class a(ABC):\n",
    "    @abstractmethod\n",
    "    def method1(self):\n",
    "        pass\n",
    "    @abstractmethod\n",
    "    def method2(self):\n",
    "        pass\n",
    "    \n",
    "class b(a):\n",
    "    def method1(self):\n",
    "        print(\"i am method 1\")\n",
    "\n",
    "obj=b()\n",
    "obj.method1()"
   ]
  },
  {
   "cell_type": "code",
   "execution_count": 27,
   "id": "744d058c",
   "metadata": {},
   "outputs": [
    {
     "name": "stdout",
     "output_type": "stream",
     "text": [
      "i am method 1\n"
     ]
    }
   ],
   "source": [
    "from abc import ABC,abstractmethod\n",
    "\n",
    "class a(ABC):\n",
    "    @abstractmethod\n",
    "    def method1(self):\n",
    "        pass\n",
    "    @abstractmethod\n",
    "    def method2(self):\n",
    "        pass\n",
    "    \n",
    "class b(a):\n",
    "    def method1(self):\n",
    "        print(\"i am method 1\")\n",
    "        \n",
    "    def method2(self):\n",
    "        print(\"i am method 2\")\n",
    "obj=b()\n",
    "obj.method1()"
   ]
  },
  {
   "cell_type": "code",
   "execution_count": 29,
   "id": "5ccd4349",
   "metadata": {},
   "outputs": [
    {
     "ename": "TypeError",
     "evalue": "Can't instantiate abstract class c with abstract method method1",
     "output_type": "error",
     "traceback": [
      "\u001b[1;31m---------------------------------------------------------------------------\u001b[0m",
      "\u001b[1;31mTypeError\u001b[0m                                 Traceback (most recent call last)",
      "\u001b[1;32m~\\AppData\\Local\\Temp\\ipykernel_20228\\724612533.py\u001b[0m in \u001b[0;36m<module>\u001b[1;34m\u001b[0m\n\u001b[0;32m     16\u001b[0m     \u001b[1;32mdef\u001b[0m \u001b[0mmethod2\u001b[0m\u001b[1;33m(\u001b[0m\u001b[0mself\u001b[0m\u001b[1;33m)\u001b[0m\u001b[1;33m:\u001b[0m\u001b[1;33m\u001b[0m\u001b[1;33m\u001b[0m\u001b[0m\n\u001b[0;32m     17\u001b[0m         \u001b[0mprint\u001b[0m\u001b[1;33m(\u001b[0m\u001b[1;34m\"i am method 2\"\u001b[0m\u001b[1;33m)\u001b[0m\u001b[1;33m\u001b[0m\u001b[1;33m\u001b[0m\u001b[0m\n\u001b[1;32m---> 18\u001b[1;33m \u001b[0mobj\u001b[0m\u001b[1;33m=\u001b[0m\u001b[0mc\u001b[0m\u001b[1;33m(\u001b[0m\u001b[1;33m)\u001b[0m\u001b[1;33m\u001b[0m\u001b[1;33m\u001b[0m\u001b[0m\n\u001b[0m\u001b[0;32m     19\u001b[0m \u001b[0mobj\u001b[0m\u001b[1;33m.\u001b[0m\u001b[0mmethod2\u001b[0m\u001b[1;33m(\u001b[0m\u001b[1;33m)\u001b[0m\u001b[1;33m\u001b[0m\u001b[1;33m\u001b[0m\u001b[0m\n",
      "\u001b[1;31mTypeError\u001b[0m: Can't instantiate abstract class c with abstract method method1"
     ]
    }
   ],
   "source": [
    "from abc import ABC,abstractmethod\n",
    "\n",
    "class a(ABC):\n",
    "    @abstractmethod\n",
    "    def method1(self):\n",
    "        pass\n",
    "    @abstractmethod\n",
    "    def method2(self):\n",
    "        pass\n",
    "    \n",
    "class b(a):\n",
    "    def method1(self):\n",
    "        print(\"i am method 1\")\n",
    "        \n",
    "class c(a):\n",
    "    def method2(self):\n",
    "        print(\"i am method 2\")\n",
    "obj=c()\n",
    "obj.method2()"
   ]
  },
  {
   "cell_type": "code",
   "execution_count": 30,
   "id": "ec9a7bf2",
   "metadata": {},
   "outputs": [
    {
     "name": "stdout",
     "output_type": "stream",
     "text": [
      "i am from abstract method\n",
      "i am from derived class...\n"
     ]
    }
   ],
   "source": [
    "from abc import ABC,abstractmethod\n",
    " \n",
    "class abstract(ABC):\n",
    " \n",
    "    @abstractmethod\n",
    "    def one(self):\n",
    "        print(\"i am from abstract method\")\n",
    "        pass\n",
    "    \n",
    "class derived(abstract):\n",
    "    def one(self):\n",
    "        super().one()\n",
    "        print(\"i am from derived class...\")\n",
    "obj=derived()\n",
    "obj.one()"
   ]
  },
  {
   "cell_type": "code",
   "execution_count": 31,
   "id": "12a25b94",
   "metadata": {},
   "outputs": [
    {
     "name": "stdout",
     "output_type": "stream",
     "text": [
      "I have 3 sides\n",
      "I have 4 sides\n",
      "I have 5 sides\n"
     ]
    }
   ],
   "source": [
    "from abc import ABC, abstractmethod\n",
    "\n",
    "class sides(ABC):\n",
    "    @abstractmethod\n",
    "    def number(self):\n",
    "        pass\n",
    "\n",
    "class triangle(sides):\n",
    "    def number(self):\n",
    "        print(\"I have 3 sides\")\n",
    "\n",
    "class square(sides):\n",
    "    def number(self):\n",
    "        print(\"I have 4 sides\")\n",
    "        \n",
    "class pentagon(sides):\n",
    "    def number(self):\n",
    "        print(\"I have 5 sides\")\n",
    "\n",
    "t = triangle()\n",
    "t.number()\n",
    "\n",
    "s = square()\n",
    "s.number()\n",
    "\n",
    "p= pentagon()\n",
    "p.number()"
   ]
  }
 ],
 "metadata": {
  "kernelspec": {
   "display_name": "Python 3 (ipykernel)",
   "language": "python",
   "name": "python3"
  },
  "language_info": {
   "codemirror_mode": {
    "name": "ipython",
    "version": 3
   },
   "file_extension": ".py",
   "mimetype": "text/x-python",
   "name": "python",
   "nbconvert_exporter": "python",
   "pygments_lexer": "ipython3",
   "version": "3.9.13"
  }
 },
 "nbformat": 4,
 "nbformat_minor": 5
}
