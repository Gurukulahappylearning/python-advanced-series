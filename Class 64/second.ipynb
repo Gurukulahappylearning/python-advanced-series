{
 "cells": [
  {
   "cell_type": "code",
   "execution_count": null,
   "id": "72acf53a",
   "metadata": {},
   "outputs": [],
   "source": [
    "def greeting():\n",
    "    print(\"good afternoon\")\n",
    "\n",
    "def message_new():\n",
    "    print(\"how are you\")\n",
    "    \n",
    "def main():\n",
    "    greeting()\n",
    "    message_new()\n",
    "main()\n",
    "\n",
    "print(\"second:\",__name__)"
   ]
  },
  {
   "cell_type": "code",
   "execution_count": 1,
   "id": "a26f6b14",
   "metadata": {},
   "outputs": [
    {
     "name": "stdout",
     "output_type": "stream",
     "text": [
      "good morning\n",
      "have a nice day\n",
      "first: first\n",
      "good afternoon\n",
      "have a nice day\n",
      "how are you\n",
      "second: __main__\n"
     ]
    }
   ],
   "source": [
    "from first import message\n",
    "\n",
    "def greeting():\n",
    "    print(\"good afternoon\")\n",
    "\n",
    "def message_new():\n",
    "    message()\n",
    "    print(\"how are you\")\n",
    "    \n",
    "def main():\n",
    "    greeting()\n",
    "    message_new()\n",
    "main()\n",
    "\n",
    "print(\"second:\",__name__)"
   ]
  },
  {
   "cell_type": "code",
   "execution_count": 2,
   "id": "5dba966a",
   "metadata": {},
   "outputs": [
    {
     "name": "stdout",
     "output_type": "stream",
     "text": [
      "good afternoon\n",
      "have a nice day\n",
      "how are you\n",
      "second: __main__\n"
     ]
    }
   ],
   "source": [
    "from first import message\n",
    "\n",
    "def greeting():\n",
    "    print(\"good afternoon\")\n",
    "\n",
    "def message_new():\n",
    "    message()\n",
    "    print(\"how are you\")\n",
    "    \n",
    "def main():\n",
    "    greeting()\n",
    "    message_new()\n",
    "main()\n",
    "\n",
    "print(\"second:\",__name__)"
   ]
  }
 ],
 "metadata": {
  "kernelspec": {
   "display_name": "Python 3 (ipykernel)",
   "language": "python",
   "name": "python3"
  },
  "language_info": {
   "codemirror_mode": {
    "name": "ipython",
    "version": 3
   },
   "file_extension": ".py",
   "mimetype": "text/x-python",
   "name": "python",
   "nbconvert_exporter": "python",
   "pygments_lexer": "ipython3",
   "version": "3.9.13"
  }
 },
 "nbformat": 4,
 "nbformat_minor": 5
}
