{
 "cells": [
  {
   "cell_type": "code",
   "execution_count": null,
   "id": "7a241d1a",
   "metadata": {},
   "outputs": [],
   "source": [
    "#syntax\n",
    "\n",
    "class person():"
   ]
  },
  {
   "cell_type": "code",
   "execution_count": 1,
   "id": "16c17962",
   "metadata": {},
   "outputs": [
    {
     "name": "stdout",
     "output_type": "stream",
     "text": [
      "hai\n"
     ]
    }
   ],
   "source": [
    "#class with print\n",
    "\n",
    "class person():\n",
    "    print(\"hai\")\n"
   ]
  },
  {
   "cell_type": "code",
   "execution_count": 2,
   "id": "eba07eb2",
   "metadata": {},
   "outputs": [
    {
     "name": "stdout",
     "output_type": "stream",
     "text": [
      "hai\n",
      "<__main__.person object at 0x000001E98E17CCA0>\n"
     ]
    }
   ],
   "source": [
    "class person():\n",
    "    print(\"hai\")\n",
    "print(person())"
   ]
  },
  {
   "cell_type": "code",
   "execution_count": 3,
   "id": "8111f782",
   "metadata": {},
   "outputs": [
    {
     "name": "stdout",
     "output_type": "stream",
     "text": [
      "hai\n",
      "10\n"
     ]
    }
   ],
   "source": [
    "#class with variable\n",
    "\n",
    "class person():\n",
    "    print(\"hai\")\n",
    "    a=10\n",
    "    print(a)"
   ]
  },
  {
   "cell_type": "code",
   "execution_count": 4,
   "id": "888488c9",
   "metadata": {},
   "outputs": [
    {
     "name": "stdout",
     "output_type": "stream",
     "text": [
      "hai\n"
     ]
    },
    {
     "ename": "NameError",
     "evalue": "name 'a' is not defined",
     "output_type": "error",
     "traceback": [
      "\u001b[1;31m---------------------------------------------------------------------------\u001b[0m",
      "\u001b[1;31mNameError\u001b[0m                                 Traceback (most recent call last)",
      "\u001b[1;32m~\\AppData\\Local\\Temp\\ipykernel_2712\\4155317361.py\u001b[0m in \u001b[0;36m<module>\u001b[1;34m\u001b[0m\n\u001b[0;32m      2\u001b[0m     \u001b[0mprint\u001b[0m\u001b[1;33m(\u001b[0m\u001b[1;34m\"hai\"\u001b[0m\u001b[1;33m)\u001b[0m\u001b[1;33m\u001b[0m\u001b[1;33m\u001b[0m\u001b[0m\n\u001b[0;32m      3\u001b[0m     \u001b[0ma\u001b[0m\u001b[1;33m=\u001b[0m\u001b[1;36m10\u001b[0m\u001b[1;33m\u001b[0m\u001b[1;33m\u001b[0m\u001b[0m\n\u001b[1;32m----> 4\u001b[1;33m \u001b[0mprint\u001b[0m\u001b[1;33m(\u001b[0m\u001b[0ma\u001b[0m\u001b[1;33m)\u001b[0m\u001b[1;33m\u001b[0m\u001b[1;33m\u001b[0m\u001b[0m\n\u001b[0m",
      "\u001b[1;31mNameError\u001b[0m: name 'a' is not defined"
     ]
    }
   ],
   "source": [
    "\n",
    "class person():\n",
    "    print(\"hai\")\n",
    "    a=10\n",
    "print(a)"
   ]
  },
  {
   "cell_type": "code",
   "execution_count": 5,
   "id": "972b5cf7",
   "metadata": {},
   "outputs": [
    {
     "name": "stdout",
     "output_type": "stream",
     "text": [
      "hai\n",
      "10\n"
     ]
    }
   ],
   "source": [
    "#creating object\n",
    "\n",
    "class person():\n",
    "    print(\"hai\")\n",
    "    a=10\n",
    "obj=person()\n",
    "print(obj.a)"
   ]
  },
  {
   "cell_type": "code",
   "execution_count": 6,
   "id": "da4d9c37",
   "metadata": {
    "scrolled": true
   },
   "outputs": [
    {
     "name": "stdout",
     "output_type": "stream",
     "text": [
      "hai\n",
      "10\n",
      "<class '__main__.person'>\n"
     ]
    }
   ],
   "source": [
    "# class and object\n",
    "class person():\n",
    "    print(\"hai\")\n",
    "    a=10\n",
    "obj=person()\n",
    "print(obj.a)\n",
    "print(type(obj))"
   ]
  },
  {
   "cell_type": "code",
   "execution_count": 7,
   "id": "b064bf12",
   "metadata": {},
   "outputs": [
    {
     "name": "stdout",
     "output_type": "stream",
     "text": [
      "hai\n",
      "10\n",
      "10\n"
     ]
    }
   ],
   "source": [
    "class person():\n",
    "    print(\"hai\")\n",
    "    a=10\n",
    "obj=person()\n",
    "obj2=person()\n",
    "print(obj.a)\n",
    "print(obj2.a)"
   ]
  }
 ],
 "metadata": {
  "kernelspec": {
   "display_name": "Python 3 (ipykernel)",
   "language": "python",
   "name": "python3"
  },
  "language_info": {
   "codemirror_mode": {
    "name": "ipython",
    "version": 3
   },
   "file_extension": ".py",
   "mimetype": "text/x-python",
   "name": "python",
   "nbconvert_exporter": "python",
   "pygments_lexer": "ipython3",
   "version": "3.9.13"
  }
 },
 "nbformat": 4,
 "nbformat_minor": 5
}
