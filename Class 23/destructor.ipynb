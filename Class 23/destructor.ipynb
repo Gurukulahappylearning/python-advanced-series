{
 "cells": [
  {
   "cell_type": "code",
   "execution_count": null,
   "id": "15468896",
   "metadata": {},
   "outputs": [],
   "source": [
    "#what is destructor"
   ]
  },
  {
   "cell_type": "code",
   "execution_count": null,
   "id": "7ef6d1c0",
   "metadata": {},
   "outputs": [],
   "source": [
    "#Example"
   ]
  },
  {
   "cell_type": "code",
   "execution_count": 9,
   "id": "8e565f65",
   "metadata": {},
   "outputs": [
    {
     "name": "stdout",
     "output_type": "stream",
     "text": [
      "object created\n",
      "object deleted\n"
     ]
    }
   ],
   "source": [
    "class test:\n",
    "    def __init__(self):\n",
    "        print(\"object created\")\n",
    "    def __del__(self):\n",
    "        print(\"object deleted\")\n",
    "w=test()\n",
    "del w"
   ]
  },
  {
   "cell_type": "code",
   "execution_count": 10,
   "id": "5652b6ae",
   "metadata": {},
   "outputs": [
    {
     "name": "stdout",
     "output_type": "stream",
     "text": [
      "the name is: sakthi\n",
      "the age is: 20\n",
      "The destructor is called.\n"
     ]
    }
   ],
   "source": [
    "class person:  \n",
    "    \n",
    "     \n",
    "    def __init__(self,name,age):\n",
    "        self.name=name\n",
    "        self.age=age\n",
    "        print(\"the name is:\",self.name)\n",
    "        print(\"the age is:\",self.age)\n",
    "    def __del__(self):  \n",
    "        print('The destructor is called.') \n",
    "        \n",
    "object1 = person(\"sakthi\",20)\n",
    "del object1"
   ]
  },
  {
   "cell_type": "code",
   "execution_count": 11,
   "id": "b70d5291",
   "metadata": {},
   "outputs": [
    {
     "name": "stdout",
     "output_type": "stream",
     "text": [
      "the name is: sakthi\n",
      "the age is: 20\n",
      "The destructor is called.\n"
     ]
    }
   ],
   "source": [
    "class person:     \n",
    "    def __del__(self):  \n",
    "        print('The destructor is called.') \n",
    "    def __init__(self,name,age):\n",
    "        self.name=name\n",
    "        self.age=age\n",
    "        print(\"the name is:\",self.name)\n",
    "        print(\"the age is:\",self.age)\n",
    "    \n",
    "        \n",
    "object1 = person(\"sakthi\",20)\n",
    "del object1"
   ]
  },
  {
   "cell_type": "code",
   "execution_count": null,
   "id": "a513143e",
   "metadata": {},
   "outputs": [],
   "source": []
  }
 ],
 "metadata": {
  "kernelspec": {
   "display_name": "Python 3 (ipykernel)",
   "language": "python",
   "name": "python3"
  },
  "language_info": {
   "codemirror_mode": {
    "name": "ipython",
    "version": 3
   },
   "file_extension": ".py",
   "mimetype": "text/x-python",
   "name": "python",
   "nbconvert_exporter": "python",
   "pygments_lexer": "ipython3",
   "version": "3.9.13"
  }
 },
 "nbformat": 4,
 "nbformat_minor": 5
}
