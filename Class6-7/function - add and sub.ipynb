{
 "cells": [
  {
   "cell_type": "code",
   "execution_count": 1,
   "id": "112a3a52",
   "metadata": {},
   "outputs": [
    {
     "name": "stdout",
     "output_type": "stream",
     "text": [
      " hai jeeva  Good morning\n",
      " hai vishnu  Good morning\n"
     ]
    }
   ],
   "source": [
    "def greeting(name=\"vishnu\"):\n",
    "    print(\" hai\",name,\" Good morning\")\n",
    "greeting(\"jeeva\")\n",
    "greeting()"
   ]
  },
  {
   "cell_type": "code",
   "execution_count": null,
   "id": "274c30e1",
   "metadata": {},
   "outputs": [],
   "source": [
    "#function"
   ]
  },
  {
   "cell_type": "code",
   "execution_count": 2,
   "id": "9008fd1f",
   "metadata": {},
   "outputs": [
    {
     "name": "stdout",
     "output_type": "stream",
     "text": [
      "the sum is: 30\n"
     ]
    }
   ],
   "source": [
    "#add with 2 values\n",
    "def add(x,y):\n",
    "    z=x+y\n",
    "    print(\"the sum is:\", z)\n",
    "add(10,20)"
   ]
  },
  {
   "cell_type": "code",
   "execution_count": 3,
   "id": "55555d13",
   "metadata": {},
   "outputs": [
    {
     "name": "stdout",
     "output_type": "stream",
     "text": [
      "the sum is: 30\n",
      "the sum is: 70\n"
     ]
    }
   ],
   "source": [
    "#add with 2 function call:\n",
    "def add(x,y):\n",
    "    z=x+y\n",
    "    print(\"the sum is:\", z)\n",
    "add(10,20)\n",
    "add(30,40)"
   ]
  },
  {
   "cell_type": "code",
   "execution_count": 4,
   "id": "5961d960",
   "metadata": {
    "scrolled": true
   },
   "outputs": [
    {
     "name": "stdout",
     "output_type": "stream",
     "text": [
      "the sum is: 30\n",
      "the subtracted value: 30\n"
     ]
    }
   ],
   "source": [
    "# add and sub\n",
    "def add(x,y):\n",
    "    z=x+y\n",
    "    print(\"the sum is:\", z)\n",
    "def sub(x,y):\n",
    "    z=x-y\n",
    "    print(\"the subtracted value:\", z)\n",
    "add(10,20)\n",
    "sub(50,20)"
   ]
  },
  {
   "cell_type": "code",
   "execution_count": 5,
   "id": "509cd0ee",
   "metadata": {},
   "outputs": [
    {
     "name": "stdout",
     "output_type": "stream",
     "text": [
      "the sum is: 30\n",
      "the subtracted value: 30\n"
     ]
    }
   ],
   "source": [
    "def add(x,y):\n",
    "    z=x+y\n",
    "    print(\"the sum is:\", z)\n",
    "add(10,20)\n",
    "\n",
    "def sub(x,y):\n",
    "    z=x-y\n",
    "    print(\"the subtracted value:\", z)\n",
    "sub(50,20)"
   ]
  },
  {
   "cell_type": "code",
   "execution_count": 24,
   "id": "3f9c48f8",
   "metadata": {},
   "outputs": [
    {
     "data": {
      "text/plain": [
       "(5, 1)"
      ]
     },
     "execution_count": 24,
     "metadata": {},
     "output_type": "execute_result"
    }
   ],
   "source": [
    "def add_sub(x,y):\n",
    "    z=x+y\n",
    "    z1=x-y\n",
    "    return z,z1\n",
    "add_sub(3,2)"
   ]
  },
  {
   "cell_type": "code",
   "execution_count": 25,
   "id": "d5ce67a4",
   "metadata": {},
   "outputs": [
    {
     "name": "stdout",
     "output_type": "stream",
     "text": [
      "the added value: 5\n",
      "the subtracted value: 1\n"
     ]
    }
   ],
   "source": [
    "def add_sub(x,y):\n",
    "    z=x+y\n",
    "    z1=x-y\n",
    "    return z,z1\n",
    "addval,subval=add_sub(3,2)\n",
    "print(\"the added value:\",addval)\n",
    "print(\"the subtracted value:\",subval)"
   ]
  },
  {
   "cell_type": "code",
   "execution_count": 6,
   "id": "7f374f74",
   "metadata": {
    "scrolled": true
   },
   "outputs": [
    {
     "name": "stdout",
     "output_type": "stream",
     "text": [
      "the sum is: 30\n"
     ]
    }
   ],
   "source": [
    "# direct assignment\n",
    "def add(x,y=20):\n",
    "    z=x+y\n",
    "    print(\"the sum is:\", z)\n",
    "add(10)"
   ]
  },
  {
   "cell_type": "code",
   "execution_count": 7,
   "id": "c23495af",
   "metadata": {},
   "outputs": [
    {
     "name": "stdout",
     "output_type": "stream",
     "text": [
      "the sum is: 60\n"
     ]
    }
   ],
   "source": [
    "def add(x,y=20):\n",
    "    z=x+y\n",
    "    print(\"the sum is:\", z)\n",
    "add(10,50)"
   ]
  },
  {
   "cell_type": "code",
   "execution_count": 8,
   "id": "568951fe",
   "metadata": {
    "scrolled": true
   },
   "outputs": [
    {
     "name": "stdout",
     "output_type": "stream",
     "text": [
      "the sum is: 30\n"
     ]
    },
    {
     "ename": "NameError",
     "evalue": "name 'z' is not defined",
     "output_type": "error",
     "traceback": [
      "\u001b[1;31m---------------------------------------------------------------------------\u001b[0m",
      "\u001b[1;31mNameError\u001b[0m                                 Traceback (most recent call last)",
      "\u001b[1;32m~\\AppData\\Local\\Temp\\ipykernel_23196\\3095832604.py\u001b[0m in \u001b[0;36m<module>\u001b[1;34m\u001b[0m\n\u001b[0;32m      4\u001b[0m     \u001b[0mprint\u001b[0m\u001b[1;33m(\u001b[0m\u001b[1;34m\"the sum is:\"\u001b[0m\u001b[1;33m,\u001b[0m \u001b[0mz\u001b[0m\u001b[1;33m)\u001b[0m\u001b[1;33m\u001b[0m\u001b[1;33m\u001b[0m\u001b[0m\n\u001b[0;32m      5\u001b[0m \u001b[0madd\u001b[0m\u001b[1;33m(\u001b[0m\u001b[1;36m10\u001b[0m\u001b[1;33m,\u001b[0m\u001b[1;36m20\u001b[0m\u001b[1;33m)\u001b[0m\u001b[1;33m\u001b[0m\u001b[1;33m\u001b[0m\u001b[0m\n\u001b[1;32m----> 6\u001b[1;33m \u001b[0mprint\u001b[0m\u001b[1;33m(\u001b[0m\u001b[1;34m\"the added value is:\"\u001b[0m\u001b[1;33m,\u001b[0m\u001b[0mz\u001b[0m\u001b[1;33m)\u001b[0m\u001b[1;33m\u001b[0m\u001b[1;33m\u001b[0m\u001b[0m\n\u001b[0m",
      "\u001b[1;31mNameError\u001b[0m: name 'z' is not defined"
     ]
    }
   ],
   "source": [
    "# print outside function\n",
    "def add(x,y):\n",
    "    z=x+y\n",
    "    print(\"the sum is:\", z)\n",
    "add(10,20)\n",
    "print(\"the added value is:\",z)"
   ]
  },
  {
   "cell_type": "code",
   "execution_count": 10,
   "id": "8ea00318",
   "metadata": {},
   "outputs": [
    {
     "name": "stdout",
     "output_type": "stream",
     "text": [
      "the added value is: 30\n"
     ]
    }
   ],
   "source": [
    "def add(x,y):\n",
    "    z=x+y\n",
    "    return z\n",
    "result=add(10,20)\n",
    "print(\"the added value is:\",result)"
   ]
  },
  {
   "cell_type": "code",
   "execution_count": 12,
   "id": "3186dd50",
   "metadata": {
    "scrolled": true
   },
   "outputs": [
    {
     "data": {
      "text/plain": [
       "30"
      ]
     },
     "execution_count": 12,
     "metadata": {},
     "output_type": "execute_result"
    }
   ],
   "source": [
    "def add(x,y):\n",
    "    z=x+y\n",
    "    return z\n",
    "add(10,20)\n"
   ]
  },
  {
   "cell_type": "code",
   "execution_count": 20,
   "id": "31814e29",
   "metadata": {},
   "outputs": [
    {
     "name": "stdout",
     "output_type": "stream",
     "text": [
      "hai\n",
      "happy learning\n"
     ]
    }
   ],
   "source": [
    "def greeting():\n",
    "    print(\"hai\")\n",
    "    print(\"happy learning\")\n",
    "greeting()"
   ]
  },
  {
   "cell_type": "code",
   "execution_count": 21,
   "id": "649e93a5",
   "metadata": {
    "scrolled": true
   },
   "outputs": [
    {
     "name": "stdout",
     "output_type": "stream",
     "text": [
      "hai\n"
     ]
    }
   ],
   "source": [
    "def greeting():\n",
    "    print(\"hai\")\n",
    "    return\n",
    "    print(\"happy learning\")\n",
    "greeting()"
   ]
  },
  {
   "cell_type": "code",
   "execution_count": 22,
   "id": "7e9ee44d",
   "metadata": {
    "scrolled": false
   },
   "outputs": [
    {
     "data": {
      "text/plain": [
       "15"
      ]
     },
     "execution_count": 22,
     "metadata": {},
     "output_type": "execute_result"
    }
   ],
   "source": [
    "def fun(x):\n",
    "    return x+5\n",
    "fun(10)"
   ]
  },
  {
   "cell_type": "code",
   "execution_count": 1,
   "id": "4aab4d40",
   "metadata": {},
   "outputs": [
    {
     "name": "stdout",
     "output_type": "stream",
     "text": [
      "30\n",
      "None\n"
     ]
    }
   ],
   "source": [
    "#return [expression_list]\n",
    "def greet(a,b):\n",
    "    print(a+b)\n",
    "print(greet(10,20))"
   ]
  },
  {
   "cell_type": "code",
   "execution_count": 2,
   "id": "640a3fde",
   "metadata": {},
   "outputs": [
    {
     "name": "stdout",
     "output_type": "stream",
     "text": [
      "hello\n",
      "None\n"
     ]
    }
   ],
   "source": [
    "def greeting(x):\n",
    "    print(x)\n",
    "print(greeting(\"hello\"))"
   ]
  },
  {
   "cell_type": "code",
   "execution_count": 4,
   "id": "6d7b8a9b",
   "metadata": {
    "scrolled": true
   },
   "outputs": [
    {
     "name": "stdout",
     "output_type": "stream",
     "text": [
      "hello\n"
     ]
    }
   ],
   "source": [
    "def greeting(x):\n",
    "    print(x)\n",
    "greeting(\"hello\")"
   ]
  }
 ],
 "metadata": {
  "kernelspec": {
   "display_name": "Python 3 (ipykernel)",
   "language": "python",
   "name": "python3"
  },
  "language_info": {
   "codemirror_mode": {
    "name": "ipython",
    "version": 3
   },
   "file_extension": ".py",
   "mimetype": "text/x-python",
   "name": "python",
   "nbconvert_exporter": "python",
   "pygments_lexer": "ipython3",
   "version": "3.9.13"
  }
 },
 "nbformat": 4,
 "nbformat_minor": 5
}
