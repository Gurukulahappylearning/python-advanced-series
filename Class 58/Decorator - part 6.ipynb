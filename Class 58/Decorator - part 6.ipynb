{
 "cells": [
  {
   "cell_type": "code",
   "execution_count": null,
   "id": "f7e137d8",
   "metadata": {},
   "outputs": [],
   "source": [
    "def decor1(ref):\n",
    "    def process1():\n",
    "        data=ref()\n",
    "        return data.upper()\n",
    "    return process1\n",
    "    \n",
    "def decor2(ref):\n",
    "    def process2():\n",
    "        data=ref()\n",
    "        return data.split()\n",
    "    return process2\n",
    "\n",
    "@decor2\n",
    "@decor1\n",
    "def myfunction():\n",
    "    return \"happy learning\"\n",
    "\n",
    "print(myfunction())\n"
   ]
  },
  {
   "cell_type": "code",
   "execution_count": null,
   "id": "06c9eb5d",
   "metadata": {},
   "outputs": [],
   "source": [
    "# decorator with parameter"
   ]
  },
  {
   "cell_type": "code",
   "execution_count": 1,
   "id": "0dfa6b07",
   "metadata": {},
   "outputs": [
    {
     "name": "stdout",
     "output_type": "stream",
     "text": [
      "HAPPY LEARNING\n"
     ]
    }
   ],
   "source": [
    "def decor1(ref):\n",
    "    def process1():\n",
    "        data=ref()\n",
    "        return data.upper()\n",
    "    return process1\n",
    "\n",
    "@decor1\n",
    "def myfunction():\n",
    "    return \"happy learning\"\n",
    "\n",
    "print(myfunction())"
   ]
  },
  {
   "cell_type": "code",
   "execution_count": 8,
   "id": "203a7a1f",
   "metadata": {},
   "outputs": [
    {
     "name": "stdout",
     "output_type": "stream",
     "text": [
      "HAPPY LEARNING sakthi\n"
     ]
    }
   ],
   "source": [
    "def outer(val):\n",
    "    def decor1(ref):\n",
    "        def process1():\n",
    "            data=ref()\n",
    "            return data.upper() +val\n",
    "        return process1\n",
    "    return decor1\n",
    "\n",
    "@outer(\" sakthi\")\n",
    "def myfunction():\n",
    "    return \"happy learning\"\n",
    "print(myfunction())"
   ]
  },
  {
   "cell_type": "code",
   "execution_count": 10,
   "id": "75917930",
   "metadata": {},
   "outputs": [
    {
     "name": "stdout",
     "output_type": "stream",
     "text": [
      "HAPPY LEARNING SAKTHI\n"
     ]
    }
   ],
   "source": [
    "def outer(val):\n",
    "    def decor1(ref):\n",
    "        def process1():\n",
    "            data=ref()\n",
    "            return data.upper() + val.upper()\n",
    "        return process1\n",
    "    return decor1\n",
    "\n",
    "@outer(\" sakthi\")\n",
    "def myfunction():\n",
    "    return \"happy learning\"\n",
    "print(myfunction())"
   ]
  },
  {
   "cell_type": "code",
   "execution_count": 11,
   "id": "9edd2ce8",
   "metadata": {},
   "outputs": [
    {
     "name": "stdout",
     "output_type": "stream",
     "text": [
      "happy learning sakthi\n"
     ]
    }
   ],
   "source": [
    "def outer(val):\n",
    "    def decor1(ref):\n",
    "        def process1():\n",
    "            return ref()+ val\n",
    "        return process1\n",
    "    return decor1\n",
    "\n",
    "@outer(\" sakthi\")\n",
    "def myfunction():\n",
    "    return \"happy learning\"\n",
    "print(myfunction())"
   ]
  },
  {
   "cell_type": "code",
   "execution_count": 12,
   "id": "be1f1465",
   "metadata": {},
   "outputs": [
    {
     "name": "stdout",
     "output_type": "stream",
     "text": [
      "HAPPY LEARNING SAKTHI\n"
     ]
    }
   ],
   "source": [
    "def outer(val):\n",
    "    def decor1(ref):\n",
    "        def process1():\n",
    "            return ref().upper() + val.upper()\n",
    "        return process1\n",
    "    return decor1\n",
    "\n",
    "@outer(\" sakthi\")\n",
    "def myfunction():\n",
    "    return \"happy learning\"\n",
    "print(myfunction())"
   ]
  },
  {
   "cell_type": "code",
   "execution_count": 14,
   "id": "47a1ed81",
   "metadata": {},
   "outputs": [
    {
     "name": "stdout",
     "output_type": "stream",
     "text": [
      "enter your name:shiva\n",
      "HAPPY LEARNING SHIVA\n"
     ]
    }
   ],
   "source": [
    "def outer(val):\n",
    "    def decor1(ref):\n",
    "        def process1():\n",
    "            return ref().upper() + val.upper()\n",
    "        return process1\n",
    "    return decor1\n",
    "a=input(\"enter your name:\")\n",
    "@outer(a)\n",
    "def myfunction():\n",
    "    return \"happy learning \"\n",
    "print(myfunction())"
   ]
  }
 ],
 "metadata": {
  "kernelspec": {
   "display_name": "Python 3 (ipykernel)",
   "language": "python",
   "name": "python3"
  },
  "language_info": {
   "codemirror_mode": {
    "name": "ipython",
    "version": 3
   },
   "file_extension": ".py",
   "mimetype": "text/x-python",
   "name": "python",
   "nbconvert_exporter": "python",
   "pygments_lexer": "ipython3",
   "version": "3.9.13"
  }
 },
 "nbformat": 4,
 "nbformat_minor": 5
}
