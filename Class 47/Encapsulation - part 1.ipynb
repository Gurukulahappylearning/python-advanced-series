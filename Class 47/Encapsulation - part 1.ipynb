{
 "cells": [
  {
   "cell_type": "code",
   "execution_count": null,
   "id": "8dcbd123",
   "metadata": {},
   "outputs": [],
   "source": [
    "# what is encapsulation"
   ]
  },
  {
   "cell_type": "code",
   "execution_count": null,
   "id": "f2793acd",
   "metadata": {},
   "outputs": [],
   "source": [
    "#sample program"
   ]
  },
  {
   "cell_type": "code",
   "execution_count": 4,
   "id": "58cdd396",
   "metadata": {},
   "outputs": [
    {
     "name": "stdout",
     "output_type": "stream",
     "text": [
      "name is: john\n",
      "age is: 23\n"
     ]
    }
   ],
   "source": [
    "class test:\n",
    "    def detail(self,name,age):\n",
    "        self.name=name\n",
    "        self.age=age\n",
    "        \n",
    "obj=test()\n",
    "obj.detail(\"john\",23)\n",
    "print(\"name is:\",obj.name)\n",
    "print(\"age is:\",obj.age)"
   ]
  },
  {
   "cell_type": "code",
   "execution_count": 6,
   "id": "db01ef08",
   "metadata": {},
   "outputs": [
    {
     "name": "stdout",
     "output_type": "stream",
     "text": [
      "name is: sakthi\n",
      "age is: 23\n"
     ]
    }
   ],
   "source": [
    "class test:\n",
    "    def detail(self,name,age):\n",
    "        self.name=name\n",
    "        self.age=age\n",
    "        \n",
    "obj=test()\n",
    "obj.detail(\"john\",23)\n",
    "obj.name=\"sakthi\"\n",
    "print(\"name is:\",obj.name)\n",
    "print(\"age is:\",obj.age)"
   ]
  },
  {
   "cell_type": "code",
   "execution_count": null,
   "id": "4a176fed",
   "metadata": {},
   "outputs": [],
   "source": [
    "#access specifiers\n",
    "# sometimes we need to restrict the access of variables."
   ]
  },
  {
   "cell_type": "code",
   "execution_count": null,
   "id": "f32c5da3",
   "metadata": {},
   "outputs": [],
   "source": [
    "# what are all access specifiers\n",
    "# 1.public.\n",
    "# 2.private.\n",
    "# 3.protected."
   ]
  }
 ],
 "metadata": {
  "kernelspec": {
   "display_name": "Python 3 (ipykernel)",
   "language": "python",
   "name": "python3"
  },
  "language_info": {
   "codemirror_mode": {
    "name": "ipython",
    "version": 3
   },
   "file_extension": ".py",
   "mimetype": "text/x-python",
   "name": "python",
   "nbconvert_exporter": "python",
   "pygments_lexer": "ipython3",
   "version": "3.9.13"
  }
 },
 "nbformat": 4,
 "nbformat_minor": 5
}
