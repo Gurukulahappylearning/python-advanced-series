{
 "cells": [
  {
   "cell_type": "code",
   "execution_count": null,
   "id": "ec5462cb",
   "metadata": {},
   "outputs": [],
   "source": [
    "# Multilevel Inheritance\n",
    "class Person:\n",
    "    def personal(self, name, age, gender):\n",
    "        print('Name:', name,\"-----  \" 'Age:', age, \"-----  \" 'Gender:', gender)\n",
    "\n",
    "class Company(Person):\n",
    "    def company_detail(self, name, location):\n",
    "        print('Company Name:',name, \"-----  \"'location:', location)\n",
    "\n",
    "class other(Company):\n",
    "    def other_detail(self, salary, designation):\n",
    "        print('Salary:', salary,\"-----  \" 'Designation:', designation)\n",
    "\n",
    "obj=other()\n",
    "obj.personal(\"sakthi\",25,\"male\")\n",
    "obj.company_detail(\"Google\",\"USA\")\n",
    "obj.other_detail(\"24LPA\",\"Data Scientist\")\n"
   ]
  },
  {
   "cell_type": "code",
   "execution_count": 26,
   "id": "01e4c954",
   "metadata": {},
   "outputs": [
    {
     "name": "stdout",
     "output_type": "stream",
     "text": [
      "Name: sakthi -----  Age: 25 -----  Gender: male\n",
      "Company Name: Google -----  location: USA\n",
      "Salary: 24LPA -----  Designation: Data Scientist\n"
     ]
    }
   ],
   "source": [
    "class Person:\n",
    "    def personal(self, name, age, gender):\n",
    "        print('Name:', name,\"-----  \" 'Age:', age, \"-----  \" 'Gender:', gender)\n",
    "\n",
    "class Company:\n",
    "    def company_detail(self, name, location):\n",
    "        print('Company Name:',name, \"-----  \"'location:', location)\n",
    "\n",
    "class other:\n",
    "    def other_detail(self, salary, designation):\n",
    "        print('Salary:', salary,\"-----  \" 'Designation:', designation)\n",
    "p=Person()\n",
    "p.personal(\"sakthi\",25,\"male\")\n",
    "c=Company()\n",
    "c.company_detail(\"Google\",\"USA\")\n",
    "o=other()\n",
    "o.other_detail(\"24LPA\",\"Data Scientist\")"
   ]
  },
  {
   "cell_type": "code",
   "execution_count": 28,
   "id": "26c3a65f",
   "metadata": {},
   "outputs": [
    {
     "name": "stdout",
     "output_type": "stream",
     "text": [
      "Printing the Employee Detail:\n",
      "\n",
      "Personal Details:\n",
      "Name: sakthi -----  Age: 25 -----  Gender: male\n",
      "Professional Details:\n",
      "Company Name: Google -----  location: USA\n",
      "Other Details:\n",
      "Salary: 24LPA -----  Designation: Data Scientist\n"
     ]
    }
   ],
   "source": [
    "class Person:\n",
    "    def personal(self, name, age, gender):\n",
    "        print(\"Personal Details:\")\n",
    "        print('Name:', name,\"-----  \" 'Age:', age, \"-----  \" 'Gender:', gender)\n",
    "\n",
    "class Company:\n",
    "    def company_detail(self, name, location):\n",
    "        print(\"Professional Details:\")\n",
    "        print('Company Name:',name, \"-----  \"'location:', location)\n",
    "\n",
    "class other:\n",
    "    def other_detail(self, salary, designation):\n",
    "        print(\"Other Details:\")\n",
    "        print('Salary:', salary,\"-----  \" 'Designation:', designation)\n",
    "        \n",
    "class all_detail(Person,Company,other):\n",
    "    print(\"Printing the Employee Detail:\",end=\"\\n\\n\")\n",
    "\n",
    "obj=all_detail()\n",
    "obj.personal(\"sakthi\",25,\"male\")\n",
    "obj.company_detail(\"Google\",\"USA\")\n",
    "obj.other_detail(\"24LPA\",\"Data Scientist\")\n"
   ]
  },
  {
   "cell_type": "code",
   "execution_count": 29,
   "id": "900d4898",
   "metadata": {},
   "outputs": [
    {
     "name": "stdout",
     "output_type": "stream",
     "text": [
      "Printing the Employee Detail:\n",
      "\n",
      "Personal Details:\n",
      "Name: sakthi -----  Age: 25 -----  Gender: male\n",
      "\n",
      "Professional Details:\n",
      "Company Name: Google -----  location: USA\n",
      "\n",
      "Other Details:\n",
      "Salary: 24LPA -----  Designation: Data Scientist\n",
      "\n"
     ]
    }
   ],
   "source": [
    "class Person:\n",
    "    def personal(self, name, age, gender):\n",
    "        print(\"Personal Details:\",end=\"\\n\")\n",
    "        print('Name:', name,\"-----  \" 'Age:', age, \"-----  \" 'Gender:', gender, end=\"\\n\\n\")\n",
    "\n",
    "class Company():\n",
    "    def company_detail(self, name, location):\n",
    "        print(\"Professional Details:\",end=\"\\n\")\n",
    "        print('Company Name:',name, \"-----  \"'location:', location, end=\"\\n\\n\")\n",
    "\n",
    "class other():\n",
    "    def other_detail(self, salary, designation):\n",
    "        print(\"Other Details:\",end=\"\\n\")\n",
    "        print('Salary:', salary,\"-----  \" 'Designation:', designation, end=\"\\n\\n\")\n",
    "        \n",
    "class all_detail(Person,Company,other):\n",
    "    print(\"Printing the Employee Detail:\",end=\"\\n\\n\")\n",
    "\n",
    "obj=all_detail()\n",
    "obj.personal(\"sakthi\",25,\"male\")\n",
    "obj.company_detail(\"Google\",\"USA\")\n",
    "obj.other_detail(\"24LPA\",\"Data Scientist\")\n"
   ]
  }
 ],
 "metadata": {
  "kernelspec": {
   "display_name": "Python 3 (ipykernel)",
   "language": "python",
   "name": "python3"
  },
  "language_info": {
   "codemirror_mode": {
    "name": "ipython",
    "version": 3
   },
   "file_extension": ".py",
   "mimetype": "text/x-python",
   "name": "python",
   "nbconvert_exporter": "python",
   "pygments_lexer": "ipython3",
   "version": "3.9.13"
  }
 },
 "nbformat": 4,
 "nbformat_minor": 5
}
