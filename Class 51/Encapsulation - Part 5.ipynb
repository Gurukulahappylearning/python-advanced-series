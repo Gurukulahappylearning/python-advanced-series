{
 "cells": [
  {
   "cell_type": "code",
   "execution_count": 1,
   "id": "384ca153",
   "metadata": {},
   "outputs": [
    {
     "name": "stdout",
     "output_type": "stream",
     "text": [
      "student name: sakthi\n"
     ]
    }
   ],
   "source": [
    "class detail:\n",
    "    def setname(self,n):\n",
    "        self.__name=n\n",
    "    def getname(self):\n",
    "        return self.__name\n",
    "    def display(self):\n",
    "        print(\"student name:\",self.getname())\n",
    "obj=detail()\n",
    "obj.setname(\"sakthi\")\n",
    "obj.display()"
   ]
  },
  {
   "cell_type": "code",
   "execution_count": 2,
   "id": "d50157e9",
   "metadata": {},
   "outputs": [
    {
     "name": "stdout",
     "output_type": "stream",
     "text": [
      "student name: sakthi\n"
     ]
    }
   ],
   "source": [
    "class detail:\n",
    "    def setname(self,n):\n",
    "        self.__name=n\n",
    "    def getname(self):\n",
    "        return self.__name\n",
    "    def display(self):\n",
    "        print(\"student name:\",self.__name)\n",
    "obj=detail()\n",
    "obj.setname(\"sakthi\")\n",
    "obj.display()"
   ]
  },
  {
   "cell_type": "code",
   "execution_count": 3,
   "id": "f46d1cbf",
   "metadata": {},
   "outputs": [
    {
     "name": "stdout",
     "output_type": "stream",
     "text": [
      "student name: sakthi\n",
      "student age: 20\n"
     ]
    }
   ],
   "source": [
    "class detail:\n",
    "    def setname(self,n):\n",
    "        self.__name=n\n",
    "    def getname(self):\n",
    "        return self.__name\n",
    "    \n",
    "    def setage(self,a):\n",
    "        self.__age=a\n",
    "    def getage(self):\n",
    "        return self.__age\n",
    "    def display(self):\n",
    "        print(\"student name:\",obj.getname())\n",
    "        print(\"student age:\",self.__age)\n",
    "obj=detail()\n",
    "obj.setname(\"sakthi\")\n",
    "obj.setage(20)\n",
    "obj.display()"
   ]
  }
 ],
 "metadata": {
  "kernelspec": {
   "display_name": "Python 3 (ipykernel)",
   "language": "python",
   "name": "python3"
  },
  "language_info": {
   "codemirror_mode": {
    "name": "ipython",
    "version": 3
   },
   "file_extension": ".py",
   "mimetype": "text/x-python",
   "name": "python",
   "nbconvert_exporter": "python",
   "pygments_lexer": "ipython3",
   "version": "3.9.13"
  }
 },
 "nbformat": 4,
 "nbformat_minor": 5
}
