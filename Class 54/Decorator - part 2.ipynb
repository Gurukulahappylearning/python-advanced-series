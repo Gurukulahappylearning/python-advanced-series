{
 "cells": [
  {
   "cell_type": "code",
   "execution_count": null,
   "id": "7416f3fd",
   "metadata": {},
   "outputs": [],
   "source": [
    "# passing function as a parameter"
   ]
  },
  {
   "cell_type": "code",
   "execution_count": 4,
   "id": "3403c1da",
   "metadata": {
    "scrolled": true
   },
   "outputs": [
    {
     "name": "stdout",
     "output_type": "stream",
     "text": [
      "function1\n",
      "function 2\n"
     ]
    }
   ],
   "source": [
    "def function1():\n",
    "    print(\"function1\")\n",
    "def function2():\n",
    "    print(\"function 2\")\n",
    "function1()\n",
    "function2()"
   ]
  },
  {
   "cell_type": "code",
   "execution_count": 6,
   "id": "7af0aaad",
   "metadata": {},
   "outputs": [
    {
     "name": "stdout",
     "output_type": "stream",
     "text": [
      "<function function1 at 0x00000165018D6700>\n",
      "function1\n",
      "function 2\n"
     ]
    }
   ],
   "source": [
    "def function1():\n",
    "    print(\"function1\")\n",
    "def function2(ref):\n",
    "    ref()\n",
    "    print(\"function 2\")\n",
    "print(function1)\n",
    "function2(function1)"
   ]
  },
  {
   "cell_type": "code",
   "execution_count": 8,
   "id": "ce9184ca",
   "metadata": {},
   "outputs": [
    {
     "name": "stdout",
     "output_type": "stream",
     "text": [
      "10\n",
      "<function add at 0x00000165018D6940>\n"
     ]
    }
   ],
   "source": [
    "def add(x, y):\n",
    "    return x + y\n",
    "\n",
    "def display(func, x, y):\n",
    "    return func(x, y)\n",
    "\n",
    "result = display(add, 4, 6)\n",
    "print(result) \n",
    "print(add)"
   ]
  },
  {
   "cell_type": "code",
   "execution_count": 9,
   "id": "2ef839cd",
   "metadata": {},
   "outputs": [
    {
     "name": "stdout",
     "output_type": "stream",
     "text": [
      "HAPPY LEARNING\n",
      "happy learning\n"
     ]
    }
   ],
   "source": [
    "def upper(text):\n",
    "    return text.upper()\n",
    "\n",
    "def lower(text):\n",
    "    return text.lower()\n",
    "\n",
    "def text(func):\n",
    "    msg = func(\"happy learning\")\n",
    "    print (msg)\n",
    "text(upper)\n",
    "text(lower)\n"
   ]
  },
  {
   "cell_type": "code",
   "execution_count": null,
   "id": "7d5c1893",
   "metadata": {},
   "outputs": [],
   "source": []
  }
 ],
 "metadata": {
  "kernelspec": {
   "display_name": "Python 3 (ipykernel)",
   "language": "python",
   "name": "python3"
  },
  "language_info": {
   "codemirror_mode": {
    "name": "ipython",
    "version": 3
   },
   "file_extension": ".py",
   "mimetype": "text/x-python",
   "name": "python",
   "nbconvert_exporter": "python",
   "pygments_lexer": "ipython3",
   "version": "3.9.13"
  }
 },
 "nbformat": 4,
 "nbformat_minor": 5
}
