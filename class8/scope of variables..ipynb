{
 "cells": [
  {
   "cell_type": "code",
   "execution_count": null,
   "id": "ea217d9b",
   "metadata": {},
   "outputs": [],
   "source": [
    "#what is variable?"
   ]
  },
  {
   "cell_type": "code",
   "execution_count": null,
   "id": "d5cd3b8c",
   "metadata": {},
   "outputs": [],
   "source": [
    "#types of variable"
   ]
  },
  {
   "cell_type": "code",
   "execution_count": null,
   "id": "3065df7b",
   "metadata": {},
   "outputs": [],
   "source": [
    "#where it is used"
   ]
  },
  {
   "cell_type": "code",
   "execution_count": 1,
   "id": "831cf061",
   "metadata": {},
   "outputs": [
    {
     "name": "stdout",
     "output_type": "stream",
     "text": [
      "inside function: i am global variable\n"
     ]
    }
   ],
   "source": [
    "#example-global variable\n",
    "glo_variable=\"i am global variable\"\n",
    "def glo():\n",
    "    print(\"inside function:\",glo_variable)\n",
    "glo()"
   ]
  },
  {
   "cell_type": "code",
   "execution_count": 2,
   "id": "b5d30f0d",
   "metadata": {},
   "outputs": [
    {
     "name": "stdout",
     "output_type": "stream",
     "text": [
      "i am local variable\n"
     ]
    }
   ],
   "source": [
    "#example-local variable\n",
    "def local():\n",
    "    loc_variable=\"i am local variable\"\n",
    "    print(loc_variable)\n",
    "local()"
   ]
  },
  {
   "cell_type": "code",
   "execution_count": 3,
   "id": "0bb6189e",
   "metadata": {},
   "outputs": [
    {
     "name": "stdout",
     "output_type": "stream",
     "text": [
      "i am local variable\n"
     ]
    },
    {
     "ename": "NameError",
     "evalue": "name 'loc_variable' is not defined",
     "output_type": "error",
     "traceback": [
      "\u001b[1;31m---------------------------------------------------------------------------\u001b[0m",
      "\u001b[1;31mNameError\u001b[0m                                 Traceback (most recent call last)",
      "\u001b[1;32m~\\AppData\\Local\\Temp\\ipykernel_21684\\3905758031.py\u001b[0m in \u001b[0;36m<module>\u001b[1;34m\u001b[0m\n\u001b[0;32m      3\u001b[0m     \u001b[0mprint\u001b[0m\u001b[1;33m(\u001b[0m\u001b[0mloc_variable\u001b[0m\u001b[1;33m)\u001b[0m\u001b[1;33m\u001b[0m\u001b[1;33m\u001b[0m\u001b[0m\n\u001b[0;32m      4\u001b[0m \u001b[0mlocal\u001b[0m\u001b[1;33m(\u001b[0m\u001b[1;33m)\u001b[0m\u001b[1;33m\u001b[0m\u001b[1;33m\u001b[0m\u001b[0m\n\u001b[1;32m----> 5\u001b[1;33m \u001b[0mprint\u001b[0m\u001b[1;33m(\u001b[0m\u001b[0mloc_variable\u001b[0m\u001b[1;33m)\u001b[0m\u001b[1;33m\u001b[0m\u001b[1;33m\u001b[0m\u001b[0m\n\u001b[0m",
      "\u001b[1;31mNameError\u001b[0m: name 'loc_variable' is not defined"
     ]
    }
   ],
   "source": [
    "def local():\n",
    "    loc_variable=\"i am local variable\"\n",
    "    print(loc_variable)\n",
    "local()\n",
    "print(loc_variable)"
   ]
  },
  {
   "cell_type": "code",
   "execution_count": 4,
   "id": "70bc1f83",
   "metadata": {},
   "outputs": [
    {
     "name": "stdout",
     "output_type": "stream",
     "text": [
      "i am local variable\n",
      "hai\n"
     ]
    },
    {
     "ename": "NameError",
     "evalue": "name 'loc_variable' is not defined",
     "output_type": "error",
     "traceback": [
      "\u001b[1;31m---------------------------------------------------------------------------\u001b[0m",
      "\u001b[1;31mNameError\u001b[0m                                 Traceback (most recent call last)",
      "\u001b[1;32m~\\AppData\\Local\\Temp\\ipykernel_21684\\2845127671.py\u001b[0m in \u001b[0;36m<module>\u001b[1;34m\u001b[0m\n\u001b[0;32m      5\u001b[0m \u001b[0mlocal\u001b[0m\u001b[1;33m(\u001b[0m\u001b[1;33m)\u001b[0m\u001b[1;33m\u001b[0m\u001b[1;33m\u001b[0m\u001b[0m\n\u001b[0;32m      6\u001b[0m \u001b[0mprint\u001b[0m\u001b[1;33m(\u001b[0m\u001b[0mglo_var\u001b[0m\u001b[1;33m)\u001b[0m\u001b[1;33m\u001b[0m\u001b[1;33m\u001b[0m\u001b[0m\n\u001b[1;32m----> 7\u001b[1;33m \u001b[0mprint\u001b[0m\u001b[1;33m(\u001b[0m\u001b[0mloc_variable\u001b[0m\u001b[1;33m)\u001b[0m\u001b[1;33m\u001b[0m\u001b[1;33m\u001b[0m\u001b[0m\n\u001b[0m",
      "\u001b[1;31mNameError\u001b[0m: name 'loc_variable' is not defined"
     ]
    }
   ],
   "source": [
    "glo_var=\"hai\"\n",
    "def local():\n",
    "    loc_variable=\"i am local variable\"\n",
    "    print(loc_variable)\n",
    "local()\n",
    "print(glo_var)\n",
    "print(loc_variable)"
   ]
  },
  {
   "cell_type": "code",
   "execution_count": 5,
   "id": "914cc0fc",
   "metadata": {},
   "outputs": [
    {
     "name": "stdout",
     "output_type": "stream",
     "text": [
      "inside function: python series\n",
      "outside call: happy learning.\n"
     ]
    }
   ],
   "source": [
    "#accessing within function\n",
    "var=\"happy learning.\"\n",
    "def greet():\n",
    "    var=\"python series\"\n",
    "    print(\"inside function:\",var)\n",
    "greet()\n",
    "print(\"outside call:\",var)"
   ]
  },
  {
   "cell_type": "code",
   "execution_count": 6,
   "id": "d56339e7",
   "metadata": {},
   "outputs": [
    {
     "name": "stdout",
     "output_type": "stream",
     "text": [
      "inside function: happy learning.\n",
      "outside call: happy learning.\n"
     ]
    }
   ],
   "source": [
    "var=\"happy learning.\"\n",
    "def greet():\n",
    "    #var=\"python series\"\n",
    "    print(\"inside function:\",var)\n",
    "greet()\n",
    "print(\"outside call:\",var)"
   ]
  },
  {
   "cell_type": "code",
   "execution_count": 8,
   "id": "7b468198",
   "metadata": {},
   "outputs": [
    {
     "name": "stdout",
     "output_type": "stream",
     "text": [
      "inside function: bye bye\n",
      "outside call: bye bye\n"
     ]
    }
   ],
   "source": [
    "# if need to change global variable value with in function\n",
    "var=\"happy learning.\"\n",
    "def greet():\n",
    "    global var\n",
    "    var=\"bye bye\"\n",
    "    print(\"inside function:\",var)\n",
    "greet()\n",
    "print(\"outside call:\",var)"
   ]
  },
  {
   "cell_type": "code",
   "execution_count": 9,
   "id": "6f805d9f",
   "metadata": {},
   "outputs": [
    {
     "name": "stdout",
     "output_type": "stream",
     "text": [
      "inside function: python series\n",
      "happy learning.\n",
      "outside call: happy learning.\n"
     ]
    }
   ],
   "source": [
    "# global and local having same name\n",
    "var=\"happy learning.\"\n",
    "def greet():\n",
    "    var=\"python series\"\n",
    "    print(\"inside function:\",var)\n",
    "    print(globals()['var'])\n",
    "    \n",
    "greet()\n",
    "print(\"outside call:\",var)"
   ]
  },
  {
   "cell_type": "code",
   "execution_count": 10,
   "id": "46d61bf4",
   "metadata": {},
   "outputs": [
    {
     "name": "stdout",
     "output_type": "stream",
     "text": [
      "inside function: python series\n",
      "changed\n",
      "outside call: changed\n"
     ]
    }
   ],
   "source": [
    "var=\"happy learning.\"\n",
    "def greet():\n",
    "    var=\"python series\"\n",
    "    print(\"inside function:\",var)\n",
    "    globals()['var']=\"changed\"\n",
    "    print(globals()['var'])\n",
    "    \n",
    "greet()\n",
    "print(\"outside call:\",var)"
   ]
  }
 ],
 "metadata": {
  "kernelspec": {
   "display_name": "Python 3 (ipykernel)",
   "language": "python",
   "name": "python3"
  },
  "language_info": {
   "codemirror_mode": {
    "name": "ipython",
    "version": 3
   },
   "file_extension": ".py",
   "mimetype": "text/x-python",
   "name": "python",
   "nbconvert_exporter": "python",
   "pygments_lexer": "ipython3",
   "version": "3.9.13"
  }
 },
 "nbformat": 4,
 "nbformat_minor": 5
}
