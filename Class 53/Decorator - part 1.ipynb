{
 "cells": [
  {
   "cell_type": "code",
   "execution_count": null,
   "id": "26a5c159",
   "metadata": {},
   "outputs": [],
   "source": [
    "# nested function\n",
    "# return function from another function\n",
    "# function as a reference"
   ]
  },
  {
   "cell_type": "code",
   "execution_count": 38,
   "id": "09930998",
   "metadata": {},
   "outputs": [
    {
     "name": "stdout",
     "output_type": "stream",
     "text": [
      "happy learning\n"
     ]
    }
   ],
   "source": [
    "def outer():\n",
    "    msg1=\"happy \"\n",
    "    def inner():\n",
    "        msg2=\"learning\"\n",
    "        msg=msg1+msg2\n",
    "        return msg   \n",
    "    return inner\n",
    "obj=outer()\n",
    "print(obj())"
   ]
  },
  {
   "cell_type": "code",
   "execution_count": 36,
   "id": "b7478e39",
   "metadata": {},
   "outputs": [
    {
     "name": "stdout",
     "output_type": "stream",
     "text": [
      "<function simple at 0x00000230E1605F70>\n"
     ]
    }
   ],
   "source": [
    "def simple():\n",
    "    print(\"hello\")\n",
    "print(simple)"
   ]
  },
  {
   "cell_type": "code",
   "execution_count": 42,
   "id": "aa46f457",
   "metadata": {},
   "outputs": [
    {
     "name": "stdout",
     "output_type": "stream",
     "text": [
      "<function outer.<locals>.inner at 0x00000230E1605CA0>\n",
      "11\n"
     ]
    }
   ],
   "source": [
    "def outer(x):\n",
    "    def inner(y):\n",
    "        return x + y\n",
    "    return inner\n",
    "\n",
    "add= outer(5)\n",
    "print(add)\n",
    "result = add(6)\n",
    "print(result) \n"
   ]
  },
  {
   "cell_type": "code",
   "execution_count": 22,
   "id": "55785135",
   "metadata": {},
   "outputs": [
    {
     "name": "stdout",
     "output_type": "stream",
     "text": [
      "<function outer.<locals>.inner at 0x00000230E1605310>\n",
      "<function outer.<locals>.inner at 0x00000230E1605310>\n",
      "welcome to python\n"
     ]
    }
   ],
   "source": [
    "def outer():\n",
    "    msg1=\"happy \"\n",
    "    def inner():\n",
    "        msg2=\" learning\"\n",
    "        msg=msg1+msg2\n",
    "        return msg\n",
    "    #print(inner)\n",
    "    return inner\n",
    "#obj=outer()\n",
    "print(obj)\n",
    "#print(inner())\n",
    "print(obj())"
   ]
  }
 ],
 "metadata": {
  "kernelspec": {
   "display_name": "Python 3 (ipykernel)",
   "language": "python",
   "name": "python3"
  },
  "language_info": {
   "codemirror_mode": {
    "name": "ipython",
    "version": 3
   },
   "file_extension": ".py",
   "mimetype": "text/x-python",
   "name": "python",
   "nbconvert_exporter": "python",
   "pygments_lexer": "ipython3",
   "version": "3.9.13"
  }
 },
 "nbformat": 4,
 "nbformat_minor": 5
}
