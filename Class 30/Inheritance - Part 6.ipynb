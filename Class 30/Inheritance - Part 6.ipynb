{
 "cells": [
  {
   "cell_type": "code",
   "execution_count": 4,
   "id": "d81f86c8",
   "metadata": {},
   "outputs": [
    {
     "name": "stdout",
     "output_type": "stream",
     "text": [
      "hello\n",
      "hello\n"
     ]
    }
   ],
   "source": [
    "class a:\n",
    "    def a_fun(self):\n",
    "        print(\"hai\")\n",
    "        \n",
    "class b(a):\n",
    "    def a_fun(self):\n",
    "        print(\"hello\")\n",
    "        \n",
    "obj=b()\n",
    "obj.a_fun()\n",
    "obj.a_fun()"
   ]
  },
  {
   "cell_type": "code",
   "execution_count": 3,
   "id": "ee71a9cd",
   "metadata": {},
   "outputs": [
    {
     "data": {
      "text/plain": [
       "(__main__.b, __main__.a, object)"
      ]
     },
     "execution_count": 3,
     "metadata": {},
     "output_type": "execute_result"
    }
   ],
   "source": [
    "b.__mro__"
   ]
  },
  {
   "cell_type": "code",
   "execution_count": 5,
   "id": "28d98aa7",
   "metadata": {},
   "outputs": [
    {
     "name": "stdout",
     "output_type": "stream",
     "text": [
      "from c\n"
     ]
    }
   ],
   "source": [
    "class a:\n",
    "    def a_fun(self):\n",
    "        print(\"hai\")\n",
    "        \n",
    "class b():\n",
    "    def a_fun(self):\n",
    "        print(\"hello\")\n",
    "        \n",
    "class c(a,b):\n",
    "    def a_fun(self):\n",
    "        print(\"from c\")\n",
    "obj=c()\n",
    "obj.a_fun()"
   ]
  },
  {
   "cell_type": "code",
   "execution_count": 6,
   "id": "9cf83d64",
   "metadata": {},
   "outputs": [
    {
     "data": {
      "text/plain": [
       "(__main__.c, __main__.a, __main__.b, object)"
      ]
     },
     "execution_count": 6,
     "metadata": {},
     "output_type": "execute_result"
    }
   ],
   "source": [
    "c.__mro__"
   ]
  },
  {
   "cell_type": "code",
   "execution_count": 11,
   "id": "4d431ed4",
   "metadata": {},
   "outputs": [
    {
     "name": "stdout",
     "output_type": "stream",
     "text": [
      "hello\n"
     ]
    }
   ],
   "source": [
    "class a:\n",
    "    def a_fun(self):\n",
    "        print(\"hai\")\n",
    "        \n",
    "class b():\n",
    "    def a_fun(self):\n",
    "        print(\"hello\")\n",
    "        \n",
    "class c(b,a):\n",
    "    pass\n",
    "\n",
    "obj=c()\n",
    "obj.a_fun()"
   ]
  },
  {
   "cell_type": "code",
   "execution_count": 12,
   "id": "f93f7fed",
   "metadata": {},
   "outputs": [
    {
     "data": {
      "text/plain": [
       "(__main__.c, __main__.b, __main__.a, object)"
      ]
     },
     "execution_count": 12,
     "metadata": {},
     "output_type": "execute_result"
    }
   ],
   "source": [
    "c.__mro__"
   ]
  },
  {
   "cell_type": "code",
   "execution_count": null,
   "id": "a726a905",
   "metadata": {},
   "outputs": [],
   "source": []
  },
  {
   "cell_type": "code",
   "execution_count": null,
   "id": "ae581e2e",
   "metadata": {},
   "outputs": [],
   "source": []
  },
  {
   "cell_type": "code",
   "execution_count": null,
   "id": "e57a48f3",
   "metadata": {},
   "outputs": [],
   "source": []
  },
  {
   "cell_type": "code",
   "execution_count": null,
   "id": "7e517536",
   "metadata": {},
   "outputs": [],
   "source": []
  },
  {
   "cell_type": "code",
   "execution_count": null,
   "id": "4762f9dc",
   "metadata": {},
   "outputs": [],
   "source": []
  }
 ],
 "metadata": {
  "kernelspec": {
   "display_name": "Python 3 (ipykernel)",
   "language": "python",
   "name": "python3"
  },
  "language_info": {
   "codemirror_mode": {
    "name": "ipython",
    "version": 3
   },
   "file_extension": ".py",
   "mimetype": "text/x-python",
   "name": "python",
   "nbconvert_exporter": "python",
   "pygments_lexer": "ipython3",
   "version": "3.9.13"
  }
 },
 "nbformat": 4,
 "nbformat_minor": 5
}
