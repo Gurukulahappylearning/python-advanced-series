{
 "cells": [
  {
   "cell_type": "code",
   "execution_count": null,
   "id": "4d792113",
   "metadata": {},
   "outputs": [],
   "source": [
    "#private member"
   ]
  },
  {
   "cell_type": "code",
   "execution_count": null,
   "id": "76012539",
   "metadata": {},
   "outputs": [],
   "source": [
    "class test:\n",
    "    def detail(self,name,age):\n",
    "        self.__name=name\n",
    "        self.__age=age\n",
    "        print(\"Name: \", obj.__name)  \n",
    "        print(\"age: \", obj.__age) \n",
    "        \n",
    "obj=test()\n",
    "obj.detail(\"sakthiaaa\",23)"
   ]
  },
  {
   "cell_type": "code",
   "execution_count": null,
   "id": "b8096ce6",
   "metadata": {},
   "outputs": [],
   "source": [
    "class test:\n",
    "    def detail(self,name,age):\n",
    "        self.__name=name\n",
    "        self.__age=age\n",
    "    print(\"Name:\", obj.__name)  \n",
    "    print(\"age: \", obj.__age)   \n",
    "obj=test()\n",
    "obj.detail(\"john\",23)"
   ]
  },
  {
   "cell_type": "code",
   "execution_count": null,
   "id": "a4110979",
   "metadata": {},
   "outputs": [],
   "source": [
    "class test1:\n",
    "    def detail(self,name1,age1):\n",
    "        self.__name1=name1\n",
    "        self.__age1=age1\n",
    "    print(\"Name:\", obj1.__name1)  \n",
    "    print(\"age: \", obj1.__age1)   \n",
    "obj1=test1()\n",
    "obj1.detail(\"john\",23)"
   ]
  },
  {
   "cell_type": "code",
   "execution_count": null,
   "id": "c07e17d6",
   "metadata": {},
   "outputs": [],
   "source": [
    "class test:\n",
    "    def detail(self,name,age):\n",
    "        self.__name=name\n",
    "        self.__age=age\n",
    "    def show(self):\n",
    "        print(\"Name:\", obj.__name)  \n",
    "        print(\"age: \", obj.__age)   \n",
    "obj=test()\n",
    "obj.detail(\"john\",23)\n",
    "obj.show()"
   ]
  },
  {
   "cell_type": "code",
   "execution_count": null,
   "id": "ff0b9dff",
   "metadata": {},
   "outputs": [],
   "source": [
    "class school:\n",
    "    def detail(self):\n",
    "        self.name=\"ABC school\"\n",
    "        print(\"school name:\",self.name)\n",
    "    def stu1(self):\n",
    "        print(\"name:sakthi\")\n",
    "        print(\"class: 10th\")\n",
    "    def stu2(self):\n",
    "        print(\"name:shiva\")\n",
    "        print(\"class: 11th\")\n",
    "obj=school()\n",
    "obj.detail()\n",
    "obj.stu1()\n",
    "obj.stu2()"
   ]
  },
  {
   "cell_type": "code",
   "execution_count": null,
   "id": "0ca85c00",
   "metadata": {},
   "outputs": [],
   "source": [
    "class school:\n",
    "    def detail(self):\n",
    "        self.name=\"ABC school\"\n",
    "        print(\"school name:\",self.name)\n",
    "    def __stu1(self):\n",
    "        print(\"name:sakthi\")\n",
    "        print(\"class: 10th\")\n",
    "    def stu2(self):\n",
    "        self.__stu1()\n",
    "        print(\"name:shiva\")\n",
    "        print(\"class: 11th\")\n",
    "obj=school()\n",
    "obj.detail()\n",
    "obj.stu2()"
   ]
  },
  {
   "cell_type": "code",
   "execution_count": null,
   "id": "db8208d0",
   "metadata": {},
   "outputs": [],
   "source": [
    "class school:\n",
    "    def detail(self):\n",
    "        self.name=\"ABC school\"\n",
    "        print(\"school name:\",self.name)\n",
    "    def __stu1(self):\n",
    "        print(\"name:sakthi\")\n",
    "        print(\"class: 10th\")\n",
    "    def __stu2(self):\n",
    "        print(\"name:shiva\")\n",
    "        print(\"class: 11th\")\n",
    "obj=school()\n",
    "obj.detail()\n",
    "obj._school__stu1()\n",
    "obj._school__stu2()"
   ]
  },
  {
   "cell_type": "code",
   "execution_count": null,
   "id": "f38072cd",
   "metadata": {},
   "outputs": [],
   "source": [
    "class school:\n",
    "    name=\"ABC school\"\n",
    "    print(\"school name:\",name)\n",
    "    def stu1(self):\n",
    "        print(\"name:sakthi\")\n",
    "        print(\"class: 10th\")\n",
    "    def stu2(self):\n",
    "        print(\"name:shiva\")\n",
    "        print(\"class: 11th\")\n",
    "obj=school()\n",
    "\n",
    "obj.stu1()\n",
    "obj.stu2()"
   ]
  },
  {
   "cell_type": "code",
   "execution_count": 3,
   "id": "ba40bee2",
   "metadata": {},
   "outputs": [
    {
     "name": "stdout",
     "output_type": "stream",
     "text": [
      "school name: ABC school\n",
      "school name: ABC school\n",
      "name:sakthi\n",
      "class: 10th\n",
      "name:shiva\n",
      "class: 11th\n"
     ]
    }
   ],
   "source": [
    "class school:\n",
    "    __name=\"ABC school\"\n",
    "    print(\"school name:\",obj.__name)\n",
    "    def stu1(self):\n",
    "        print(\"school name:\",obj.__name)\n",
    "        print(\"name:sakthi\")\n",
    "        print(\"class: 10th\")\n",
    "    def stu2(self):\n",
    "        print(\"name:shiva\")\n",
    "        print(\"class: 11th\")\n",
    "    \n",
    "obj=school()\n",
    "obj.stu1()\n",
    "obj.stu2()"
   ]
  },
  {
   "cell_type": "code",
   "execution_count": 4,
   "id": "ce5945b0",
   "metadata": {},
   "outputs": [
    {
     "name": "stdout",
     "output_type": "stream",
     "text": [
      "school name: ABC school\n",
      "school name: ABC school\n",
      "name:sakthi\n",
      "class: 10th\n",
      "name:shiva\n",
      "class: 11th\n"
     ]
    }
   ],
   "source": [
    "class school:\n",
    "    __name=\"ABC school\"\n",
    "    print(\"school name:\",obj.__name)\n",
    "    def __stu1(self):\n",
    "        print(\"school name:\",obj.__name)\n",
    "        print(\"name:sakthi\")\n",
    "        print(\"class: 10th\")\n",
    "    def stu2(self):\n",
    "        self.__stu1()\n",
    "        print(\"name:shiva\")\n",
    "        print(\"class: 11th\")\n",
    "    \n",
    "obj=school()\n",
    "obj.stu2()"
   ]
  },
  {
   "cell_type": "code",
   "execution_count": null,
   "id": "3de6da9c",
   "metadata": {},
   "outputs": [],
   "source": []
  },
  {
   "cell_type": "code",
   "execution_count": null,
   "id": "4308b3fe",
   "metadata": {},
   "outputs": [],
   "source": []
  },
  {
   "cell_type": "code",
   "execution_count": null,
   "id": "7b249539",
   "metadata": {},
   "outputs": [],
   "source": []
  },
  {
   "cell_type": "code",
   "execution_count": null,
   "id": "4bb01069",
   "metadata": {},
   "outputs": [],
   "source": []
  },
  {
   "cell_type": "code",
   "execution_count": null,
   "id": "fa22dcec",
   "metadata": {},
   "outputs": [],
   "source": []
  },
  {
   "cell_type": "code",
   "execution_count": null,
   "id": "d6b757ad",
   "metadata": {},
   "outputs": [],
   "source": []
  }
 ],
 "metadata": {
  "kernelspec": {
   "display_name": "Python 3 (ipykernel)",
   "language": "python",
   "name": "python3"
  },
  "language_info": {
   "codemirror_mode": {
    "name": "ipython",
    "version": 3
   },
   "file_extension": ".py",
   "mimetype": "text/x-python",
   "name": "python",
   "nbconvert_exporter": "python",
   "pygments_lexer": "ipython3",
   "version": "3.9.13"
  }
 },
 "nbformat": 4,
 "nbformat_minor": 5
}
