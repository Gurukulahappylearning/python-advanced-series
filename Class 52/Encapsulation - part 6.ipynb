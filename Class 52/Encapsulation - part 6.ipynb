{
 "cells": [
  {
   "cell_type": "code",
   "execution_count": null,
   "id": "c8d9a8ba",
   "metadata": {},
   "outputs": [],
   "source": [
    "# setter and getter in detail"
   ]
  },
  {
   "cell_type": "code",
   "execution_count": 6,
   "id": "d387d99f",
   "metadata": {},
   "outputs": [
    {
     "name": "stdout",
     "output_type": "stream",
     "text": [
      "you are below 18\n",
      "setter method called\n",
      "getter method called\n",
      "10\n"
     ]
    }
   ],
   "source": [
    "class demo:\n",
    "    def __init__(self):\n",
    "            self._age = 0\n",
    "    @property\n",
    "    def age(self):\n",
    "        print(\"getter method called\")\n",
    "        return self._age      \n",
    "             \n",
    "    @age.setter\n",
    "    def age(self, a):\n",
    "        if(a < 18):\n",
    "            print(\"you are below 18\")\n",
    "        print(\"setter method called\")\n",
    "        self._age = a\n",
    "       \n",
    "        \n",
    "obj= demo()\n",
    "obj.age=10\n",
    "print(obj.age)"
   ]
  }
 ],
 "metadata": {
  "kernelspec": {
   "display_name": "Python 3 (ipykernel)",
   "language": "python",
   "name": "python3"
  },
  "language_info": {
   "codemirror_mode": {
    "name": "ipython",
    "version": 3
   },
   "file_extension": ".py",
   "mimetype": "text/x-python",
   "name": "python",
   "nbconvert_exporter": "python",
   "pygments_lexer": "ipython3",
   "version": "3.9.13"
  }
 },
 "nbformat": 4,
 "nbformat_minor": 5
}
