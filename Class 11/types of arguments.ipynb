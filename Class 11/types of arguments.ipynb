{
 "cells": [
  {
   "cell_type": "code",
   "execution_count": null,
   "id": "d415fc87",
   "metadata": {},
   "outputs": [],
   "source": [
    "#types of arguments\n",
    "#position\n",
    "#keyword\n",
    "#default\n",
    "#variable length"
   ]
  },
  {
   "cell_type": "code",
   "execution_count": null,
   "id": "3de2796e",
   "metadata": {},
   "outputs": [],
   "source": [
    "def add(x,*y):\n",
    "    z=x\n",
    "    for i in y:\n",
    "        z=z+i\n",
    "    print(\"sum:\",z)\n",
    "add(10,20,30,40)"
   ]
  },
  {
   "cell_type": "code",
   "execution_count": null,
   "id": "0efc62fa",
   "metadata": {},
   "outputs": [],
   "source": [
    "#kwargs\n",
    "# keyword variable length argument"
   ]
  },
  {
   "cell_type": "code",
   "execution_count": 1,
   "id": "6de7d039",
   "metadata": {},
   "outputs": [
    {
     "name": "stdout",
     "output_type": "stream",
     "text": [
      "name: john\n",
      "age: 43\n",
      "city: chennai\n",
      "ph: 1234567890\n"
     ]
    }
   ],
   "source": [
    "def person(name,age,city,ph):\n",
    "    \n",
    "    print(\"name:\",name)\n",
    "    print(\"age:\",age)\n",
    "    print(\"city:\",city)\n",
    "    print(\"ph:\",ph)\n",
    "person(\"john\",43,\"chennai\",1234567890)"
   ]
  },
  {
   "cell_type": "code",
   "execution_count": 2,
   "id": "6016b014",
   "metadata": {},
   "outputs": [
    {
     "name": "stdout",
     "output_type": "stream",
     "text": [
      "name: john\n",
      "(43, 'chennai', 1234567890)\n"
     ]
    }
   ],
   "source": [
    "def person(name,*values):\n",
    "    print(\"name:\",name)\n",
    "    print(values)\n",
    "person(\"john\",43,\"chennai\",1234567890)"
   ]
  },
  {
   "cell_type": "code",
   "execution_count": 3,
   "id": "20350056",
   "metadata": {
    "scrolled": true
   },
   "outputs": [
    {
     "ename": "TypeError",
     "evalue": "person() got an unexpected keyword argument 'age'",
     "output_type": "error",
     "traceback": [
      "\u001b[1;31m---------------------------------------------------------------------------\u001b[0m",
      "\u001b[1;31mTypeError\u001b[0m                                 Traceback (most recent call last)",
      "\u001b[1;32m~\\AppData\\Local\\Temp\\ipykernel_5068\\127869623.py\u001b[0m in \u001b[0;36m<module>\u001b[1;34m\u001b[0m\n\u001b[0;32m      2\u001b[0m     \u001b[0mprint\u001b[0m\u001b[1;33m(\u001b[0m\u001b[1;34m\"name:\"\u001b[0m\u001b[1;33m,\u001b[0m\u001b[0mname\u001b[0m\u001b[1;33m)\u001b[0m\u001b[1;33m\u001b[0m\u001b[1;33m\u001b[0m\u001b[0m\n\u001b[0;32m      3\u001b[0m     \u001b[0mprint\u001b[0m\u001b[1;33m(\u001b[0m\u001b[0mvalues\u001b[0m\u001b[1;33m)\u001b[0m\u001b[1;33m\u001b[0m\u001b[1;33m\u001b[0m\u001b[0m\n\u001b[1;32m----> 4\u001b[1;33m \u001b[0mperson\u001b[0m\u001b[1;33m(\u001b[0m\u001b[1;34m\"john\"\u001b[0m\u001b[1;33m,\u001b[0m\u001b[0mage\u001b[0m\u001b[1;33m=\u001b[0m\u001b[1;36m43\u001b[0m\u001b[1;33m,\u001b[0m\u001b[0mcity\u001b[0m\u001b[1;33m=\u001b[0m\u001b[1;34m\"chennai\"\u001b[0m\u001b[1;33m,\u001b[0m\u001b[0mph\u001b[0m\u001b[1;33m=\u001b[0m\u001b[1;36m1234567890\u001b[0m\u001b[1;33m)\u001b[0m\u001b[1;33m\u001b[0m\u001b[1;33m\u001b[0m\u001b[0m\n\u001b[0m",
      "\u001b[1;31mTypeError\u001b[0m: person() got an unexpected keyword argument 'age'"
     ]
    }
   ],
   "source": [
    "def person(name,*values):\n",
    "    print(\"name:\",name)\n",
    "    print(values)\n",
    "person(\"john\",age=43,city=\"chennai\",ph=1234567890)"
   ]
  },
  {
   "cell_type": "code",
   "execution_count": 4,
   "id": "92d0ac64",
   "metadata": {},
   "outputs": [
    {
     "name": "stdout",
     "output_type": "stream",
     "text": [
      "name: john\n",
      "{'age': 43, 'city': 'chennai', 'ph': 1234567890}\n"
     ]
    }
   ],
   "source": [
    "def person(name,**values):\n",
    "    print(\"name:\",name)\n",
    "    print(values)\n",
    "person(\"john\",age=43,city=\"chennai\",ph=1234567890)"
   ]
  },
  {
   "cell_type": "code",
   "execution_count": 5,
   "id": "980f1a39",
   "metadata": {},
   "outputs": [
    {
     "name": "stdout",
     "output_type": "stream",
     "text": [
      "name: john\n",
      "age 43\n",
      "city chennai\n",
      "ph 1234567890\n"
     ]
    }
   ],
   "source": [
    "def person(name,**values):\n",
    "    print(\"name:\",name)\n",
    "    for i ,j in values.items():\n",
    "        print(i,j)\n",
    "person(\"john\",age=43,city=\"chennai\",ph=1234567890)"
   ]
  },
  {
   "cell_type": "code",
   "execution_count": 6,
   "id": "deb3df4e",
   "metadata": {},
   "outputs": [
    {
     "name": "stdout",
     "output_type": "stream",
     "text": [
      "name: john\n",
      "dict_items([('age', 43), ('city', 'chennai'), ('ph', 1234567890)])\n",
      "age 43\n",
      "city chennai\n",
      "ph 1234567890\n"
     ]
    }
   ],
   "source": [
    "def person(name,**values):\n",
    "    print(\"name:\",name)\n",
    "    print(values.items())\n",
    "    for i ,j in values.items():\n",
    "        print(i,j)\n",
    "person(\"john\",age=43,city=\"chennai\",ph=1234567890)"
   ]
  },
  {
   "cell_type": "code",
   "execution_count": 7,
   "id": "715b1419",
   "metadata": {},
   "outputs": [
    {
     "name": "stdout",
     "output_type": "stream",
     "text": [
      "name: john\n",
      "age: 43\n",
      "city: chennai\n",
      "ph: 1234567890\n"
     ]
    }
   ],
   "source": [
    "def person(name,**values):\n",
    "    print(\"name:\",name)\n",
    "    print(\"age:\",values['age'])\n",
    "    print(\"city:\",values['city'])\n",
    "    print(\"ph:\",values['ph'])\n",
    "person(\"john\",age=43,city=\"chennai\",ph=1234567890)"
   ]
  },
  {
   "cell_type": "code",
   "execution_count": null,
   "id": "085fa5ad",
   "metadata": {},
   "outputs": [],
   "source": []
  },
  {
   "cell_type": "code",
   "execution_count": null,
   "id": "a90db4ae",
   "metadata": {},
   "outputs": [],
   "source": []
  },
  {
   "cell_type": "code",
   "execution_count": null,
   "id": "d2987aa8",
   "metadata": {},
   "outputs": [],
   "source": []
  },
  {
   "cell_type": "code",
   "execution_count": null,
   "id": "66a170ce",
   "metadata": {},
   "outputs": [],
   "source": []
  },
  {
   "cell_type": "code",
   "execution_count": null,
   "id": "f5021e3f",
   "metadata": {},
   "outputs": [],
   "source": []
  }
 ],
 "metadata": {
  "kernelspec": {
   "display_name": "Python 3 (ipykernel)",
   "language": "python",
   "name": "python3"
  },
  "language_info": {
   "codemirror_mode": {
    "name": "ipython",
    "version": 3
   },
   "file_extension": ".py",
   "mimetype": "text/x-python",
   "name": "python",
   "nbconvert_exporter": "python",
   "pygments_lexer": "ipython3",
   "version": "3.9.13"
  }
 },
 "nbformat": 4,
 "nbformat_minor": 5
}
