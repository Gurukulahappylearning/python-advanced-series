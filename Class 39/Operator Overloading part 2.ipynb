{
 "cells": [
  {
   "cell_type": "code",
   "execution_count": 18,
   "id": "94cdb9db",
   "metadata": {},
   "outputs": [
    {
     "name": "stdout",
     "output_type": "stream",
     "text": [
      "30\n",
      "80\n"
     ]
    }
   ],
   "source": [
    "class student:\n",
    "    def __init__(self,mark1,mark2):\n",
    "        self.m1=mark1\n",
    "        self.m2=mark2\n",
    "        \n",
    "    def __add__(self,temp):\n",
    "        first_stu=self.m1+self.m2\n",
    "        second_stu=temp.m1+temp.m2\n",
    "        total=student(first_stu,second_stu)\n",
    "        return total\n",
    "    \n",
    "s1=student(10,20)\n",
    "s2=student(30,50)\n",
    "total=s1+s2\n",
    "\n",
    "print(total.m1)\n",
    "print(total.m2)"
   ]
  },
  {
   "cell_type": "code",
   "execution_count": 20,
   "id": "81d8e7ed",
   "metadata": {},
   "outputs": [
    {
     "name": "stdout",
     "output_type": "stream",
     "text": [
      "addded value: 30 80\n",
      "subtracted value: -10 -20\n",
      "multiplicated value: 200 1500\n",
      "average: 15.0 40.0\n"
     ]
    }
   ],
   "source": [
    "class student:\n",
    "    def __init__(self,mark1,mark2):\n",
    "        self.m1=mark1\n",
    "        self.m2=mark2\n",
    "    def __add__(self,temp):\n",
    "        first_stu=self.m1+self.m2\n",
    "        second_stu=temp.m1+temp.m2\n",
    "        total=student(first_stu,second_stu)\n",
    "        return total\n",
    "    def __sub__(self,temp):\n",
    "        first_stu=self.m1-self.m2\n",
    "        second_stu=temp.m1-temp.m2\n",
    "        total=student(first_stu,second_stu)\n",
    "        return total\n",
    "    def __mul__(self,temp):\n",
    "        first_stu=self.m1*self.m2\n",
    "        second_stu=temp.m1*temp.m2\n",
    "        total=student(first_stu,second_stu)\n",
    "        return total\n",
    "    def __truediv__(self,temp):\n",
    "        first_stu=(self.m1+self.m2)/2\n",
    "        second_stu=(temp.m1+temp.m2)/2\n",
    "        total=student(first_stu,second_stu)\n",
    "        return total    \n",
    "s1=student(10,20)\n",
    "s2=student(30,50)\n",
    "add=s1+s2\n",
    "sub=s1-s2\n",
    "mul=s1*s2\n",
    "div=s1/s2\n",
    "\n",
    "print(\"addded value:\",add.m1, add.m2)\n",
    "print(\"subtracted value:\",sub.m1, sub.m2)\n",
    "print(\"multiplicated value:\", mul.m1, mul.m2)\n",
    "print(\"average:\",div.m1, div.m2)"
   ]
  }
 ],
 "metadata": {
  "kernelspec": {
   "display_name": "Python 3 (ipykernel)",
   "language": "python",
   "name": "python3"
  },
  "language_info": {
   "codemirror_mode": {
    "name": "ipython",
    "version": 3
   },
   "file_extension": ".py",
   "mimetype": "text/x-python",
   "name": "python",
   "nbconvert_exporter": "python",
   "pygments_lexer": "ipython3",
   "version": "3.9.13"
  }
 },
 "nbformat": 4,
 "nbformat_minor": 5
}
