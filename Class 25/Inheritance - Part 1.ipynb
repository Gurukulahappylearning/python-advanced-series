{
 "cells": [
  {
   "cell_type": "code",
   "execution_count": 1,
   "id": "d6579bfc",
   "metadata": {},
   "outputs": [],
   "source": [
    "# what is inheritance"
   ]
  },
  {
   "cell_type": "code",
   "execution_count": null,
   "id": "019b94d9",
   "metadata": {},
   "outputs": [],
   "source": [
    "# types of inheritance\n",
    "\n",
    "# single inheritance\n",
    "# multiple inheritance\n",
    "# multilevel inheritance\n",
    "# hybrid inheritance\n",
    "# hirearchical inheritance"
   ]
  },
  {
   "cell_type": "code",
   "execution_count": null,
   "id": "ae354946",
   "metadata": {},
   "outputs": [],
   "source": [
    "# example"
   ]
  },
  {
   "cell_type": "code",
   "execution_count": 1,
   "id": "a76a3ae1",
   "metadata": {},
   "outputs": [
    {
     "name": "stdout",
     "output_type": "stream",
     "text": [
      "Hello I am from Parent Class\n",
      "Hello I am from Child Class\n"
     ]
    }
   ],
   "source": [
    "class parent:                  \n",
    "    def function1(self):\n",
    "        print(\"Hello I am from Parent Class\")\n",
    "\n",
    "class child(parent):    \n",
    "    def function2(self):                 \n",
    "        print(\"Hello I am from Child Class\")   \n",
    "                \n",
    "obj = child()                 \n",
    "obj.function1()                   \n",
    "obj.function2()"
   ]
  },
  {
   "cell_type": "code",
   "execution_count": 2,
   "id": "d3787a78",
   "metadata": {},
   "outputs": [
    {
     "name": "stdout",
     "output_type": "stream",
     "text": [
      "employee name: john\n",
      "employee age: 23\n",
      "employee gender: male\n",
      "employee city: chennai\n"
     ]
    }
   ],
   "source": [
    "class person:                  \n",
    "    def detail(self):\n",
    "        name=\"john\"\n",
    "        age=23\n",
    "        gender=\"male\"\n",
    "        print(\"employee name:\",name)\n",
    "        print(\"employee age:\",age)\n",
    "        print(\"employee gender:\",gender)\n",
    "class update(person):    \n",
    "    def detail_update(self):\n",
    "        city=\"chennai\"\n",
    "        print(\"employee city:\",city)\n",
    " \n",
    "                \n",
    "obj=update()                 \n",
    "obj.detail()                   \n",
    "obj.detail_update()"
   ]
  },
  {
   "cell_type": "code",
   "execution_count": null,
   "id": "4feebd97",
   "metadata": {},
   "outputs": [],
   "source": []
  },
  {
   "cell_type": "code",
   "execution_count": null,
   "id": "ed3ff94c",
   "metadata": {},
   "outputs": [],
   "source": []
  },
  {
   "cell_type": "code",
   "execution_count": null,
   "id": "3db1a4c2",
   "metadata": {},
   "outputs": [],
   "source": []
  },
  {
   "cell_type": "code",
   "execution_count": null,
   "id": "c275fede",
   "metadata": {},
   "outputs": [],
   "source": []
  },
  {
   "cell_type": "code",
   "execution_count": null,
   "id": "cbec7337",
   "metadata": {},
   "outputs": [],
   "source": []
  },
  {
   "cell_type": "code",
   "execution_count": null,
   "id": "900ab12f",
   "metadata": {},
   "outputs": [],
   "source": []
  },
  {
   "cell_type": "code",
   "execution_count": null,
   "id": "3d8e2c24",
   "metadata": {},
   "outputs": [],
   "source": []
  },
  {
   "cell_type": "code",
   "execution_count": null,
   "id": "0a57735d",
   "metadata": {},
   "outputs": [],
   "source": []
  }
 ],
 "metadata": {
  "kernelspec": {
   "display_name": "Python 3 (ipykernel)",
   "language": "python",
   "name": "python3"
  },
  "language_info": {
   "codemirror_mode": {
    "name": "ipython",
    "version": 3
   },
   "file_extension": ".py",
   "mimetype": "text/x-python",
   "name": "python",
   "nbconvert_exporter": "python",
   "pygments_lexer": "ipython3",
   "version": "3.9.13"
  }
 },
 "nbformat": 4,
 "nbformat_minor": 5
}
