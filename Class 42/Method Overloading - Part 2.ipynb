{
 "cells": [
  {
   "cell_type": "code",
   "execution_count": 26,
   "id": "7ddb5759",
   "metadata": {},
   "outputs": [
    {
     "name": "stdout",
     "output_type": "stream",
     "text": [
      "60\n",
      "30\n",
      "10\n"
     ]
    }
   ],
   "source": [
    "class a:\n",
    "    def fun(self,a=None,b=None,c=None):\n",
    "        if(a!=None and b!=None and c!=None):\n",
    "            print(a+b+c)\n",
    "        elif(a!=None and b!=None):\n",
    "            print(a+b)\n",
    "        else:\n",
    "            print(a)\n",
    "\n",
    "obj=a()\n",
    "obj.fun(10,20,30)\n",
    "obj.fun(10,20)\n",
    "obj.fun(10)"
   ]
  },
  {
   "cell_type": "code",
   "execution_count": 8,
   "id": "c0a87405",
   "metadata": {},
   "outputs": [
    {
     "name": "stdout",
     "output_type": "stream",
     "text": [
      "added value: 363\n",
      "added value: 30\n",
      "added value: 10\n"
     ]
    }
   ],
   "source": [
    "class a:\n",
    "    def fun(self,*val):\n",
    "        value=0\n",
    "        for i in val:\n",
    "            value=value+i\n",
    "        print(\"added value:\",value)\n",
    "obj=a()\n",
    "obj.fun(10,20,30,45,67,78,90,23)\n",
    "obj.fun(10,20)\n",
    "obj.fun(10)"
   ]
  },
  {
   "cell_type": "code",
   "execution_count": 10,
   "id": "4418a905",
   "metadata": {},
   "outputs": [
    {
     "name": "stdout",
     "output_type": "stream",
     "text": [
      "square area: 400\n",
      "square area: 100\n"
     ]
    }
   ],
   "source": [
    "class a:\n",
    "    def fun(self,a=None,b=None):\n",
    "        if(a!=None and b!=None and a!=b):\n",
    "            print(\"Rectangle area:\",a*b)\n",
    "        else:\n",
    "            print(\"square area:\",a*a)\n",
    "\n",
    "obj=a()\n",
    "obj.fun(20,20)\n",
    "obj.fun(10)"
   ]
  },
  {
   "cell_type": "code",
   "execution_count": null,
   "id": "24da728d",
   "metadata": {},
   "outputs": [],
   "source": []
  },
  {
   "cell_type": "code",
   "execution_count": null,
   "id": "21a9a4ef",
   "metadata": {},
   "outputs": [],
   "source": []
  },
  {
   "cell_type": "code",
   "execution_count": null,
   "id": "e1d2faeb",
   "metadata": {},
   "outputs": [],
   "source": []
  },
  {
   "cell_type": "code",
   "execution_count": null,
   "id": "f69ff569",
   "metadata": {},
   "outputs": [],
   "source": []
  },
  {
   "cell_type": "code",
   "execution_count": null,
   "id": "e22a25fe",
   "metadata": {},
   "outputs": [],
   "source": []
  },
  {
   "cell_type": "code",
   "execution_count": null,
   "id": "34c9ed7e",
   "metadata": {},
   "outputs": [],
   "source": []
  },
  {
   "cell_type": "code",
   "execution_count": null,
   "id": "03fe2108",
   "metadata": {},
   "outputs": [],
   "source": []
  },
  {
   "cell_type": "code",
   "execution_count": 29,
   "id": "70ddd080",
   "metadata": {},
   "outputs": [
    {
     "name": "stdout",
     "output_type": "stream",
     "text": [
      "added value: 60\n"
     ]
    }
   ],
   "source": []
  },
  {
   "cell_type": "code",
   "execution_count": 2,
   "id": "98237cf5",
   "metadata": {},
   "outputs": [
    {
     "name": "stdout",
     "output_type": "stream",
     "text": [
      "Rectangle area: 200\n",
      "square area: 100\n"
     ]
    }
   ],
   "source": []
  }
 ],
 "metadata": {
  "kernelspec": {
   "display_name": "Python 3 (ipykernel)",
   "language": "python",
   "name": "python3"
  },
  "language_info": {
   "codemirror_mode": {
    "name": "ipython",
    "version": 3
   },
   "file_extension": ".py",
   "mimetype": "text/x-python",
   "name": "python",
   "nbconvert_exporter": "python",
   "pygments_lexer": "ipython3",
   "version": "3.9.13"
  }
 },
 "nbformat": 4,
 "nbformat_minor": 5
}
