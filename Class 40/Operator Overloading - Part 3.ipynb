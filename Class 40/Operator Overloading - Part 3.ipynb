{
 "cells": [
  {
   "cell_type": "code",
   "execution_count": 18,
   "id": "8376d1bc",
   "metadata": {},
   "outputs": [
    {
     "name": "stdout",
     "output_type": "stream",
     "text": [
      "object 2 is greater than object 1\n"
     ]
    }
   ],
   "source": [
    "class A:\n",
    "    def __init__(self, value):\n",
    "        self.value = value\n",
    "    def __gt__(self, other):\n",
    "        if(self.value > other.value):\n",
    "            return True\n",
    "        else:\n",
    "            return False\n",
    "obj1 = A(10)\n",
    "obj2 = A(30)\n",
    "\n",
    "if(obj1 > obj2):\n",
    "    print(\"object 1 is greater than object2\")\n",
    "else:\n",
    "    print(\"object 2 is greater than object 1\")"
   ]
  },
  {
   "cell_type": "code",
   "execution_count": 19,
   "id": "6bf5c970",
   "metadata": {},
   "outputs": [
    {
     "name": "stdout",
     "output_type": "stream",
     "text": [
      "object 1 is lesser than object2\n"
     ]
    }
   ],
   "source": [
    "class A:\n",
    "    def __init__(self, value):\n",
    "        self.value = value\n",
    "    def __lt__(self, other):  \n",
    "        if(self.value < other.value):\n",
    "            return \"object 1 is lesser than object2\"\n",
    "        else:\n",
    "            return \"object 2 is lesser than object 1\"\n",
    "    \n",
    "                 \n",
    "object1 = A(2)\n",
    "object2 = A(3)\n",
    "print(object1 < object2)\n",
    " \n"
   ]
  },
  {
   "cell_type": "code",
   "execution_count": 20,
   "id": "d2c65e7a",
   "metadata": {},
   "outputs": [
    {
     "name": "stdout",
     "output_type": "stream",
     "text": [
      "Both are equal\n"
     ]
    }
   ],
   "source": [
    "class A:\n",
    "    def __init__(self, value):\n",
    "        self.value = value\n",
    "    def __eq__(self, other):\n",
    "        if(self.value == other.value):\n",
    "            print( \"Both are equal\")\n",
    "        else:\n",
    "            print(\"Not equal\")\n",
    "object3 = A(9)\n",
    "object4 = A(9)\n",
    "object3 == object4"
   ]
  },
  {
   "cell_type": "raw",
   "id": "40675d5a",
   "metadata": {},
   "source": [
    "Operator\tMagic Function\n",
    "    +\t__add__(self, other)\n",
    "    -\t__sub__(self, other)\n",
    "    *\t__mul__(self, other)\n",
    "    /\t__truediv__(self, other)\n",
    "    //\t__floordiv__(self, other)\n",
    "    %\t__mod__(self, other)\n",
    "    **\t__pow__(self, other)\n",
    "    >>\t__rshift__(self, other)\n",
    "    <<\t__lshift__(self, other)\n",
    "    &\t__and__(self, other)\n",
    "    |\t__or__(self, other)\n",
    "    ^\t__xor__(self, other)\n",
    "\n",
    "Comparison Operators:\n",
    "Operator\tMagic Function\n",
    "    <\t__LT__(SELF, OTHER)\n",
    "    >\t__GT__(SELF, OTHER)\n",
    "    <=\t__LE__(SELF, OTHER)\n",
    "    >=\t__GE__(SELF, OTHER)\n",
    "    ==\t__EQ__(SELF, OTHER)\n",
    "    !=\t__NE__(SELF, OTHER)\n",
    "\n",
    "\n",
    "Assignment Operators:\n",
    "Operator\tMagic Function\n",
    "    -=\t__ISUB__(SELF, OTHER)\n",
    "    +=\t__IADD__(SELF, OTHER)\n",
    "    *=\t__IMUL__(SELF, OTHER)\n",
    "    /=\t__IDIV__(SELF, OTHER)\n",
    "    //=\t__IFLOORDIV__(SELF, OTHER)\n",
    "    %=\t__IMOD__(SELF, OTHER)\n",
    "    **=\t__IPOW__(SELF, OTHER)\n",
    "    >>=\t__IRSHIFT__(SELF, OTHER)\n",
    "    <<=\t__ILSHIFT__(SELF, OTHER)\n",
    "    &=\t__IAND__(SELF, OTHER)\n",
    "    |=\t__IOR__(SELF, OTHER)\n",
    "    ^=\t__IXOR__(SELF, OTHER)"
   ]
  }
 ],
 "metadata": {
  "kernelspec": {
   "display_name": "Python 3 (ipykernel)",
   "language": "python",
   "name": "python3"
  },
  "language_info": {
   "codemirror_mode": {
    "name": "ipython",
    "version": 3
   },
   "file_extension": ".py",
   "mimetype": "text/x-python",
   "name": "python",
   "nbconvert_exporter": "python",
   "pygments_lexer": "ipython3",
   "version": "3.9.13"
  }
 },
 "nbformat": 4,
 "nbformat_minor": 5
}
