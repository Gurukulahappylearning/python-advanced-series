{
 "cells": [
  {
   "cell_type": "code",
   "execution_count": null,
   "id": "91bb0c8d",
   "metadata": {},
   "outputs": [],
   "source": [
    "#syntax\n"
   ]
  },
  {
   "cell_type": "code",
   "execution_count": null,
   "id": "2941e2b8",
   "metadata": {},
   "outputs": [],
   "source": [
    "#class with print"
   ]
  },
  {
   "cell_type": "code",
   "execution_count": null,
   "id": "215246e5",
   "metadata": {},
   "outputs": [],
   "source": [
    "#class with variable"
   ]
  },
  {
   "cell_type": "code",
   "execution_count": null,
   "id": "42f69fd2",
   "metadata": {},
   "outputs": [],
   "source": [
    "#creating object"
   ]
  },
  {
   "cell_type": "code",
   "execution_count": null,
   "id": "f9eaac18",
   "metadata": {},
   "outputs": [],
   "source": [
    "# class and object"
   ]
  }
 ],
 "metadata": {
  "kernelspec": {
   "display_name": "Python 3 (ipykernel)",
   "language": "python",
   "name": "python3"
  },
  "language_info": {
   "codemirror_mode": {
    "name": "ipython",
    "version": 3
   },
   "file_extension": ".py",
   "mimetype": "text/x-python",
   "name": "python",
   "nbconvert_exporter": "python",
   "pygments_lexer": "ipython3",
   "version": "3.9.13"
  }
 },
 "nbformat": 4,
 "nbformat_minor": 5
}
