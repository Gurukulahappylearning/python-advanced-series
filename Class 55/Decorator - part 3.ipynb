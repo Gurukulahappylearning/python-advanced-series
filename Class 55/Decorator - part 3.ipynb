{
 "cells": [
  {
   "cell_type": "code",
   "execution_count": null,
   "id": "ac0a5b64",
   "metadata": {},
   "outputs": [],
   "source": [
    "# nested function\n",
    "# return function from another function\n",
    "# function as a reference"
   ]
  },
  {
   "cell_type": "code",
   "execution_count": null,
   "id": "d7465780",
   "metadata": {},
   "outputs": [],
   "source": [
    "def outer():\n",
    "    msg1=\"happy \"\n",
    "    def inner():\n",
    "        msg2=\"learning\"\n",
    "        msg=msg1+msg2\n",
    "        return msg   \n",
    "    return inner\n",
    "obj=outer()\n",
    "print(obj())"
   ]
  },
  {
   "cell_type": "code",
   "execution_count": null,
   "id": "e6cef560",
   "metadata": {},
   "outputs": [],
   "source": [
    "# passing function as a parameter"
   ]
  },
  {
   "cell_type": "code",
   "execution_count": null,
   "id": "223ee395",
   "metadata": {},
   "outputs": [],
   "source": [
    "def function1():\n",
    "    print(\"function1\")\n",
    "def function2(ref):\n",
    "    ref()\n",
    "    print(\"function 2\")\n",
    "print(function1)\n",
    "function2(function1)"
   ]
  },
  {
   "cell_type": "code",
   "execution_count": null,
   "id": "43722e56",
   "metadata": {},
   "outputs": [],
   "source": [
    "#return function as a value"
   ]
  },
  {
   "cell_type": "code",
   "execution_count": 8,
   "id": "63d4e112",
   "metadata": {
    "scrolled": true
   },
   "outputs": [
    {
     "name": "stdout",
     "output_type": "stream",
     "text": [
      "hello ref: <function greeting.<locals>.hello at 0x00000279EFCF6670>\n",
      "Hello, Gurukula\n",
      "call num: <function greeting.<locals>.hello at 0x00000279EFCF6670>\n"
     ]
    }
   ],
   "source": [
    "def greeting(name):\n",
    "    def hello():\n",
    "        return \"Hello, \" + name\n",
    "    print(\"hello ref:\",hello)\n",
    "    return hello\n",
    "\n",
    "call = greeting(\"Gurukula\")\n",
    "print(call())  \n",
    "print(\"call num:\",call)"
   ]
  },
  {
   "cell_type": "code",
   "execution_count": 15,
   "id": "31cb09c3",
   "metadata": {},
   "outputs": [
    {
     "name": "stdout",
     "output_type": "stream",
     "text": [
      "HAPPY LEARNING\n"
     ]
    }
   ],
   "source": [
    "def upperstring(ref):\n",
    "    def process():\n",
    "        data=ref()\n",
    "        return data.upper()\n",
    "    return process\n",
    "\n",
    "def myfunction():\n",
    "    return \"happy learning\"\n",
    "\n",
    "output=upperstring(myfunction)\n",
    "print(output())\n"
   ]
  }
 ],
 "metadata": {
  "kernelspec": {
   "display_name": "Python 3 (ipykernel)",
   "language": "python",
   "name": "python3"
  },
  "language_info": {
   "codemirror_mode": {
    "name": "ipython",
    "version": 3
   },
   "file_extension": ".py",
   "mimetype": "text/x-python",
   "name": "python",
   "nbconvert_exporter": "python",
   "pygments_lexer": "ipython3",
   "version": "3.9.13"
  }
 },
 "nbformat": 4,
 "nbformat_minor": 5
}
