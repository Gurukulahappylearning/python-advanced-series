{
 "cells": [
  {
   "cell_type": "code",
   "execution_count": null,
   "id": "dad3e17a",
   "metadata": {},
   "outputs": [],
   "source": [
    "#what is function"
   ]
  },
  {
   "cell_type": "code",
   "execution_count": null,
   "id": "5cde172b",
   "metadata": {},
   "outputs": [],
   "source": [
    "#syntax"
   ]
  },
  {
   "cell_type": "code",
   "execution_count": 1,
   "id": "8da80ce2",
   "metadata": {},
   "outputs": [],
   "source": [
    "# sample code\n",
    "\n",
    "def greeting():\n",
    "    print(\"hello.. i am from function\")\n",
    "    "
   ]
  },
  {
   "cell_type": "code",
   "execution_count": 2,
   "id": "a0c22245",
   "metadata": {
    "scrolled": true
   },
   "outputs": [
    {
     "name": "stdout",
     "output_type": "stream",
     "text": [
      "hello.. i am from function\n"
     ]
    }
   ],
   "source": [
    "def greeting():\n",
    "    print(\"hello.. i am from function\")\n",
    "greeting()"
   ]
  },
  {
   "cell_type": "code",
   "execution_count": 5,
   "id": "fefe6c6b",
   "metadata": {},
   "outputs": [
    {
     "name": "stdout",
     "output_type": "stream",
     "text": [
      "hello.. i am from function\n",
      "happy learning\n"
     ]
    }
   ],
   "source": [
    "def greeting():\n",
    "    print(\"hello.. i am from function\")\n",
    "    print(\"happy learning\")\n",
    "greeting()\n"
   ]
  },
  {
   "cell_type": "code",
   "execution_count": 6,
   "id": "7991b560",
   "metadata": {
    "scrolled": false
   },
   "outputs": [
    {
     "name": "stdout",
     "output_type": "stream",
     "text": [
      "hello.. i am from function\n",
      "happy learning\n",
      "i am second function call\n",
      "hello.. i am from function\n",
      "happy learning\n"
     ]
    }
   ],
   "source": [
    "def greeting():\n",
    "    print(\"hello.. i am from function\")\n",
    "    print(\"happy learning\")\n",
    "greeting()\n",
    "print(\"i am second function call\")\n",
    "greeting()"
   ]
  },
  {
   "cell_type": "code",
   "execution_count": 7,
   "id": "e4408aa1",
   "metadata": {
    "scrolled": true
   },
   "outputs": [
    {
     "ename": "NameError",
     "evalue": "name 'test' is not defined",
     "output_type": "error",
     "traceback": [
      "\u001b[1;31m---------------------------------------------------------------------------\u001b[0m",
      "\u001b[1;31mNameError\u001b[0m                                 Traceback (most recent call last)",
      "\u001b[1;32m~\\AppData\\Local\\Temp\\ipykernel_13028\\2557177673.py\u001b[0m in \u001b[0;36m<module>\u001b[1;34m\u001b[0m\n\u001b[1;32m----> 1\u001b[1;33m \u001b[0mtest\u001b[0m\u001b[1;33m(\u001b[0m\u001b[1;33m)\u001b[0m\u001b[1;33m\u001b[0m\u001b[1;33m\u001b[0m\u001b[0m\n\u001b[0m\u001b[0;32m      2\u001b[0m \u001b[1;32mdef\u001b[0m \u001b[0mtest\u001b[0m\u001b[1;33m(\u001b[0m\u001b[1;33m)\u001b[0m\u001b[1;33m:\u001b[0m\u001b[1;33m\u001b[0m\u001b[1;33m\u001b[0m\u001b[0m\n\u001b[0;32m      3\u001b[0m     \u001b[0mprint\u001b[0m\u001b[1;33m(\u001b[0m\u001b[1;34m\"i am from test\"\u001b[0m\u001b[1;33m)\u001b[0m\u001b[1;33m\u001b[0m\u001b[1;33m\u001b[0m\u001b[0m\n",
      "\u001b[1;31mNameError\u001b[0m: name 'test' is not defined"
     ]
    }
   ],
   "source": [
    "test()\n",
    "def test():\n",
    "    print(\"i am from test\")"
   ]
  },
  {
   "cell_type": "code",
   "execution_count": 8,
   "id": "c9ddb0bb",
   "metadata": {},
   "outputs": [
    {
     "name": "stdout",
     "output_type": "stream",
     "text": [
      "i am from test\n"
     ]
    }
   ],
   "source": [
    "\n",
    "def test():\n",
    "    print(\"i am from test\")\n",
    "test()"
   ]
  }
 ],
 "metadata": {
  "kernelspec": {
   "display_name": "Python 3 (ipykernel)",
   "language": "python",
   "name": "python3"
  },
  "language_info": {
   "codemirror_mode": {
    "name": "ipython",
    "version": 3
   },
   "file_extension": ".py",
   "mimetype": "text/x-python",
   "name": "python",
   "nbconvert_exporter": "python",
   "pygments_lexer": "ipython3",
   "version": "3.9.13"
  }
 },
 "nbformat": 4,
 "nbformat_minor": 5
}
