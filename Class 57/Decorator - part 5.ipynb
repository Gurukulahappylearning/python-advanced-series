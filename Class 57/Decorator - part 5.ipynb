{
 "cells": [
  {
   "cell_type": "code",
   "execution_count": 31,
   "id": "b43febc7",
   "metadata": {},
   "outputs": [
    {
     "name": "stdout",
     "output_type": "stream",
     "text": [
      "<function upperstring.<locals>.process at 0x0000022D23CE45E0>\n",
      "HAPPY LEARNING\n",
      "<function upperstring.<locals>.process at 0x0000022D23CE45E0>\n"
     ]
    }
   ],
   "source": [
    "def upperstring(ref):\n",
    "    def process():\n",
    "        data=ref()\n",
    "        return data.upper()\n",
    "    print(process)\n",
    "    return process\n",
    "\n",
    "@upperstring\n",
    "def myfunction():\n",
    "    return \"happy learning\"\n",
    "print(myfunction())\n",
    "print(myfunction)"
   ]
  },
  {
   "cell_type": "code",
   "execution_count": 15,
   "id": "ffcb87dd",
   "metadata": {},
   "outputs": [
    {
     "name": "stdout",
     "output_type": "stream",
     "text": [
      "HAPPY LEARNING\n"
     ]
    }
   ],
   "source": [
    "def decor1(ref):\n",
    "    def process1():\n",
    "        data=ref()\n",
    "        return data.upper()\n",
    "    return process1\n",
    "\n",
    "def myfunction():\n",
    "    return \"happy learning\"\n",
    "\n",
    "myfun=decor1(myfunction)\n",
    "print(myfun())"
   ]
  },
  {
   "cell_type": "code",
   "execution_count": 36,
   "id": "1eb3eb2e",
   "metadata": {},
   "outputs": [
    {
     "name": "stdout",
     "output_type": "stream",
     "text": [
      "['HAPPY', 'LEARNING']\n"
     ]
    }
   ],
   "source": [
    "def decor1(ref):\n",
    "    def process1():\n",
    "        data=ref()\n",
    "        return data.upper()\n",
    "    return process1\n",
    "\n",
    "def decor2(ref):\n",
    "    def process2():\n",
    "        data=ref()\n",
    "        return data.split()\n",
    "    return process2\n",
    "\n",
    "def myfunction():\n",
    "    return \"happy learning\"\n",
    "\n",
    "myfun=decor2(decor1(myfunction))\n",
    "print(myfun())"
   ]
  },
  {
   "cell_type": "code",
   "execution_count": 38,
   "id": "6055133f",
   "metadata": {},
   "outputs": [
    {
     "name": "stdout",
     "output_type": "stream",
     "text": [
      "['HAPPY', 'LEARNING']\n"
     ]
    }
   ],
   "source": [
    "def decor1(ref):\n",
    "    def process1():\n",
    "        data=ref()\n",
    "        return data.upper()\n",
    "    return process1\n",
    "    \n",
    "def decor2(ref):\n",
    "    def process2():\n",
    "        data=ref()\n",
    "        return data.split()\n",
    "    return process2\n",
    "\n",
    "@decor2\n",
    "@decor1\n",
    "def myfunction():\n",
    "    return \"happy learning\"\n",
    "\n",
    "print(myfunction())\n"
   ]
  },
  {
   "cell_type": "code",
   "execution_count": 39,
   "id": "e6425fb3",
   "metadata": {},
   "outputs": [
    {
     "ename": "AttributeError",
     "evalue": "'list' object has no attribute 'upper'",
     "output_type": "error",
     "traceback": [
      "\u001b[1;31m---------------------------------------------------------------------------\u001b[0m",
      "\u001b[1;31mAttributeError\u001b[0m                            Traceback (most recent call last)",
      "\u001b[1;32m~\\AppData\\Local\\Temp\\ipykernel_22248\\1741652846.py\u001b[0m in \u001b[0;36m<module>\u001b[1;34m\u001b[0m\n\u001b[0;32m     16\u001b[0m     \u001b[1;32mreturn\u001b[0m \u001b[1;34m\"happy learning\"\u001b[0m\u001b[1;33m\u001b[0m\u001b[1;33m\u001b[0m\u001b[0m\n\u001b[0;32m     17\u001b[0m \u001b[1;33m\u001b[0m\u001b[0m\n\u001b[1;32m---> 18\u001b[1;33m \u001b[0mprint\u001b[0m\u001b[1;33m(\u001b[0m\u001b[0mmyfunction\u001b[0m\u001b[1;33m(\u001b[0m\u001b[1;33m)\u001b[0m\u001b[1;33m)\u001b[0m\u001b[1;33m\u001b[0m\u001b[1;33m\u001b[0m\u001b[0m\n\u001b[0m",
      "\u001b[1;32m~\\AppData\\Local\\Temp\\ipykernel_22248\\1741652846.py\u001b[0m in \u001b[0;36mprocess1\u001b[1;34m()\u001b[0m\n\u001b[0;32m      2\u001b[0m     \u001b[1;32mdef\u001b[0m \u001b[0mprocess1\u001b[0m\u001b[1;33m(\u001b[0m\u001b[1;33m)\u001b[0m\u001b[1;33m:\u001b[0m\u001b[1;33m\u001b[0m\u001b[1;33m\u001b[0m\u001b[0m\n\u001b[0;32m      3\u001b[0m         \u001b[0mdata\u001b[0m\u001b[1;33m=\u001b[0m\u001b[0mref\u001b[0m\u001b[1;33m(\u001b[0m\u001b[1;33m)\u001b[0m\u001b[1;33m\u001b[0m\u001b[1;33m\u001b[0m\u001b[0m\n\u001b[1;32m----> 4\u001b[1;33m         \u001b[1;32mreturn\u001b[0m \u001b[0mdata\u001b[0m\u001b[1;33m.\u001b[0m\u001b[0mupper\u001b[0m\u001b[1;33m(\u001b[0m\u001b[1;33m)\u001b[0m\u001b[1;33m\u001b[0m\u001b[1;33m\u001b[0m\u001b[0m\n\u001b[0m\u001b[0;32m      5\u001b[0m     \u001b[1;32mreturn\u001b[0m \u001b[0mprocess1\u001b[0m\u001b[1;33m\u001b[0m\u001b[1;33m\u001b[0m\u001b[0m\n\u001b[0;32m      6\u001b[0m \u001b[1;33m\u001b[0m\u001b[0m\n",
      "\u001b[1;31mAttributeError\u001b[0m: 'list' object has no attribute 'upper'"
     ]
    }
   ],
   "source": [
    "def decor1(ref):\n",
    "    def process1():\n",
    "        data=ref()\n",
    "        return data.upper()\n",
    "    return process1\n",
    "    \n",
    "def decor2(ref):\n",
    "    def process2():\n",
    "        data=ref()\n",
    "        return data.split()\n",
    "    return process2\n",
    "\n",
    "@decor1\n",
    "@decor2\n",
    "def myfunction():\n",
    "    return \"happy learning\"\n",
    "\n",
    "print(myfunction())\n"
   ]
  }
 ],
 "metadata": {
  "kernelspec": {
   "display_name": "Python 3 (ipykernel)",
   "language": "python",
   "name": "python3"
  },
  "language_info": {
   "codemirror_mode": {
    "name": "ipython",
    "version": 3
   },
   "file_extension": ".py",
   "mimetype": "text/x-python",
   "name": "python",
   "nbconvert_exporter": "python",
   "pygments_lexer": "ipython3",
   "version": "3.9.13"
  }
 },
 "nbformat": 4,
 "nbformat_minor": 5
}
