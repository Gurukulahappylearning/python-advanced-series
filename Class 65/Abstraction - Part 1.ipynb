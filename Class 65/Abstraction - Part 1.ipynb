{
 "cells": [
  {
   "cell_type": "code",
   "execution_count": null,
   "id": "f36bbcb9",
   "metadata": {},
   "outputs": [],
   "source": [
    "# what is data abstraction"
   ]
  },
  {
   "cell_type": "code",
   "execution_count": null,
   "id": "9834273a",
   "metadata": {},
   "outputs": [],
   "source": [
    "# importing modules"
   ]
  },
  {
   "cell_type": "code",
   "execution_count": null,
   "id": "ac9cd8c7",
   "metadata": {},
   "outputs": [],
   "source": [
    "# what is abstract classes an abstract methods"
   ]
  },
  {
   "cell_type": "code",
   "execution_count": null,
   "id": "27b4db29",
   "metadata": {},
   "outputs": [],
   "source": [
    "# what is concrete methods"
   ]
  },
  {
   "cell_type": "code",
   "execution_count": null,
   "id": "add28c82",
   "metadata": {},
   "outputs": [],
   "source": [
    "# example"
   ]
  },
  {
   "cell_type": "code",
   "execution_count": 15,
   "id": "e5dc4a5e",
   "metadata": {},
   "outputs": [
    {
     "name": "stdout",
     "output_type": "stream",
     "text": [
      "i am from method 1\n"
     ]
    }
   ],
   "source": [
    "class a:\n",
    "    def method1(self):\n",
    "        print(\"i am from method 1\")\n",
    "obj=a()\n",
    "obj.method1()"
   ]
  },
  {
   "cell_type": "code",
   "execution_count": 16,
   "id": "673bc8f0",
   "metadata": {},
   "outputs": [
    {
     "ename": "TypeError",
     "evalue": "Can't instantiate abstract class a with abstract method method1",
     "output_type": "error",
     "traceback": [
      "\u001b[1;31m---------------------------------------------------------------------------\u001b[0m",
      "\u001b[1;31mTypeError\u001b[0m                                 Traceback (most recent call last)",
      "\u001b[1;32m~\\AppData\\Local\\Temp\\ipykernel_780\\2183668180.py\u001b[0m in \u001b[0;36m<module>\u001b[1;34m\u001b[0m\n\u001b[0;32m      5\u001b[0m     \u001b[1;32mdef\u001b[0m \u001b[0mmethod1\u001b[0m\u001b[1;33m(\u001b[0m\u001b[0mself\u001b[0m\u001b[1;33m)\u001b[0m\u001b[1;33m:\u001b[0m\u001b[1;33m\u001b[0m\u001b[1;33m\u001b[0m\u001b[0m\n\u001b[0;32m      6\u001b[0m         \u001b[0mprint\u001b[0m\u001b[1;33m(\u001b[0m\u001b[1;34m\"i am from method 1\"\u001b[0m\u001b[1;33m)\u001b[0m\u001b[1;33m\u001b[0m\u001b[1;33m\u001b[0m\u001b[0m\n\u001b[1;32m----> 7\u001b[1;33m \u001b[0mobj\u001b[0m\u001b[1;33m=\u001b[0m\u001b[0ma\u001b[0m\u001b[1;33m(\u001b[0m\u001b[1;33m)\u001b[0m\u001b[1;33m\u001b[0m\u001b[1;33m\u001b[0m\u001b[0m\n\u001b[0m\u001b[0;32m      8\u001b[0m \u001b[0mobj\u001b[0m\u001b[1;33m.\u001b[0m\u001b[0mmethod1\u001b[0m\u001b[1;33m(\u001b[0m\u001b[1;33m)\u001b[0m\u001b[1;33m\u001b[0m\u001b[1;33m\u001b[0m\u001b[0m\n",
      "\u001b[1;31mTypeError\u001b[0m: Can't instantiate abstract class a with abstract method method1"
     ]
    }
   ],
   "source": [
    "from abc import ABC,abstractmethod\n",
    "\n",
    "class a(ABC):\n",
    "    @abstractmethod\n",
    "    def method1(self):\n",
    "        print(\"i am from method 1\")\n",
    "obj=a()\n",
    "obj.method1()"
   ]
  },
  {
   "cell_type": "code",
   "execution_count": 17,
   "id": "cba878be",
   "metadata": {},
   "outputs": [],
   "source": [
    "from abc import ABC,abstractmethod\n",
    "\n",
    "class a(ABC):\n",
    "    @abstractmethod\n",
    "    def method1(self):\n",
    "        pass\n"
   ]
  },
  {
   "cell_type": "code",
   "execution_count": 18,
   "id": "d926d520",
   "metadata": {},
   "outputs": [
    {
     "name": "stdout",
     "output_type": "stream",
     "text": [
      "i am from class b\n"
     ]
    }
   ],
   "source": [
    "from abc import ABC,abstractmethod\n",
    "\n",
    "class a(ABC):\n",
    "    @abstractmethod\n",
    "    def method1(self):\n",
    "        pass\n",
    "    \n",
    "class b(a):\n",
    "    def method1(self):\n",
    "        print(\"i am from class b\")\n",
    "obj=b()\n",
    "obj.method1()"
   ]
  },
  {
   "cell_type": "code",
   "execution_count": 19,
   "id": "6e3d068b",
   "metadata": {},
   "outputs": [
    {
     "name": "stdout",
     "output_type": "stream",
     "text": [
      "i am from class b\n"
     ]
    }
   ],
   "source": [
    "from abc import ABC,abstractmethod\n",
    "\n",
    "class a(ABC):\n",
    "    @abstractmethod\n",
    "    def method1(self):\n",
    "        print(\"i am from class A\")\n",
    "    \n",
    "class b(a):\n",
    "    def method1(self):\n",
    "        print(\"i am from class b\")\n",
    "obj=b()\n",
    "obj.method1()"
   ]
  },
  {
   "cell_type": "code",
   "execution_count": 23,
   "id": "b54673e0",
   "metadata": {},
   "outputs": [
    {
     "name": "stdout",
     "output_type": "stream",
     "text": [
      "i am from class b\n",
      "i am from method 2\n"
     ]
    }
   ],
   "source": [
    "from abc import ABC,abstractmethod\n",
    "\n",
    "class a(ABC):\n",
    "    @abstractmethod\n",
    "    def method1(self):\n",
    "        print(\"i am from class A\")\n",
    "        pass\n",
    "    \n",
    "    def method2(self):\n",
    "        print(\"i am from method 2\")\n",
    "\n",
    "class b(a):\n",
    "    def method1(self):\n",
    "        print(\"i am from class b\")\n",
    "obj=b()\n",
    "obj.method1()\n",
    "obj.method2()"
   ]
  },
  {
   "cell_type": "code",
   "execution_count": null,
   "id": "c85fd7cb",
   "metadata": {},
   "outputs": [],
   "source": []
  },
  {
   "cell_type": "code",
   "execution_count": null,
   "id": "adc0f708",
   "metadata": {},
   "outputs": [],
   "source": []
  },
  {
   "cell_type": "code",
   "execution_count": null,
   "id": "5a50341d",
   "metadata": {},
   "outputs": [],
   "source": []
  },
  {
   "cell_type": "code",
   "execution_count": null,
   "id": "7c343bff",
   "metadata": {},
   "outputs": [],
   "source": []
  },
  {
   "cell_type": "code",
   "execution_count": null,
   "id": "32d1fcad",
   "metadata": {},
   "outputs": [],
   "source": []
  },
  {
   "cell_type": "code",
   "execution_count": null,
   "id": "db614e9a",
   "metadata": {},
   "outputs": [],
   "source": []
  },
  {
   "cell_type": "code",
   "execution_count": null,
   "id": "7341bc1b",
   "metadata": {},
   "outputs": [],
   "source": []
  },
  {
   "cell_type": "code",
   "execution_count": null,
   "id": "c56fb153",
   "metadata": {},
   "outputs": [],
   "source": []
  },
  {
   "cell_type": "code",
   "execution_count": null,
   "id": "f9623f44",
   "metadata": {},
   "outputs": [],
   "source": []
  },
  {
   "cell_type": "code",
   "execution_count": 12,
   "id": "278cc082",
   "metadata": {},
   "outputs": [
    {
     "name": "stdout",
     "output_type": "stream",
     "text": [
      "i am from class b\n",
      "i am from class A\n"
     ]
    }
   ],
   "source": []
  }
 ],
 "metadata": {
  "kernelspec": {
   "display_name": "Python 3 (ipykernel)",
   "language": "python",
   "name": "python3"
  },
  "language_info": {
   "codemirror_mode": {
    "name": "ipython",
    "version": 3
   },
   "file_extension": ".py",
   "mimetype": "text/x-python",
   "name": "python",
   "nbconvert_exporter": "python",
   "pygments_lexer": "ipython3",
   "version": "3.9.13"
  }
 },
 "nbformat": 4,
 "nbformat_minor": 5
}
