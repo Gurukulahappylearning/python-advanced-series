{
 "cells": [
  {
   "cell_type": "code",
   "execution_count": 12,
   "id": "a558cbc7",
   "metadata": {},
   "outputs": [
    {
     "name": "stdout",
     "output_type": "stream",
     "text": [
      "i am from init a\n"
     ]
    }
   ],
   "source": [
    "class a:\n",
    "    def __init__(self):\n",
    "        print(\"i am from init a\")\n",
    "    def func1(self):\n",
    "        print(\"i am func 1\")\n",
    "    \n",
    "        \n",
    "class b(a):\n",
    "    def fun2(self):\n",
    "        print(\"i am fun 2\")\n",
    "        \n",
    "aobj=a()"
   ]
  },
  {
   "cell_type": "code",
   "execution_count": 13,
   "id": "edb75d88",
   "metadata": {},
   "outputs": [
    {
     "name": "stdout",
     "output_type": "stream",
     "text": [
      "i am from init a\n"
     ]
    }
   ],
   "source": [
    "class a:\n",
    "    def __init__(self):\n",
    "        print(\"i am from init a\")\n",
    "    def func1(self):\n",
    "        print(\"i am func 1\")\n",
    "    \n",
    "        \n",
    "class b(a):\n",
    "    def fun2(self):\n",
    "        print(\"i am fun 2\")\n",
    "        \n",
    "aobj=b()"
   ]
  },
  {
   "cell_type": "code",
   "execution_count": 14,
   "id": "0886f93e",
   "metadata": {},
   "outputs": [
    {
     "name": "stdout",
     "output_type": "stream",
     "text": [
      "i am from init b\n"
     ]
    }
   ],
   "source": [
    "class a:\n",
    "    def __init__(self):\n",
    "        print(\"i am from init a\")\n",
    "    def func1(self):\n",
    "        print(\"i am func 1\")\n",
    "    \n",
    "        \n",
    "class b(a):\n",
    "    def __init__(self):\n",
    "        print(\"i am from init b\")\n",
    "    def fun2(self):\n",
    "        print(\"i am fun 2\")\n",
    "        \n",
    "aobj=b()"
   ]
  },
  {
   "cell_type": "code",
   "execution_count": 15,
   "id": "9c70d2fa",
   "metadata": {},
   "outputs": [
    {
     "name": "stdout",
     "output_type": "stream",
     "text": [
      "I am teacher\n",
      "I am student\n"
     ]
    }
   ],
   "source": [
    "class teacher:\n",
    "    def __init__(self):\n",
    "        print(\"I am teacher\")\n",
    "class student(teacher):\n",
    "    def func1(self):\n",
    "        print(\"I am student\")\n",
    "stu=student()\n",
    "stu.func1()"
   ]
  },
  {
   "cell_type": "code",
   "execution_count": 16,
   "id": "3e400210",
   "metadata": {},
   "outputs": [
    {
     "name": "stdout",
     "output_type": "stream",
     "text": [
      "I am teacher\n",
      "handling subject: computer science\n",
      "I am student\n"
     ]
    }
   ],
   "source": [
    "class teacher:\n",
    "    def __init__(self):\n",
    "        self.sub=\"computer science\"\n",
    "        print(\"I am teacher\")\n",
    "        print(\"handling subject:\",self.sub)\n",
    "class student(teacher):\n",
    "    def func1(self):\n",
    "        print(\"I am student\")\n",
    "stu=student()\n",
    "stu.func1()"
   ]
  },
  {
   "cell_type": "code",
   "execution_count": 17,
   "id": "2ccd821e",
   "metadata": {},
   "outputs": [
    {
     "name": "stdout",
     "output_type": "stream",
     "text": [
      "I am teacher\n",
      "I am student\n",
      "favourite subject: computer science\n"
     ]
    }
   ],
   "source": [
    "class teacher:\n",
    "    def __init__(self):\n",
    "        self.sub=\"computer science\"\n",
    "        print(\"I am teacher\")\n",
    "        \n",
    "class student(teacher):\n",
    "    def func1(self):\n",
    "        print(\"I am student\")\n",
    "        print(\"favourite subject:\",self.sub)\n",
    "stu=student()\n",
    "stu.func1()"
   ]
  },
  {
   "cell_type": "code",
   "execution_count": 18,
   "id": "181afce2",
   "metadata": {},
   "outputs": [
    {
     "name": "stdout",
     "output_type": "stream",
     "text": [
      "I am teacher\n",
      "I am student\n",
      "favourite subject: computer science\n"
     ]
    }
   ],
   "source": [
    "class teacher:\n",
    "    def __init__(self,s):\n",
    "        self.sub=s\n",
    "        print(\"I am teacher\")\n",
    "        \n",
    "class student(teacher):\n",
    "    def func1(self):\n",
    "        print(\"I am student\")\n",
    "        print(\"favourite subject:\",self.sub)\n",
    "stu=student(\"computer science\")\n",
    "stu.func1()"
   ]
  },
  {
   "cell_type": "code",
   "execution_count": null,
   "id": "a31f1329",
   "metadata": {},
   "outputs": [],
   "source": []
  },
  {
   "cell_type": "code",
   "execution_count": null,
   "id": "dab1df10",
   "metadata": {},
   "outputs": [],
   "source": []
  },
  {
   "cell_type": "code",
   "execution_count": null,
   "id": "3e2794b7",
   "metadata": {},
   "outputs": [],
   "source": []
  },
  {
   "cell_type": "code",
   "execution_count": null,
   "id": "addf1188",
   "metadata": {},
   "outputs": [],
   "source": []
  }
 ],
 "metadata": {
  "kernelspec": {
   "display_name": "Python 3 (ipykernel)",
   "language": "python",
   "name": "python3"
  },
  "language_info": {
   "codemirror_mode": {
    "name": "ipython",
    "version": 3
   },
   "file_extension": ".py",
   "mimetype": "text/x-python",
   "name": "python",
   "nbconvert_exporter": "python",
   "pygments_lexer": "ipython3",
   "version": "3.9.13"
  }
 },
 "nbformat": 4,
 "nbformat_minor": 5
}
