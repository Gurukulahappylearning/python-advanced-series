{
 "cells": [
  {
   "cell_type": "code",
   "execution_count": null,
   "id": "bb9226b9",
   "metadata": {},
   "outputs": [],
   "source": [
    "class MyDecorator:\n",
    "    def __init__(self, function):\n",
    "        self.function = function\n",
    "\n",
    "    def __call__(self):\n",
    "        self.function()\n",
    "\n",
    "@MyDecorator\n",
    "def function():\n",
    "    print(\"Happy Learning\")\n",
    "\n",
    "function()\n"
   ]
  },
  {
   "cell_type": "code",
   "execution_count": 16,
   "id": "d83613e8",
   "metadata": {},
   "outputs": [
    {
     "name": "stdout",
     "output_type": "stream",
     "text": [
      "9\n"
     ]
    }
   ],
   "source": [
    "class demo:\n",
    "    def __init__(self, fun):\n",
    "        self.fun = fun \n",
    "\n",
    "    def __call__(self, a, b):\n",
    "        value = self.fun(a, b)\n",
    "        return value + 5\n",
    "\n",
    "@demo\n",
    "def multiply(a, b):\n",
    "    return a*b\n",
    "\n",
    "print(multiply(2, 2))\n"
   ]
  },
  {
   "cell_type": "code",
   "execution_count": 17,
   "id": "84869a82",
   "metadata": {},
   "outputs": [
    {
     "name": "stdout",
     "output_type": "stream",
     "text": [
      "hello, Happy Learning\n"
     ]
    }
   ],
   "source": [
    "class MyDecorator:\n",
    "    def __init__(self, function):\n",
    "        self.function = function\n",
    "\n",
    "    def __call__(self, *args, **kwargs):\n",
    "        self.function(*args, **kwargs)\n",
    "\n",
    "\n",
    "@MyDecorator\n",
    "def function(name, message ='Hello'):\n",
    "    print(\"{}, {}\".format(message, name))\n",
    "\n",
    "function(\"Happy Learning\",\"hello\")\n"
   ]
  },
  {
   "cell_type": "code",
   "execution_count": 18,
   "id": "59b76cd6",
   "metadata": {},
   "outputs": [
    {
     "name": "stdout",
     "output_type": "stream",
     "text": [
      "Hello, Happy Learning\n"
     ]
    }
   ],
   "source": [
    "class MyDecorator:\n",
    "    def __init__(self, function):\n",
    "        self.function = function\n",
    "\n",
    "    def __call__(self, *args, **kwargs):\n",
    "        self.function(*args, **kwargs)\n",
    "\n",
    "\n",
    "@MyDecorator\n",
    "def function(name, message ='Hello'):\n",
    "    print(\"{}, {}\".format(message, name))\n",
    "\n",
    "function(\"Happy Learning\")\n"
   ]
  },
  {
   "cell_type": "code",
   "execution_count": 19,
   "id": "fb74fca1",
   "metadata": {},
   "outputs": [
    {
     "name": "stdout",
     "output_type": "stream",
     "text": [
      "sakthi, Happy Learning\n"
     ]
    }
   ],
   "source": [
    "class MyDecorator:\n",
    "    def __init__(self, function):\n",
    "        self.function = function\n",
    "\n",
    "    def __call__(self, *args, **kwargs):\n",
    "        self.function(*args, **kwargs)\n",
    "\n",
    "\n",
    "@MyDecorator\n",
    "def function(name, message ='Hello'):\n",
    "    print(\"{}, {}\".format(message, name))\n",
    "\n",
    "function(\"Happy Learning\",\"sakthi\")\n"
   ]
  }
 ],
 "metadata": {
  "kernelspec": {
   "display_name": "Python 3 (ipykernel)",
   "language": "python",
   "name": "python3"
  },
  "language_info": {
   "codemirror_mode": {
    "name": "ipython",
    "version": 3
   },
   "file_extension": ".py",
   "mimetype": "text/x-python",
   "name": "python",
   "nbconvert_exporter": "python",
   "pygments_lexer": "ipython3",
   "version": "3.9.13"
  }
 },
 "nbformat": 4,
 "nbformat_minor": 5
}
