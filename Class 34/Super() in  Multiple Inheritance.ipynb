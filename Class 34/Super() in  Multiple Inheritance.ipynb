{
 "cells": [
  {
   "cell_type": "code",
   "execution_count": 2,
   "id": "f8d54c88",
   "metadata": {},
   "outputs": [
    {
     "name": "stdout",
     "output_type": "stream",
     "text": [
      "Printing the Employee Detail:\n",
      "\n",
      "Personal Details:\n",
      "Name: sakthi -----  Age: 25 -----  Gender: male\n",
      "Professional Details:\n",
      "Company Name: Google -----  location: USA\n",
      "Other Details:\n",
      "Salary: 24LPA -----  Designation: Data Scientist\n"
     ]
    }
   ],
   "source": [
    "class Person:\n",
    "    def personal(self, name, age, gender):\n",
    "        print(\"Personal Details:\")\n",
    "        print('Name:', name,\"-----  \" 'Age:', age, \"-----  \" 'Gender:', gender)\n",
    "\n",
    "class Company:\n",
    "    def company_detail(self, name, location):\n",
    "        print(\"Professional Details:\")\n",
    "        print('Company Name:',name, \"-----  \"'location:', location)\n",
    "\n",
    "class other:\n",
    "    def other_detail(self, salary, designation):\n",
    "        print(\"Other Details:\")\n",
    "        print('Salary:', salary,\"-----  \" 'Designation:', designation)\n",
    "        \n",
    "class all_detail(Person,Company,other):\n",
    "    print(\"Printing the Employee Detail:\",end=\"\\n\\n\")\n",
    "\n",
    "obj=all_detail()\n",
    "obj.personal(\"sakthi\",25,\"male\")\n",
    "obj.company_detail(\"Google\",\"USA\")\n",
    "obj.other_detail(\"24LPA\",\"Data Scientist\")"
   ]
  },
  {
   "cell_type": "code",
   "execution_count": 3,
   "id": "2a015edc",
   "metadata": {},
   "outputs": [
    {
     "name": "stdout",
     "output_type": "stream",
     "text": [
      "Printing the Employee Detail:\n",
      "\n",
      "Personal Details:\n",
      "Name: sakthi -----  Age: 25 -----  Gender: male\n",
      "Professional Details:\n",
      "Company Name: Google -----  location: USA\n",
      "Other Details:\n",
      "Salary: 24LPA -----  Designation: Data Scientist\n"
     ]
    }
   ],
   "source": [
    "class Person:\n",
    "    def personal(self, name, age, gender):\n",
    "        print(\"Personal Details:\")\n",
    "        print('Name:', name,\"-----  \" 'Age:', age, \"-----  \" 'Gender:', gender)\n",
    "\n",
    "class Company:\n",
    "    def company_detail(self, name, location):\n",
    "        print(\"Professional Details:\")\n",
    "        print('Company Name:',name, \"-----  \"'location:', location)\n",
    "\n",
    "class other:\n",
    "    def other_detail(self, salary, designation):\n",
    "        print(\"Other Details:\")\n",
    "        print('Salary:', salary,\"-----  \" 'Designation:', designation)\n",
    "        \n",
    "class all_detail(Person,Company,other):\n",
    "    def show(self):\n",
    "        print(\"Printing the Employee Detail:\",end=\"\\n\\n\")\n",
    "        super().personal(\"sakthi\",25,\"male\")\n",
    "        super().company_detail(\"Google\",\"USA\")\n",
    "        super().other_detail(\"24LPA\",\"Data Scientist\")\n",
    "\n",
    "\n",
    "obj=all_detail()\n",
    "obj.show()\n"
   ]
  }
 ],
 "metadata": {
  "kernelspec": {
   "display_name": "Python 3 (ipykernel)",
   "language": "python",
   "name": "python3"
  },
  "language_info": {
   "codemirror_mode": {
    "name": "ipython",
    "version": 3
   },
   "file_extension": ".py",
   "mimetype": "text/x-python",
   "name": "python",
   "nbconvert_exporter": "python",
   "pygments_lexer": "ipython3",
   "version": "3.9.13"
  }
 },
 "nbformat": 4,
 "nbformat_minor": 5
}
