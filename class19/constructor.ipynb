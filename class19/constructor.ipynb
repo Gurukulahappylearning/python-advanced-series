{
 "cells": [
  {
   "cell_type": "code",
   "execution_count": null,
   "id": "d4038a18",
   "metadata": {},
   "outputs": [],
   "source": [
    "#what is constructor\n",
    "\n",
    "#The task of constructors is to initialize(assign values) to the data members of the class \n",
    "#when an object of class is created."
   ]
  },
  {
   "cell_type": "code",
   "execution_count": null,
   "id": "6b027726",
   "metadata": {},
   "outputs": [],
   "source": [
    "#types of constructor"
   ]
  },
  {
   "cell_type": "code",
   "execution_count": null,
   "id": "0e05082c",
   "metadata": {},
   "outputs": [],
   "source": [
    "#example"
   ]
  },
  {
   "cell_type": "code",
   "execution_count": 18,
   "id": "373f1ba8",
   "metadata": {},
   "outputs": [
    {
     "name": "stdout",
     "output_type": "stream",
     "text": [
      "hai\n"
     ]
    }
   ],
   "source": [
    "class test1:\n",
    "    \n",
    "    def __init__(self):\n",
    "        print(\"hai\")\n",
    "obj1=test1()"
   ]
  },
  {
   "cell_type": "code",
   "execution_count": 19,
   "id": "9a5f54f1",
   "metadata": {},
   "outputs": [
    {
     "name": "stdout",
     "output_type": "stream",
     "text": [
      "my name is: sakthi\n",
      "my age is: 20\n"
     ]
    }
   ],
   "source": [
    "class student:\n",
    "    def __init__(self):\n",
    "        name=\"sakthi\"\n",
    "        age=20\n",
    "        print(\"my name is:\",name)\n",
    "        print(\"my age is:\",age)\n",
    "stu1=student()"
   ]
  },
  {
   "cell_type": "code",
   "execution_count": 20,
   "id": "5b23e34b",
   "metadata": {},
   "outputs": [
    {
     "name": "stdout",
     "output_type": "stream",
     "text": [
      "my name is: sakthi\n",
      "my age is: 20\n",
      "my name is: sakthi\n",
      "my age is: 20\n"
     ]
    }
   ],
   "source": [
    "class student:\n",
    "    def __init__(self):\n",
    "        name=\"sakthi\"\n",
    "        age=20\n",
    "        print(\"my name is:\",name)\n",
    "        print(\"my age is:\",age)\n",
    "stu1=student()\n",
    "stu2=student()"
   ]
  },
  {
   "cell_type": "code",
   "execution_count": 21,
   "id": "c89901d2",
   "metadata": {},
   "outputs": [
    {
     "name": "stdout",
     "output_type": "stream",
     "text": [
      "2\n"
     ]
    }
   ],
   "source": [
    "class Person:\n",
    "    def __init__(self): \n",
    "        print(\"1\")      \n",
    "    def __init__(self):\n",
    "        print(\"2\")\n",
    "p1 = Person()\n"
   ]
  },
  {
   "cell_type": "code",
   "execution_count": 22,
   "id": "657d08ae",
   "metadata": {},
   "outputs": [
    {
     "name": "stdout",
     "output_type": "stream",
     "text": [
      "2\n",
      "2\n"
     ]
    }
   ],
   "source": [
    "class Person:\n",
    "    def __init__(self): \n",
    "        print(\"1\")      \n",
    "    def __init__(self):\n",
    "        print(\"2\")\n",
    "p1 = Person()\n",
    "p2=Person()"
   ]
  }
 ],
 "metadata": {
  "kernelspec": {
   "display_name": "Python 3 (ipykernel)",
   "language": "python",
   "name": "python3"
  },
  "language_info": {
   "codemirror_mode": {
    "name": "ipython",
    "version": 3
   },
   "file_extension": ".py",
   "mimetype": "text/x-python",
   "name": "python",
   "nbconvert_exporter": "python",
   "pygments_lexer": "ipython3",
   "version": "3.9.13"
  }
 },
 "nbformat": 4,
 "nbformat_minor": 5
}
