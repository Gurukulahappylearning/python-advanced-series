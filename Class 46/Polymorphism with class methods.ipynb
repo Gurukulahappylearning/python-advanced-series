{
 "cells": [
  {
   "cell_type": "code",
   "execution_count": null,
   "id": "d8453e96",
   "metadata": {},
   "outputs": [],
   "source": [
    "#Polymorphism with class methods: "
   ]
  },
  {
   "cell_type": "code",
   "execution_count": 4,
   "id": "bbf9b709",
   "metadata": {},
   "outputs": [
    {
     "name": "stdout",
     "output_type": "stream",
     "text": [
      "my name is sakthi\n",
      "i am 25 years old\n",
      "male\n",
      "my name is shiva\n",
      "i am 30 years old\n",
      "male\n"
     ]
    }
   ],
   "source": [
    "class one:\n",
    "    def name(self):\n",
    "        print(\"my name is sakthi\")\n",
    "    def age(self):\n",
    "        print(\"i am 25 years old\")\n",
    "    def sex(Self):\n",
    "        print(\"male\")\n",
    "\n",
    "class two:\n",
    "    def name(self):\n",
    "        print(\"my name is shiva\")\n",
    "    def age(self):\n",
    "        print(\"i am 30 years old\")\n",
    "    def sex(Self):\n",
    "        print(\"male\")\n",
    "obj1 = one()\n",
    "obj2 = two()\n",
    "for i in (obj1,obj2):\n",
    "    i.name()\n",
    "    i.age()\n",
    "    i.sex()"
   ]
  },
  {
   "cell_type": "code",
   "execution_count": null,
   "id": "5692d9a0",
   "metadata": {},
   "outputs": [],
   "source": [
    "#Polymorphism with a Function and objects: "
   ]
  },
  {
   "cell_type": "code",
   "execution_count": 5,
   "id": "de09811c",
   "metadata": {},
   "outputs": [
    {
     "name": "stdout",
     "output_type": "stream",
     "text": [
      "my name is sakthi\n",
      "i am 25 years old\n",
      "male\n",
      "my name is shiva\n",
      "i am 30 years old\n",
      "male\n"
     ]
    }
   ],
   "source": [
    "class one:\n",
    "    def name(self):\n",
    "        print(\"my name is sakthi\")\n",
    "    def age(self):\n",
    "        print(\"i am 25 years old\")\n",
    "    def sex(Self):\n",
    "        print(\"male\")\n",
    "class two:\n",
    "    def name(self):\n",
    "        print(\"my name is shiva\")\n",
    "    def age(self):\n",
    "        print(\"i am 30 years old\")\n",
    "    def sex(Self):\n",
    "        print(\"male\")\n",
    "def fun_cal(obj):  \n",
    "    obj.name()\n",
    "    obj.age()\n",
    "    obj.sex()\n",
    "obj1 = one()\n",
    "obj2 = two()\n",
    "fun_cal(obj1)\n",
    "fun_cal(obj2)\n"
   ]
  }
 ],
 "metadata": {
  "kernelspec": {
   "display_name": "Python 3 (ipykernel)",
   "language": "python",
   "name": "python3"
  },
  "language_info": {
   "codemirror_mode": {
    "name": "ipython",
    "version": 3
   },
   "file_extension": ".py",
   "mimetype": "text/x-python",
   "name": "python",
   "nbconvert_exporter": "python",
   "pygments_lexer": "ipython3",
   "version": "3.9.13"
  }
 },
 "nbformat": 4,
 "nbformat_minor": 5
}
