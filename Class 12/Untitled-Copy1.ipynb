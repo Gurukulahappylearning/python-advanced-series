{
 "cells": [
  {
   "cell_type": "code",
   "execution_count": 2,
   "id": "9d48a465",
   "metadata": {},
   "outputs": [
    {
     "name": "stdout",
     "output_type": "stream",
     "text": [
      "9\n",
      "3\n"
     ]
    }
   ],
   "source": [
    "def lst_to_fun(lst):\n",
    "    even=0\n",
    "    odd=0\n",
    "    for i in lst:\n",
    "        if i%2==0:\n",
    "            even=even+1\n",
    "        else:\n",
    "            odd=odd+1\n",
    "    return even , odd\n",
    "lst=[10,23,34,56,67,78,89,90,12,34,54,32]\n",
    "even1,odd1=lst_to_fun(lst)\n",
    "print(even1)\n",
    "print(odd1)"
   ]
  },
  {
   "cell_type": "code",
   "execution_count": 3,
   "id": "b3f14a68",
   "metadata": {},
   "outputs": [
    {
     "name": "stdout",
     "output_type": "stream",
     "text": [
      "even numbers: 9, odd numbers:3\n"
     ]
    }
   ],
   "source": [
    "def lst_to_fun(lst):\n",
    "    even=0\n",
    "    odd=0\n",
    "    for i in lst:\n",
    "        if i%2==0:\n",
    "            even=even+1\n",
    "        else:\n",
    "            odd=odd+1\n",
    "    return even , odd\n",
    "lst=[10,23,34,56,67,78,89,90,12,34,54,32]\n",
    "even,odd=lst_to_fun(lst)\n",
    "print(\"even numbers: {}, odd numbers:{}\".format(even,odd))\n"
   ]
  },
  {
   "cell_type": "code",
   "execution_count": 11,
   "id": "c92c41bd",
   "metadata": {},
   "outputs": [
    {
     "name": "stdout",
     "output_type": "stream",
     "text": [
      "even 8 , odd 3\n"
     ]
    }
   ],
   "source": [
    "def lst_to_fun(lst):\n",
    "    even=0\n",
    "    odd=0\n",
    "    for i in lst:\n",
    "        if i%2==0:\n",
    "            even=even+1\n",
    "        else:\n",
    "            odd=odd+1\n",
    "    return even , odd\n",
    "lst={10,23,34,56,67,78,89,90,12,34,54,32}\n",
    "even,odd=lst_to_fun(lst)\n",
    "print(\"even {} , odd {}\".format(even,odd))"
   ]
  }
 ],
 "metadata": {
  "kernelspec": {
   "display_name": "Python 3 (ipykernel)",
   "language": "python",
   "name": "python3"
  },
  "language_info": {
   "codemirror_mode": {
    "name": "ipython",
    "version": 3
   },
   "file_extension": ".py",
   "mimetype": "text/x-python",
   "name": "python",
   "nbconvert_exporter": "python",
   "pygments_lexer": "ipython3",
   "version": "3.9.13"
  }
 },
 "nbformat": 4,
 "nbformat_minor": 5
}
