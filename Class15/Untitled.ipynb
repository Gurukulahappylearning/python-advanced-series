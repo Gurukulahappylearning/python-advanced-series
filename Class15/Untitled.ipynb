{
 "cells": [
  {
   "cell_type": "code",
   "execution_count": null,
   "id": "827130a0",
   "metadata": {},
   "outputs": [],
   "source": [
    "#classes and object"
   ]
  },
  {
   "cell_type": "code",
   "execution_count": null,
   "id": "a1116c9d",
   "metadata": {},
   "outputs": [],
   "source": [
    "class person():\n",
    "    print(\"hai\")\n",
    "    a=10\n",
    "obj=person()\n",
    "print(obj.a)"
   ]
  },
  {
   "cell_type": "code",
   "execution_count": null,
   "id": "3afe7cf6",
   "metadata": {
    "scrolled": false
   },
   "outputs": [],
   "source": [
    "class person():\n",
    "    print(\"hai\")\n",
    "    a=10\n",
    "obj=person()\n",
    "obj2=person()\n",
    "print(obj.a)\n",
    "print(obj2.a)"
   ]
  },
  {
   "cell_type": "code",
   "execution_count": null,
   "id": "6b016f94",
   "metadata": {
    "scrolled": true
   },
   "outputs": [],
   "source": [
    "def msg():\n",
    "        print(\"hello\")\n",
    "msg()"
   ]
  },
  {
   "cell_type": "code",
   "execution_count": 1,
   "id": "a714f9e1",
   "metadata": {},
   "outputs": [
    {
     "ename": "NameError",
     "evalue": "name 'msg' is not defined",
     "output_type": "error",
     "traceback": [
      "\u001b[1;31m---------------------------------------------------------------------------\u001b[0m",
      "\u001b[1;31mNameError\u001b[0m                                 Traceback (most recent call last)",
      "\u001b[1;32m~\\AppData\\Local\\Temp\\ipykernel_12380\\2130075938.py\u001b[0m in \u001b[0;36m<module>\u001b[1;34m\u001b[0m\n\u001b[0;32m      2\u001b[0m     \u001b[1;32mdef\u001b[0m \u001b[0mmsg\u001b[0m\u001b[1;33m(\u001b[0m\u001b[1;33m)\u001b[0m\u001b[1;33m:\u001b[0m\u001b[1;33m\u001b[0m\u001b[1;33m\u001b[0m\u001b[0m\n\u001b[0;32m      3\u001b[0m         \u001b[0mprint\u001b[0m\u001b[1;33m(\u001b[0m\u001b[1;34m\"hello\"\u001b[0m\u001b[1;33m)\u001b[0m\u001b[1;33m\u001b[0m\u001b[1;33m\u001b[0m\u001b[0m\n\u001b[1;32m----> 4\u001b[1;33m \u001b[0mmsg\u001b[0m\u001b[1;33m(\u001b[0m\u001b[1;33m)\u001b[0m\u001b[1;33m\u001b[0m\u001b[1;33m\u001b[0m\u001b[0m\n\u001b[0m",
      "\u001b[1;31mNameError\u001b[0m: name 'msg' is not defined"
     ]
    }
   ],
   "source": [
    "class text():   \n",
    "    def msg():\n",
    "        print(\"hello\")\n",
    "msg()"
   ]
  },
  {
   "cell_type": "code",
   "execution_count": 3,
   "id": "2d4395ff",
   "metadata": {},
   "outputs": [
    {
     "ename": "NameError",
     "evalue": "name 'msg' is not defined",
     "output_type": "error",
     "traceback": [
      "\u001b[1;31m---------------------------------------------------------------------------\u001b[0m",
      "\u001b[1;31mNameError\u001b[0m                                 Traceback (most recent call last)",
      "\u001b[1;32m~\\AppData\\Local\\Temp\\ipykernel_12380\\1325709350.py\u001b[0m in \u001b[0;36m<module>\u001b[1;34m\u001b[0m\n\u001b[0;32m      3\u001b[0m         \u001b[0mprint\u001b[0m\u001b[1;33m(\u001b[0m\u001b[1;34m\"hello\"\u001b[0m\u001b[1;33m)\u001b[0m\u001b[1;33m\u001b[0m\u001b[1;33m\u001b[0m\u001b[0m\n\u001b[0;32m      4\u001b[0m \u001b[0ma\u001b[0m\u001b[1;33m=\u001b[0m\u001b[0mtext\u001b[0m\u001b[1;33m(\u001b[0m\u001b[1;33m)\u001b[0m\u001b[1;33m\u001b[0m\u001b[1;33m\u001b[0m\u001b[0m\n\u001b[1;32m----> 5\u001b[1;33m \u001b[0mmsg\u001b[0m\u001b[1;33m(\u001b[0m\u001b[1;33m)\u001b[0m\u001b[1;33m\u001b[0m\u001b[1;33m\u001b[0m\u001b[0m\n\u001b[0m",
      "\u001b[1;31mNameError\u001b[0m: name 'msg' is not defined"
     ]
    }
   ],
   "source": [
    "class text():   \n",
    "    def msg():\n",
    "        print(\"hello\")\n",
    "a=text()\n",
    "msg()"
   ]
  },
  {
   "cell_type": "code",
   "execution_count": 6,
   "id": "377b797d",
   "metadata": {},
   "outputs": [
    {
     "ename": "TypeError",
     "evalue": "msg() takes 0 positional arguments but 1 was given",
     "output_type": "error",
     "traceback": [
      "\u001b[1;31m---------------------------------------------------------------------------\u001b[0m",
      "\u001b[1;31mTypeError\u001b[0m                                 Traceback (most recent call last)",
      "\u001b[1;32m~\\AppData\\Local\\Temp\\ipykernel_12380\\2165348071.py\u001b[0m in \u001b[0;36m<module>\u001b[1;34m\u001b[0m\n\u001b[0;32m      3\u001b[0m         \u001b[0mprint\u001b[0m\u001b[1;33m(\u001b[0m\u001b[1;34m\"hello\"\u001b[0m\u001b[1;33m)\u001b[0m\u001b[1;33m\u001b[0m\u001b[1;33m\u001b[0m\u001b[0m\n\u001b[0;32m      4\u001b[0m \u001b[0ma\u001b[0m\u001b[1;33m=\u001b[0m\u001b[0mtext\u001b[0m\u001b[1;33m(\u001b[0m\u001b[1;33m)\u001b[0m\u001b[1;33m\u001b[0m\u001b[1;33m\u001b[0m\u001b[0m\n\u001b[1;32m----> 5\u001b[1;33m \u001b[0ma\u001b[0m\u001b[1;33m.\u001b[0m\u001b[0mmsg\u001b[0m\u001b[1;33m(\u001b[0m\u001b[1;33m)\u001b[0m\u001b[1;33m\u001b[0m\u001b[1;33m\u001b[0m\u001b[0m\n\u001b[0m",
      "\u001b[1;31mTypeError\u001b[0m: msg() takes 0 positional arguments but 1 was given"
     ]
    }
   ],
   "source": [
    "class text():   \n",
    "    def msg():\n",
    "        print(\"hello\")\n",
    "a=text()\n",
    "a.msg()"
   ]
  },
  {
   "cell_type": "code",
   "execution_count": 12,
   "id": "87205826",
   "metadata": {},
   "outputs": [
    {
     "name": "stdout",
     "output_type": "stream",
     "text": [
      "hello\n"
     ]
    }
   ],
   "source": [
    "class text():   \n",
    "    def msg(self):\n",
    "        print(\"hello\")\n",
    "a=text()\n",
    "a.msg()"
   ]
  },
  {
   "cell_type": "code",
   "execution_count": 13,
   "id": "03272c75",
   "metadata": {},
   "outputs": [
    {
     "name": "stdout",
     "output_type": "stream",
     "text": [
      "hello\n"
     ]
    }
   ],
   "source": [
    "class text():   \n",
    "    def msg(gurukula):\n",
    "        print(\"hello\")\n",
    "a=text()\n",
    "a.msg()"
   ]
  },
  {
   "cell_type": "code",
   "execution_count": 14,
   "id": "75fd88d8",
   "metadata": {},
   "outputs": [
    {
     "name": "stdout",
     "output_type": "stream",
     "text": [
      "hello\n",
      "hello\n"
     ]
    }
   ],
   "source": [
    "class text():   \n",
    "    def msg(self):\n",
    "        print(\"hello\")\n",
    "a=text()\n",
    "b=text()\n",
    "a.msg()\n",
    "b.msg()"
   ]
  },
  {
   "cell_type": "code",
   "execution_count": 15,
   "id": "3e578d2c",
   "metadata": {},
   "outputs": [
    {
     "name": "stdout",
     "output_type": "stream",
     "text": [
      "hello\n"
     ]
    }
   ],
   "source": [
    "class text():   \n",
    "    def msg(self):\n",
    "        print(\"hello\")\n",
    "a=text()\n",
    "text.msg(a)"
   ]
  },
  {
   "cell_type": "code",
   "execution_count": 16,
   "id": "1b8091e5",
   "metadata": {},
   "outputs": [
    {
     "name": "stdout",
     "output_type": "stream",
     "text": [
      "hello\n",
      "hello\n"
     ]
    }
   ],
   "source": [
    "class text():   \n",
    "    def msg(self):\n",
    "        print(\"hello\")\n",
    "a=text()\n",
    "b=text()\n",
    "text.msg(a)\n",
    "text.msg(b)"
   ]
  },
  {
   "cell_type": "code",
   "execution_count": null,
   "id": "98ced8c3",
   "metadata": {},
   "outputs": [],
   "source": []
  },
  {
   "cell_type": "code",
   "execution_count": null,
   "id": "8f417d24",
   "metadata": {},
   "outputs": [],
   "source": []
  },
  {
   "cell_type": "code",
   "execution_count": null,
   "id": "27efbd8e",
   "metadata": {
    "scrolled": true
   },
   "outputs": [],
   "source": []
  },
  {
   "cell_type": "code",
   "execution_count": null,
   "id": "cb7fab7c",
   "metadata": {},
   "outputs": [],
   "source": []
  },
  {
   "cell_type": "code",
   "execution_count": null,
   "id": "7720a1f8",
   "metadata": {},
   "outputs": [],
   "source": []
  },
  {
   "cell_type": "code",
   "execution_count": null,
   "id": "93f1f1ba",
   "metadata": {},
   "outputs": [],
   "source": []
  }
 ],
 "metadata": {
  "kernelspec": {
   "display_name": "Python 3 (ipykernel)",
   "language": "python",
   "name": "python3"
  },
  "language_info": {
   "codemirror_mode": {
    "name": "ipython",
    "version": 3
   },
   "file_extension": ".py",
   "mimetype": "text/x-python",
   "name": "python",
   "nbconvert_exporter": "python",
   "pygments_lexer": "ipython3",
   "version": "3.9.13"
  }
 },
 "nbformat": 4,
 "nbformat_minor": 5
}
