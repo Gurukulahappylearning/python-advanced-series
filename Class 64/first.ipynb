{
 "cells": [
  {
   "cell_type": "code",
   "execution_count": 2,
   "id": "59359815",
   "metadata": {},
   "outputs": [
    {
     "name": "stdout",
     "output_type": "stream",
     "text": [
      "good morning\n",
      "have a nice day\n",
      "first: __main__\n"
     ]
    }
   ],
   "source": [
    "def greet():\n",
    "    print(\"good morning\")\n",
    "\n",
    "def message():\n",
    "    print(\"have a nice day\")\n",
    "\n",
    "    \n",
    "def main():\n",
    "    greet()\n",
    "    message()\n",
    "main()\n",
    "\n",
    "print(\"first:\",__name__)"
   ]
  },
  {
   "cell_type": "code",
   "execution_count": 6,
   "id": "90daac5d",
   "metadata": {},
   "outputs": [
    {
     "name": "stdout",
     "output_type": "stream",
     "text": [
      "good morning\n",
      "have a nice day\n",
      "first: __main__\n"
     ]
    }
   ],
   "source": [
    "def greet():\n",
    "    print(\"good morning\")\n",
    "\n",
    "def message():\n",
    "    print(\"have a nice day\")\n",
    "\n",
    "    \n",
    "def main():\n",
    "    greet()\n",
    "    message()\n",
    "    \n",
    "if __name__ ==\"__main__\":\n",
    "    main()\n",
    "\n",
    "print(\"first:\",__name__)"
   ]
  },
  {
   "cell_type": "code",
   "execution_count": null,
   "id": "7ce333b9",
   "metadata": {},
   "outputs": [],
   "source": []
  },
  {
   "cell_type": "code",
   "execution_count": null,
   "id": "10c135e4",
   "metadata": {},
   "outputs": [],
   "source": []
  },
  {
   "cell_type": "code",
   "execution_count": null,
   "id": "6e86611b",
   "metadata": {},
   "outputs": [],
   "source": []
  },
  {
   "cell_type": "code",
   "execution_count": null,
   "id": "0a6d0d6f",
   "metadata": {},
   "outputs": [],
   "source": []
  },
  {
   "cell_type": "code",
   "execution_count": null,
   "id": "9881c686",
   "metadata": {},
   "outputs": [],
   "source": []
  },
  {
   "cell_type": "code",
   "execution_count": null,
   "id": "a9a994ed",
   "metadata": {},
   "outputs": [],
   "source": []
  },
  {
   "cell_type": "code",
   "execution_count": null,
   "id": "b73da6f0",
   "metadata": {},
   "outputs": [],
   "source": []
  },
  {
   "cell_type": "code",
   "execution_count": null,
   "id": "d357f0a8",
   "metadata": {},
   "outputs": [],
   "source": []
  },
  {
   "cell_type": "code",
   "execution_count": null,
   "id": "dc141741",
   "metadata": {},
   "outputs": [],
   "source": []
  },
  {
   "cell_type": "code",
   "execution_count": null,
   "id": "f0021c29",
   "metadata": {},
   "outputs": [],
   "source": []
  },
  {
   "cell_type": "raw",
   "id": "bd27f35a",
   "metadata": {},
   "source": []
  }
 ],
 "metadata": {
  "kernelspec": {
   "display_name": "Python 3 (ipykernel)",
   "language": "python",
   "name": "python3"
  },
  "language_info": {
   "codemirror_mode": {
    "name": "ipython",
    "version": 3
   },
   "file_extension": ".py",
   "mimetype": "text/x-python",
   "name": "python",
   "nbconvert_exporter": "python",
   "pygments_lexer": "ipython3",
   "version": "3.9.13"
  }
 },
 "nbformat": 4,
 "nbformat_minor": 5
}
