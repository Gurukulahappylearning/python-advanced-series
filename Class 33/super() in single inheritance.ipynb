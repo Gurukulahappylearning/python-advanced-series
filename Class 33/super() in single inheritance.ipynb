{
 "cells": [
  {
   "cell_type": "code",
   "execution_count": 56,
   "id": "2bbc5ff6",
   "metadata": {},
   "outputs": [
    {
     "name": "stdout",
     "output_type": "stream",
     "text": [
      "hai i am from method 1\n"
     ]
    }
   ],
   "source": [
    "class test:\n",
    "    def method1(self):\n",
    "        print(\"hai i am from method 1\")\n",
    "        \n",
    "class test2:\n",
    "    def method2(self):\n",
    "        test.method1(self)\n",
    "    \n",
    "t=test2()\n",
    "t.method2() "
   ]
  },
  {
   "cell_type": "code",
   "execution_count": 57,
   "id": "87c4291e",
   "metadata": {},
   "outputs": [
    {
     "name": "stdout",
     "output_type": "stream",
     "text": [
      "hai i am from method 1\n"
     ]
    }
   ],
   "source": [
    "class test:\n",
    "    def method1(self):\n",
    "        print(\"hai i am from method 1\")\n",
    "        \n",
    "class test2(test):\n",
    "    def method2(self):\n",
    "        test.method1(self)\n",
    "    \n",
    "t=test2()\n",
    "t.method2() "
   ]
  },
  {
   "cell_type": "code",
   "execution_count": 58,
   "id": "96fa7c31",
   "metadata": {},
   "outputs": [
    {
     "name": "stdout",
     "output_type": "stream",
     "text": [
      "hai i am from method 1\n",
      "i am from method 2\n"
     ]
    }
   ],
   "source": [
    "class test:\n",
    "    def method1(self):\n",
    "        print(\"hai i am from method 1\")\n",
    "        \n",
    "class test2(test):\n",
    "    def method2(self):\n",
    "        super().method1()\n",
    "        print(\"i am from method 2\")\n",
    "    \n",
    "t=test2()\n",
    "t.method2() "
   ]
  },
  {
   "cell_type": "code",
   "execution_count": 59,
   "id": "c8882568",
   "metadata": {},
   "outputs": [
    {
     "name": "stdout",
     "output_type": "stream",
     "text": [
      "i am from method 2\n",
      "hai i am from method 1\n"
     ]
    }
   ],
   "source": [
    "class test:\n",
    "    def method1(self):\n",
    "        print(\"hai i am from method 1\")\n",
    "        \n",
    "class test2(test):\n",
    "    def method2(self):\n",
    "        print(\"i am from method 2\")\n",
    "        super().method1()\n",
    "        \n",
    "    \n",
    "t=test2()\n",
    "t.method2() "
   ]
  },
  {
   "cell_type": "code",
   "execution_count": 60,
   "id": "5edd7fd7",
   "metadata": {},
   "outputs": [
    {
     "name": "stdout",
     "output_type": "stream",
     "text": [
      "i am from method 3\n",
      "hai i am from method 1\n",
      "hai i am from method 2\n"
     ]
    }
   ],
   "source": [
    "class test:\n",
    "    def method1(self):\n",
    "        print(\"hai i am from method 1\")\n",
    "    def method2(self):\n",
    "        print(\"hai i am from method 2\")\n",
    "        \n",
    "class test2(test):\n",
    "    def method3(self):\n",
    "        print(\"i am from method 3\")\n",
    "        super().method1()\n",
    "        super().method2()\n",
    "        \n",
    "    \n",
    "t=test2()\n",
    "t.method3() "
   ]
  },
  {
   "cell_type": "code",
   "execution_count": 62,
   "id": "dc8d683a",
   "metadata": {},
   "outputs": [
    {
     "name": "stdout",
     "output_type": "stream",
     "text": [
      "person1 name sakthi\n"
     ]
    }
   ],
   "source": [
    "class person1:\n",
    "    def detail1(self,name):\n",
    "        print(\"person1 name\",name )\n",
    "        \n",
    "class person2(person1):\n",
    "    def detail2(self):\n",
    "        super().detail1(\"sakthi\")\n",
    "        \n",
    "obj=person2()\n",
    "obj.detail2()"
   ]
  },
  {
   "cell_type": "code",
   "execution_count": 61,
   "id": "97571227",
   "metadata": {},
   "outputs": [
    {
     "name": "stdout",
     "output_type": "stream",
     "text": [
      "person1 name sakthi\n"
     ]
    }
   ],
   "source": [
    "class person1:\n",
    "    def detail1(self,name):\n",
    "        print(\"person1 name\",name )\n",
    "        \n",
    "class person2(person1):\n",
    "    def detail2(self):\n",
    "        person1.detail1(self,\"sakthi\")\n",
    "        \n",
    "obj=person2()\n",
    "obj.detail2()"
   ]
  },
  {
   "cell_type": "code",
   "execution_count": null,
   "id": "94fa1b99",
   "metadata": {},
   "outputs": [],
   "source": []
  },
  {
   "cell_type": "code",
   "execution_count": null,
   "id": "2905765f",
   "metadata": {},
   "outputs": [],
   "source": []
  },
  {
   "cell_type": "code",
   "execution_count": null,
   "id": "6f5f5ac3",
   "metadata": {},
   "outputs": [],
   "source": []
  },
  {
   "cell_type": "code",
   "execution_count": null,
   "id": "19e1239f",
   "metadata": {},
   "outputs": [],
   "source": []
  },
  {
   "cell_type": "code",
   "execution_count": null,
   "id": "7616ca30",
   "metadata": {},
   "outputs": [],
   "source": []
  },
  {
   "cell_type": "code",
   "execution_count": null,
   "id": "3c8e28dd",
   "metadata": {},
   "outputs": [],
   "source": []
  },
  {
   "cell_type": "code",
   "execution_count": null,
   "id": "592e1d4d",
   "metadata": {},
   "outputs": [],
   "source": []
  },
  {
   "cell_type": "code",
   "execution_count": null,
   "id": "3c30906f",
   "metadata": {},
   "outputs": [],
   "source": []
  },
  {
   "cell_type": "code",
   "execution_count": null,
   "id": "5de1e88a",
   "metadata": {},
   "outputs": [],
   "source": []
  }
 ],
 "metadata": {
  "kernelspec": {
   "display_name": "Python 3 (ipykernel)",
   "language": "python",
   "name": "python3"
  },
  "language_info": {
   "codemirror_mode": {
    "name": "ipython",
    "version": 3
   },
   "file_extension": ".py",
   "mimetype": "text/x-python",
   "name": "python",
   "nbconvert_exporter": "python",
   "pygments_lexer": "ipython3",
   "version": "3.9.13"
  }
 },
 "nbformat": 4,
 "nbformat_minor": 5
}
