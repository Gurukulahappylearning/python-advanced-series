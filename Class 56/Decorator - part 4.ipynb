{
 "cells": [
  {
   "cell_type": "code",
   "execution_count": 13,
   "id": "aec1a850",
   "metadata": {},
   "outputs": [
    {
     "name": "stdout",
     "output_type": "stream",
     "text": [
      "<function upperstring.<locals>.process at 0x0000025ACDAAD0D0>\n",
      "HAPPY LEARNING\n",
      "<function myfunction at 0x0000025ACDAAD1F0>\n"
     ]
    }
   ],
   "source": [
    "def upperstring(ref):\n",
    "    def process():\n",
    "        data=ref()\n",
    "        return data.upper()\n",
    "    print(process)\n",
    "    return process\n",
    "\n",
    "def myfunction():\n",
    "    return \"happy learning\"\n",
    "\n",
    "output=upperstring(myfunction)\n",
    "print(output())\n",
    "print(myfunction)\n"
   ]
  },
  {
   "cell_type": "code",
   "execution_count": null,
   "id": "fb498286",
   "metadata": {},
   "outputs": [],
   "source": [
    "# closure\n",
    "#Python closure is a nested function that allows us to access variables of the outer function \n",
    "#even after the outer function is closed.\n",
    "\n"
   ]
  },
  {
   "cell_type": "code",
   "execution_count": 11,
   "id": "a78caac9",
   "metadata": {},
   "outputs": [
    {
     "name": "stdout",
     "output_type": "stream",
     "text": [
      "15\n"
     ]
    }
   ],
   "source": [
    "def outer_function(x):\n",
    "    def inner_function(y):\n",
    "        return x + y\n",
    "    return inner_function\n",
    "\n",
    "closure = outer_function(10)\n",
    "result = closure(5)\n",
    "print(result)  "
   ]
  },
  {
   "cell_type": "code",
   "execution_count": null,
   "id": "3cd9a54d",
   "metadata": {},
   "outputs": [],
   "source": [
    "#types of decorator\n",
    "#function decorator\n",
    "#class decorator\n",
    "#method decorator"
   ]
  },
  {
   "cell_type": "code",
   "execution_count": 15,
   "id": "e7078f3b",
   "metadata": {},
   "outputs": [
    {
     "name": "stdout",
     "output_type": "stream",
     "text": [
      "<function upperstring.<locals>.process at 0x0000025ACDAAD670>\n",
      "HAPPY LEARNING\n",
      "<function upperstring.<locals>.process at 0x0000025ACDAAD670>\n"
     ]
    }
   ],
   "source": [
    "def upperstring(ref):\n",
    "    def process():\n",
    "        data=ref()\n",
    "        return data.upper()\n",
    "    print(process)\n",
    "    return process\n",
    "\n",
    "@upperstring\n",
    "def myfunction():\n",
    "    return \"happy learning\"\n",
    "print(myfunction())\n",
    "print(myfunction)\n",
    "#output=upperstring(myfunction)\n",
    "#print(output())"
   ]
  },
  {
   "cell_type": "code",
   "execution_count": null,
   "id": "632732a1",
   "metadata": {},
   "outputs": [],
   "source": [
    "#Single decorator \n",
    "#Multiple decorator"
   ]
  }
 ],
 "metadata": {
  "kernelspec": {
   "display_name": "Python 3 (ipykernel)",
   "language": "python",
   "name": "python3"
  },
  "language_info": {
   "codemirror_mode": {
    "name": "ipython",
    "version": 3
   },
   "file_extension": ".py",
   "mimetype": "text/x-python",
   "name": "python",
   "nbconvert_exporter": "python",
   "pygments_lexer": "ipython3",
   "version": "3.9.13"
  }
 },
 "nbformat": 4,
 "nbformat_minor": 5
}
