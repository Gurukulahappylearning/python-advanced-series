{
 "cells": [
  {
   "cell_type": "code",
   "execution_count": 16,
   "id": "99e8157c",
   "metadata": {},
   "outputs": [
    {
     "name": "stdout",
     "output_type": "stream",
     "text": [
      "Father Name: shiva\n",
      "Mother Name: kavitha\n",
      "Child 1 name: john\n",
      "Father Name: shiva\n",
      "Mother Name: kavitha\n",
      "child 2 name:riya\n"
     ]
    }
   ],
   "source": [
    "class parent:                      \n",
    "    def name(self):                   \n",
    "        print(\"Father Name: shiva\")\n",
    "        print(\"Mother Name: kavitha\")\n",
    "\n",
    "class child1(parent):              \n",
    "    def child_name1(self):                   \n",
    "        print(\"Child 1 name: john\")\n",
    " \n",
    " \n",
    "class child2(parent):              \n",
    "    def child_name2(self):                   \n",
    "        print(\"child 2 name:riya\")   \n",
    "\n",
    "obj1 = child1()                     \n",
    "obj2 = child2() \n",
    " \n",
    "obj1.name()                       \n",
    "obj1.child_name1()                       \n",
    " \n",
    "obj2.name()                       \n",
    "obj2.child_name2()    "
   ]
  },
  {
   "cell_type": "code",
   "execution_count": 17,
   "id": "e6ba63a4",
   "metadata": {},
   "outputs": [
    {
     "name": "stdout",
     "output_type": "stream",
     "text": [
      "added value: 30\n",
      "sub value: 10\n"
     ]
    }
   ],
   "source": [
    "class add_sub:                      \n",
    "    def values(self):                   \n",
    "        self.a=20\n",
    "        self.b=10\n",
    "        \n",
    "class add(add_sub):              \n",
    "    def add(self):                   \n",
    "        print(\"added value:\",self.a+self.b)\n",
    " \n",
    " \n",
    "class sub(add_sub):              \n",
    "    def sub(self):                   \n",
    "        print(\"sub value:\",self.a-self.b) \n",
    "\n",
    "obj1=add()\n",
    "obj2=sub()\n",
    "obj1.values()\n",
    "obj1.add()\n",
    "obj2.values()\n",
    "obj2.sub()"
   ]
  }
 ],
 "metadata": {
  "kernelspec": {
   "display_name": "Python 3 (ipykernel)",
   "language": "python",
   "name": "python3"
  },
  "language_info": {
   "codemirror_mode": {
    "name": "ipython",
    "version": 3
   },
   "file_extension": ".py",
   "mimetype": "text/x-python",
   "name": "python",
   "nbconvert_exporter": "python",
   "pygments_lexer": "ipython3",
   "version": "3.9.13"
  }
 },
 "nbformat": 4,
 "nbformat_minor": 5
}
