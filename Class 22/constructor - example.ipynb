{
 "cells": [
  {
   "cell_type": "code",
   "execution_count": 12,
   "id": "be39fb46",
   "metadata": {
    "scrolled": true
   },
   "outputs": [
    {
     "name": "stdout",
     "output_type": "stream",
     "text": [
      "name: john\n",
      "age: 43\n",
      "city: chennai\n",
      "ph: 1234567890\n"
     ]
    }
   ],
   "source": [
    "def person(name,**values):\n",
    "    print(\"name:\",name)\n",
    "    print(\"age:\",values['age'])\n",
    "    print(\"city:\",values['city'])\n",
    "    print(\"ph:\",values['ph'])\n",
    "person(\"john\",age=43,city=\"chennai\",ph=1234567890)"
   ]
  },
  {
   "cell_type": "code",
   "execution_count": 13,
   "id": "b02e82f3",
   "metadata": {},
   "outputs": [
    {
     "name": "stdout",
     "output_type": "stream",
     "text": [
      "name: john\n",
      "age: 43\n",
      "city: chennai\n",
      "ph: 1234567890\n"
     ]
    }
   ],
   "source": [
    "class test:\n",
    "    def __init__(self,name,**values):\n",
    "        print(\"name:\",name)\n",
    "        print(\"age:\",values['age'])\n",
    "        print(\"city:\",values['city'])\n",
    "        print(\"ph:\",values['ph'])\n",
    "objec=test(\"john\",age=43,city=\"chennai\",ph=1234567890)"
   ]
  },
  {
   "cell_type": "code",
   "execution_count": 16,
   "id": "f568f014",
   "metadata": {},
   "outputs": [
    {
     "name": "stdout",
     "output_type": "stream",
     "text": [
      "Area of triangle:  35.0\n"
     ]
    }
   ],
   "source": [
    "class triangle:   \n",
    "    def __init__(self, b, h):\n",
    "        self.base = b\n",
    "        self.height = h\n",
    "        self.area = self.base * self.height * 0.5\n",
    "        print(\"Area of triangle: \", (self.area))\n",
    "obj = triangle(7, 10)"
   ]
  },
  {
   "cell_type": "code",
   "execution_count": 17,
   "id": "009eb3c0",
   "metadata": {},
   "outputs": [
    {
     "name": "stdout",
     "output_type": "stream",
     "text": [
      "Area of triangle:  35.0\n"
     ]
    }
   ],
   "source": [
    "class triangle:   \n",
    "    def __init__(self, b, h):\n",
    "        base = b\n",
    "        height = h\n",
    "        area = base * height * 0.5\n",
    "        print(\"Area of triangle: \", (area))\n",
    "obj = triangle(7, 10)"
   ]
  },
  {
   "cell_type": "code",
   "execution_count": 20,
   "id": "ade62b10",
   "metadata": {},
   "outputs": [
    {
     "ename": "NameError",
     "evalue": "name 'base' is not defined",
     "output_type": "error",
     "traceback": [
      "\u001b[1;31m---------------------------------------------------------------------------\u001b[0m",
      "\u001b[1;31mNameError\u001b[0m                                 Traceback (most recent call last)",
      "\u001b[1;32m~\\AppData\\Local\\Temp\\ipykernel_2116\\4156991737.py\u001b[0m in \u001b[0;36m<module>\u001b[1;34m\u001b[0m\n\u001b[0;32m      7\u001b[0m         \u001b[0mprint\u001b[0m\u001b[1;33m(\u001b[0m\u001b[1;34m\"Area of triangle: \"\u001b[0m\u001b[1;33m,\u001b[0m\u001b[1;33m(\u001b[0m\u001b[0marea\u001b[0m\u001b[1;33m)\u001b[0m\u001b[1;33m)\u001b[0m\u001b[1;33m\u001b[0m\u001b[1;33m\u001b[0m\u001b[0m\n\u001b[0;32m      8\u001b[0m \u001b[0mobj\u001b[0m \u001b[1;33m=\u001b[0m \u001b[0mtriangle\u001b[0m\u001b[1;33m(\u001b[0m\u001b[1;36m7\u001b[0m\u001b[1;33m,\u001b[0m \u001b[1;36m10\u001b[0m\u001b[1;33m)\u001b[0m\u001b[1;33m\u001b[0m\u001b[1;33m\u001b[0m\u001b[0m\n\u001b[1;32m----> 9\u001b[1;33m \u001b[0mobj\u001b[0m\u001b[1;33m.\u001b[0m\u001b[0mareaoftriangle\u001b[0m\u001b[1;33m(\u001b[0m\u001b[1;33m)\u001b[0m\u001b[1;33m\u001b[0m\u001b[1;33m\u001b[0m\u001b[0m\n\u001b[0m",
      "\u001b[1;32m~\\AppData\\Local\\Temp\\ipykernel_2116\\4156991737.py\u001b[0m in \u001b[0;36mareaoftriangle\u001b[1;34m(self)\u001b[0m\n\u001b[0;32m      4\u001b[0m         \u001b[0mheight\u001b[0m \u001b[1;33m=\u001b[0m \u001b[0mh\u001b[0m\u001b[1;33m\u001b[0m\u001b[1;33m\u001b[0m\u001b[0m\n\u001b[0;32m      5\u001b[0m     \u001b[1;32mdef\u001b[0m \u001b[0mareaoftriangle\u001b[0m\u001b[1;33m(\u001b[0m\u001b[0mself\u001b[0m\u001b[1;33m)\u001b[0m\u001b[1;33m:\u001b[0m\u001b[1;33m\u001b[0m\u001b[1;33m\u001b[0m\u001b[0m\n\u001b[1;32m----> 6\u001b[1;33m         \u001b[0marea\u001b[0m \u001b[1;33m=\u001b[0m \u001b[0mbase\u001b[0m \u001b[1;33m*\u001b[0m\u001b[0mheight\u001b[0m \u001b[1;33m*\u001b[0m \u001b[1;36m0.5\u001b[0m\u001b[1;33m\u001b[0m\u001b[1;33m\u001b[0m\u001b[0m\n\u001b[0m\u001b[0;32m      7\u001b[0m         \u001b[0mprint\u001b[0m\u001b[1;33m(\u001b[0m\u001b[1;34m\"Area of triangle: \"\u001b[0m\u001b[1;33m,\u001b[0m\u001b[1;33m(\u001b[0m\u001b[0marea\u001b[0m\u001b[1;33m)\u001b[0m\u001b[1;33m)\u001b[0m\u001b[1;33m\u001b[0m\u001b[1;33m\u001b[0m\u001b[0m\n\u001b[0;32m      8\u001b[0m \u001b[0mobj\u001b[0m \u001b[1;33m=\u001b[0m \u001b[0mtriangle\u001b[0m\u001b[1;33m(\u001b[0m\u001b[1;36m7\u001b[0m\u001b[1;33m,\u001b[0m \u001b[1;36m10\u001b[0m\u001b[1;33m)\u001b[0m\u001b[1;33m\u001b[0m\u001b[1;33m\u001b[0m\u001b[0m\n",
      "\u001b[1;31mNameError\u001b[0m: name 'base' is not defined"
     ]
    }
   ],
   "source": [
    "class triangle:   \n",
    "    def __init__(self, b, h):\n",
    "        base = b\n",
    "        height = h\n",
    "    def areaoftriangle(self):\n",
    "        area = base *height * 0.5\n",
    "        print(\"Area of triangle: \",(area))\n",
    "obj = triangle(7, 10)\n",
    "obj.areaoftriangle()"
   ]
  },
  {
   "cell_type": "code",
   "execution_count": 19,
   "id": "588fb202",
   "metadata": {},
   "outputs": [
    {
     "name": "stdout",
     "output_type": "stream",
     "text": [
      "Area of triangle:  35.0\n"
     ]
    }
   ],
   "source": [
    "class triangle:   \n",
    "    def __init__(self, b, h):\n",
    "        self.base = b\n",
    "        self.height = h\n",
    "    def areaoftriangle(self):\n",
    "        self.area = self.base * self.height * 0.5\n",
    "        print(\"Area of triangle: \",(self.area))\n",
    "obj = triangle(7, 10)\n",
    "obj.areaoftriangle()"
   ]
  }
 ],
 "metadata": {
  "kernelspec": {
   "display_name": "Python 3 (ipykernel)",
   "language": "python",
   "name": "python3"
  },
  "language_info": {
   "codemirror_mode": {
    "name": "ipython",
    "version": 3
   },
   "file_extension": ".py",
   "mimetype": "text/x-python",
   "name": "python",
   "nbconvert_exporter": "python",
   "pygments_lexer": "ipython3",
   "version": "3.9.13"
  }
 },
 "nbformat": 4,
 "nbformat_minor": 5
}
