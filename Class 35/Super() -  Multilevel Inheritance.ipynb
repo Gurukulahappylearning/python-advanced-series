{
 "cells": [
  {
   "cell_type": "code",
   "execution_count": 1,
   "id": "035748b3",
   "metadata": {
    "scrolled": true
   },
   "outputs": [
    {
     "name": "stdout",
     "output_type": "stream",
     "text": [
      "Printing from class C\n",
      "Printing from class B\n",
      "Printing from class A\n"
     ]
    }
   ],
   "source": [
    "class A:\n",
    "    def method1(self):\n",
    "        print('Printing from class A')\n",
    "\n",
    "\n",
    "class B(A):\n",
    "    def method2(self):\n",
    "        print('Printing from class B')\n",
    "        super().method1()\n",
    "\n",
    "\n",
    "class C(B):\n",
    "    def method3(self):\n",
    "        print('Printing from class C')\n",
    "        super().method2()\n",
    "\n",
    "\n",
    "c = C()\n",
    "c.method3()"
   ]
  },
  {
   "cell_type": "code",
   "execution_count": 2,
   "id": "b8d45edd",
   "metadata": {},
   "outputs": [
    {
     "name": "stdout",
     "output_type": "stream",
     "text": [
      "Printing from class C\n",
      "Printing from class B\n",
      "Printing from class A\n"
     ]
    }
   ],
   "source": [
    "class A:\n",
    "    def method(self):\n",
    "        print('Printing from class A')\n",
    "\n",
    "\n",
    "class B(A):\n",
    "    def method(self):\n",
    "        print('Printing from class B')\n",
    "        super().method()\n",
    "\n",
    "\n",
    "class C(B):\n",
    "    def method(self):\n",
    "        print('Printing from class C')\n",
    "        super().method()\n",
    "\n",
    "\n",
    "c = C()\n",
    "c.method()"
   ]
  },
  {
   "cell_type": "code",
   "execution_count": 4,
   "id": "faa2875b",
   "metadata": {},
   "outputs": [
    {
     "name": "stdout",
     "output_type": "stream",
     "text": [
      "Constructor - class C\n",
      "Constructor - class B\n",
      "Constructor - class A\n",
      "Printing from class C\n",
      "Printing from class B\n",
      "Printing from class A\n"
     ]
    }
   ],
   "source": [
    "class A:\n",
    "    def __init__(self):\n",
    "        print('Constructor - class A')\n",
    "\n",
    "    def method(self):\n",
    "        print('Printing from class A')\n",
    "        \n",
    "class B(A):\n",
    "    def __init__(self):\n",
    "        print('Constructor - class B')\n",
    "        super().__init__()\n",
    "\n",
    "    def method(self):\n",
    "        print('Printing from class B' )\n",
    "        super().method()\n",
    "        \n",
    "class C(B):\n",
    "    def __init__(self):\n",
    "        print('Constructor - class C')\n",
    "        super().__init__()\n",
    "\n",
    "    def method(self):\n",
    "        print('Printing from class C')\n",
    "        super().method()\n",
    "        \n",
    "c = C()\n",
    "c.method()"
   ]
  },
  {
   "cell_type": "code",
   "execution_count": 5,
   "id": "5a17982a",
   "metadata": {},
   "outputs": [
    {
     "name": "stdout",
     "output_type": "stream",
     "text": [
      "Constructor -  class C\n",
      "Constructor -  class B\n",
      "Constructor -  class A\n",
      "Printing from class C: 1\n",
      "Printing from class B: 2\n",
      "Printing from class A: 3\n"
     ]
    }
   ],
   "source": [
    "class A:\n",
    "    def __init__(self):\n",
    "        print('Constructor -  class A')\n",
    "\n",
    "    def method(self, b):\n",
    "        print('Printing from class A:', b)\n",
    "class B(A):\n",
    "    def __init__(self):\n",
    "        print('Constructor -  class B')\n",
    "        super().__init__()\n",
    "\n",
    "    def method(self, b):\n",
    "        print('Printing from class B:', b)\n",
    "        super().method(b + 1)\n",
    "class C(B):\n",
    "    def __init__(self):\n",
    "        print('Constructor -  class C')\n",
    "        super().__init__()\n",
    "\n",
    "    def method(self, b):\n",
    "        print('Printing from class C:', b)\n",
    "        super().method(b + 1)\n",
    "c = C()\n",
    "c.method(1)"
   ]
  },
  {
   "cell_type": "code",
   "execution_count": null,
   "id": "1eeabed7",
   "metadata": {},
   "outputs": [],
   "source": []
  },
  {
   "cell_type": "code",
   "execution_count": null,
   "id": "9fefcb03",
   "metadata": {},
   "outputs": [],
   "source": []
  },
  {
   "cell_type": "code",
   "execution_count": null,
   "id": "6493b92f",
   "metadata": {},
   "outputs": [],
   "source": []
  },
  {
   "cell_type": "code",
   "execution_count": null,
   "id": "736e3455",
   "metadata": {},
   "outputs": [],
   "source": []
  },
  {
   "cell_type": "code",
   "execution_count": null,
   "id": "70de17b8",
   "metadata": {},
   "outputs": [],
   "source": []
  },
  {
   "cell_type": "code",
   "execution_count": null,
   "id": "d02d021c",
   "metadata": {},
   "outputs": [],
   "source": []
  },
  {
   "cell_type": "code",
   "execution_count": null,
   "id": "4e88e7d6",
   "metadata": {},
   "outputs": [],
   "source": []
  },
  {
   "cell_type": "code",
   "execution_count": 8,
   "id": "696d7ff3",
   "metadata": {},
   "outputs": [
    {
     "name": "stdout",
     "output_type": "stream",
     "text": [
      "Printing from class C\n",
      "Printing from class B\n",
      "Printing from class A\n"
     ]
    }
   ],
   "source": []
  },
  {
   "cell_type": "code",
   "execution_count": 11,
   "id": "a4cbd0b6",
   "metadata": {},
   "outputs": [
    {
     "name": "stdout",
     "output_type": "stream",
     "text": [
      "Constructor - class C\n",
      "Constructor - class B\n",
      "Constructor - class A\n",
      "Printing from class C\n",
      "Printing from class B\n",
      "Printing from class A\n"
     ]
    }
   ],
   "source": []
  },
  {
   "cell_type": "code",
   "execution_count": 18,
   "id": "6826bb24",
   "metadata": {},
   "outputs": [
    {
     "name": "stdout",
     "output_type": "stream",
     "text": [
      "Constructor -  class C\n",
      "Constructor -  class B\n",
      "Constructor -  class A\n",
      "Printing from class C: 1\n",
      "Printing from class B: 2\n",
      "Printing from class A: 3\n"
     ]
    }
   ],
   "source": []
  }
 ],
 "metadata": {
  "kernelspec": {
   "display_name": "Python 3 (ipykernel)",
   "language": "python",
   "name": "python3"
  },
  "language_info": {
   "codemirror_mode": {
    "name": "ipython",
    "version": 3
   },
   "file_extension": ".py",
   "mimetype": "text/x-python",
   "name": "python",
   "nbconvert_exporter": "python",
   "pygments_lexer": "ipython3",
   "version": "3.9.13"
  }
 },
 "nbformat": 4,
 "nbformat_minor": 5
}
