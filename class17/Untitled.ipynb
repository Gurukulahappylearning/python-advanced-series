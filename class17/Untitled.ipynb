{
 "cells": [
  {
   "cell_type": "code",
   "execution_count": 25,
   "id": "40645af1",
   "metadata": {},
   "outputs": [
    {
     "name": "stdout",
     "output_type": "stream",
     "text": [
      "my name is: sakthi\n",
      "age is: 23\n",
      "gender is: male\n"
     ]
    }
   ],
   "source": [
    "class person:\n",
    "    def get_detail(self):\n",
    "        name=\"sakthi\"\n",
    "        age=23\n",
    "        gender=\"male\"\n",
    "        print(\"my name is:\",name)\n",
    "        print(\"age is:\",age)\n",
    "        print(\"gender is:\",gender)\n",
    "    \n",
    "c=person()\n",
    "c.get_detail()"
   ]
  },
  {
   "cell_type": "code",
   "execution_count": 26,
   "id": "16489ac9",
   "metadata": {},
   "outputs": [
    {
     "ename": "NameError",
     "evalue": "name 'name' is not defined",
     "output_type": "error",
     "traceback": [
      "\u001b[1;31m---------------------------------------------------------------------------\u001b[0m",
      "\u001b[1;31mNameError\u001b[0m                                 Traceback (most recent call last)",
      "\u001b[1;32m~\\AppData\\Local\\Temp\\ipykernel_11140\\4133276635.py\u001b[0m in \u001b[0;36m<module>\u001b[1;34m\u001b[0m\n\u001b[0;32m     11\u001b[0m \u001b[0mc\u001b[0m\u001b[1;33m=\u001b[0m\u001b[0mperson\u001b[0m\u001b[1;33m(\u001b[0m\u001b[1;33m)\u001b[0m\u001b[1;33m\u001b[0m\u001b[1;33m\u001b[0m\u001b[0m\n\u001b[0;32m     12\u001b[0m \u001b[0mc\u001b[0m\u001b[1;33m.\u001b[0m\u001b[0mget_detail\u001b[0m\u001b[1;33m(\u001b[0m\u001b[1;33m)\u001b[0m\u001b[1;33m\u001b[0m\u001b[1;33m\u001b[0m\u001b[0m\n\u001b[1;32m---> 13\u001b[1;33m \u001b[0mc\u001b[0m\u001b[1;33m.\u001b[0m\u001b[0mprint_detail\u001b[0m\u001b[1;33m(\u001b[0m\u001b[1;33m)\u001b[0m\u001b[1;33m\u001b[0m\u001b[1;33m\u001b[0m\u001b[0m\n\u001b[0m",
      "\u001b[1;32m~\\AppData\\Local\\Temp\\ipykernel_11140\\4133276635.py\u001b[0m in \u001b[0;36mprint_detail\u001b[1;34m(self)\u001b[0m\n\u001b[0;32m      5\u001b[0m         \u001b[0mgender\u001b[0m\u001b[1;33m=\u001b[0m\u001b[1;34m\"male\"\u001b[0m\u001b[1;33m\u001b[0m\u001b[1;33m\u001b[0m\u001b[0m\n\u001b[0;32m      6\u001b[0m     \u001b[1;32mdef\u001b[0m \u001b[0mprint_detail\u001b[0m\u001b[1;33m(\u001b[0m\u001b[0mself\u001b[0m\u001b[1;33m)\u001b[0m\u001b[1;33m:\u001b[0m\u001b[1;33m\u001b[0m\u001b[1;33m\u001b[0m\u001b[0m\n\u001b[1;32m----> 7\u001b[1;33m         \u001b[0mprint\u001b[0m\u001b[1;33m(\u001b[0m\u001b[1;34m\"my name is:\"\u001b[0m\u001b[1;33m,\u001b[0m\u001b[0mname\u001b[0m\u001b[1;33m)\u001b[0m\u001b[1;33m\u001b[0m\u001b[1;33m\u001b[0m\u001b[0m\n\u001b[0m\u001b[0;32m      8\u001b[0m         \u001b[0mprint\u001b[0m\u001b[1;33m(\u001b[0m\u001b[1;34m\"age is:\"\u001b[0m\u001b[1;33m,\u001b[0m\u001b[0mage\u001b[0m\u001b[1;33m)\u001b[0m\u001b[1;33m\u001b[0m\u001b[1;33m\u001b[0m\u001b[0m\n\u001b[0;32m      9\u001b[0m         \u001b[0mprint\u001b[0m\u001b[1;33m(\u001b[0m\u001b[1;34m\"gender is:\"\u001b[0m\u001b[1;33m,\u001b[0m\u001b[0mgender\u001b[0m\u001b[1;33m)\u001b[0m\u001b[1;33m\u001b[0m\u001b[1;33m\u001b[0m\u001b[0m\n",
      "\u001b[1;31mNameError\u001b[0m: name 'name' is not defined"
     ]
    }
   ],
   "source": [
    "class person:\n",
    "    def get_detail(self):\n",
    "        name=\"sakthi\"\n",
    "        age=23\n",
    "        gender=\"male\"\n",
    "    def print_detail(self):\n",
    "        print(\"my name is:\",name)\n",
    "        print(\"age is:\",age)\n",
    "        print(\"gender is:\",gender)\n",
    "    \n",
    "c=person()\n",
    "c.get_detail()\n",
    "c.print_detail()"
   ]
  },
  {
   "cell_type": "code",
   "execution_count": 27,
   "id": "bca93d9c",
   "metadata": {},
   "outputs": [
    {
     "name": "stdout",
     "output_type": "stream",
     "text": [
      "my name is: sakthi\n",
      "age is: 23\n",
      "gender is: male\n"
     ]
    }
   ],
   "source": [
    "class person:\n",
    "    def get_detail(self):\n",
    "        self.name=\"sakthi\"\n",
    "        self.age=23\n",
    "        self.gender=\"male\"\n",
    "    def print_detail(self):\n",
    "        print(\"my name is:\",self.name)\n",
    "        print(\"age is:\",self.age)\n",
    "        print(\"gender is:\",self.gender)\n",
    "c=person()\n",
    "c.get_detail()\n",
    "c.print_detail()"
   ]
  },
  {
   "cell_type": "code",
   "execution_count": 29,
   "id": "3e295f52",
   "metadata": {},
   "outputs": [
    {
     "name": "stdout",
     "output_type": "stream",
     "text": [
      "my name is: sakthi\n",
      "age is: 23\n",
      "gender is: male\n",
      "my name is: jeeva\n",
      "age is: 30\n",
      "gender is: male\n"
     ]
    }
   ],
   "source": [
    "class person:\n",
    "    def get_detail(self,name,age,gender):\n",
    "        self.name=name\n",
    "        self.age=age\n",
    "        self.gender=gender\n",
    "    def print_detail(self):\n",
    "        print(\"my name is:\",self.name)\n",
    "        print(\"age is:\",self.age)\n",
    "        print(\"gender is:\",self.gender)\n",
    "c=person()\n",
    "c.get_detail(\"sakthi\",23,\"male\")\n",
    "c.print_detail()\n",
    "d=person()\n",
    "d.get_detail(\"jeeva\",30,\"male\")\n",
    "d.print_detail()"
   ]
  }
 ],
 "metadata": {
  "kernelspec": {
   "display_name": "Python 3 (ipykernel)",
   "language": "python",
   "name": "python3"
  },
  "language_info": {
   "codemirror_mode": {
    "name": "ipython",
    "version": 3
   },
   "file_extension": ".py",
   "mimetype": "text/x-python",
   "name": "python",
   "nbconvert_exporter": "python",
   "pygments_lexer": "ipython3",
   "version": "3.9.13"
  }
 },
 "nbformat": 4,
 "nbformat_minor": 5
}
