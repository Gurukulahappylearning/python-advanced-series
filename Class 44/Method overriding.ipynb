{
 "cells": [
  {
   "cell_type": "code",
   "execution_count": 1,
   "id": "bf72d158",
   "metadata": {},
   "outputs": [
    {
     "name": "stdout",
     "output_type": "stream",
     "text": [
      "i am from class a\n"
     ]
    }
   ],
   "source": [
    "class a:\n",
    "    def detail(self):\n",
    "        print(\"i am from class a\")\n",
    "obj=a()\n",
    "obj.detail()"
   ]
  },
  {
   "cell_type": "code",
   "execution_count": 2,
   "id": "6d423c46",
   "metadata": {},
   "outputs": [
    {
     "name": "stdout",
     "output_type": "stream",
     "text": [
      "i am from class a\n"
     ]
    }
   ],
   "source": [
    "class a:\n",
    "    def detail(self):\n",
    "        print(\"i am from class a\")       \n",
    "class b(a):\n",
    "    pass\n",
    "\n",
    "obj=b()\n",
    "obj.detail()"
   ]
  },
  {
   "cell_type": "code",
   "execution_count": 3,
   "id": "7db90c7c",
   "metadata": {},
   "outputs": [
    {
     "name": "stdout",
     "output_type": "stream",
     "text": [
      "i am from class b\n"
     ]
    }
   ],
   "source": [
    "class a:\n",
    "    def detail(self):\n",
    "        print(\"i am from class a\")        \n",
    "class b(a):\n",
    "    def detail(self):\n",
    "        print(\"i am from class b\")\n",
    "obj=b()\n",
    "obj.detail()"
   ]
  },
  {
   "cell_type": "code",
   "execution_count": 4,
   "id": "24e4f25f",
   "metadata": {},
   "outputs": [
    {
     "name": "stdout",
     "output_type": "stream",
     "text": [
      "i am from class c\n"
     ]
    }
   ],
   "source": [
    "class a:\n",
    "    def detail(self):\n",
    "        print(\"i am from class a\")        \n",
    "class b(a):\n",
    "    def detail(self):\n",
    "        print(\"i am from class b\")\n",
    "class c(b):\n",
    "    def detail(self):\n",
    "        print(\"i am from class c\")\n",
    "obj=c()\n",
    "obj.detail()"
   ]
  },
  {
   "cell_type": "code",
   "execution_count": 5,
   "id": "9e4ebce6",
   "metadata": {},
   "outputs": [
    {
     "name": "stdout",
     "output_type": "stream",
     "text": [
      "i am from class a\n",
      "i am from class b\n"
     ]
    }
   ],
   "source": [
    "class a:\n",
    "    def detail(self):\n",
    "        print(\"i am from class a\")      \n",
    "class b(a):\n",
    "    def detail(self):\n",
    "        super().detail()\n",
    "        print(\"i am from class b\")\n",
    "\n",
    "obj=b()\n",
    "obj.detail()"
   ]
  },
  {
   "cell_type": "code",
   "execution_count": 6,
   "id": "8de3a839",
   "metadata": {},
   "outputs": [
    {
     "name": "stdout",
     "output_type": "stream",
     "text": [
      "i am from class a\n",
      "i am from class b\n",
      "i am from class c\n"
     ]
    }
   ],
   "source": [
    "class a:\n",
    "    def detail(self):\n",
    "        print(\"i am from class a\")       \n",
    "class b(a):\n",
    "    def detail(self):\n",
    "        super().detail()\n",
    "        print(\"i am from class b\")\n",
    "class c(b):\n",
    "    def detail(self):\n",
    "        super().detail()\n",
    "        print(\"i am from class c\")\n",
    "obj=c()\n",
    "obj.detail()"
   ]
  }
 ],
 "metadata": {
  "kernelspec": {
   "display_name": "Python 3 (ipykernel)",
   "language": "python",
   "name": "python3"
  },
  "language_info": {
   "codemirror_mode": {
    "name": "ipython",
    "version": 3
   },
   "file_extension": ".py",
   "mimetype": "text/x-python",
   "name": "python",
   "nbconvert_exporter": "python",
   "pygments_lexer": "ipython3",
   "version": "3.9.13"
  }
 },
 "nbformat": 4,
 "nbformat_minor": 5
}
