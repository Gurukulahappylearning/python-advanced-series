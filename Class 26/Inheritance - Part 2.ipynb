{
 "cells": [
  {
   "cell_type": "code",
   "execution_count": null,
   "id": "78ae1580",
   "metadata": {},
   "outputs": [],
   "source": [
    "# multilevel inheritance"
   ]
  },
  {
   "cell_type": "code",
   "execution_count": 1,
   "id": "5940a86e",
   "metadata": {},
   "outputs": [
    {
     "name": "stdout",
     "output_type": "stream",
     "text": [
      "i am from class 1\n",
      "i am from class 2\n",
      "i am from class 3\n"
     ]
    }
   ],
   "source": [
    "class one:                 \n",
    "    def func1(self):                   \n",
    "        print(\"i am from class 1\")\n",
    "        \n",
    "class two(one):        \n",
    "    def func2(self):                   \n",
    "        print(\"i am from class 2\")\n",
    "\n",
    "class three(two):              \n",
    "    def func3(self):                   \n",
    "        print(\"i am from class 3\")   \n",
    "                        \n",
    "test = three()\n",
    "test.func1()\n",
    "test.func2()\n",
    "test.func3()"
   ]
  },
  {
   "cell_type": "code",
   "execution_count": 2,
   "id": "4d84536f",
   "metadata": {},
   "outputs": [
    {
     "name": "stdout",
     "output_type": "stream",
     "text": [
      "Name: sakthi -----  Age: 25 -----  Gender: male\n",
      "Company Name: Google -----  location: USA\n",
      "Salary: 24LPA -----  Designation: Data Scientist\n"
     ]
    }
   ],
   "source": [
    "class Person:\n",
    "    def personal(self, name, age, gender):\n",
    "        print('Name:', name,\"-----  \" 'Age:', age, \"-----  \" 'Gender:', gender)\n",
    "\n",
    "class Company(Person):\n",
    "    def company_detail(self, name, location):\n",
    "        print('Company Name:',name, \"-----  \"'location:', location)\n",
    "\n",
    "class other(Company):\n",
    "    def other_detail(self, salary, designation):\n",
    "        print('Salary:', salary,\"-----  \" 'Designation:', designation)\n",
    "\n",
    "obj=other()\n",
    "obj.personal(\"sakthi\",25,\"male\")\n",
    "obj.company_detail(\"Google\",\"USA\")\n",
    "obj.other_detail(\"24LPA\",\"Data Scientist\")\n",
    "\n",
    "\n",
    "\n"
   ]
  }
 ],
 "metadata": {
  "kernelspec": {
   "display_name": "Python 3 (ipykernel)",
   "language": "python",
   "name": "python3"
  },
  "language_info": {
   "codemirror_mode": {
    "name": "ipython",
    "version": 3
   },
   "file_extension": ".py",
   "mimetype": "text/x-python",
   "name": "python",
   "nbconvert_exporter": "python",
   "pygments_lexer": "ipython3",
   "version": "3.9.13"
  }
 },
 "nbformat": 4,
 "nbformat_minor": 5
}
