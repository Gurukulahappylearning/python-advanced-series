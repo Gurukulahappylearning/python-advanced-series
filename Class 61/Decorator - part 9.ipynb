{
 "cells": [
  {
   "cell_type": "code",
   "execution_count": null,
   "id": "6546ce5b",
   "metadata": {},
   "outputs": [],
   "source": [
    "def divide_decorator(func):\n",
    "    def process(*args):\n",
    "        if 0 in args[1:]:\n",
    "            return \"please enter number other than zero\"\n",
    "        return func(*args)\n",
    "    return process\n",
    "\n",
    "@divide_decorator\n",
    "def divide(a,b):\n",
    "    return a/b\n",
    "print(divide(10,0))\n",
    "\n",
    "@divide_decorator\n",
    "def divide(a,b,c):\n",
    "    return a/b/c\n",
    "print(divide(4,3,2))\n",
    "\n",
    "@divide_decorator\n",
    "def divide(a,b,c,d):\n",
    "    return a/b/c/d\n",
    "print(divide(0,2,3,4))"
   ]
  },
  {
   "cell_type": "code",
   "execution_count": 29,
   "id": "10a4e7fc",
   "metadata": {},
   "outputs": [
    {
     "name": "stdout",
     "output_type": "stream",
     "text": [
      "I am from constructor\n",
      "hai\n",
      "I am from call method\n"
     ]
    }
   ],
   "source": [
    "class Example:\n",
    "    def __init__(self):\n",
    "        print(\"I am from constructor\")\n",
    "\n",
    "    def __call__(self):\n",
    "        print(\"I am from call method\")\n",
    "\n",
    "    def display(self):\n",
    "        print(\"hai\")\n",
    "        \n",
    "obj = Example()\n",
    "obj.display()\n",
    "#obj.__call__()\n",
    "obj()"
   ]
  },
  {
   "cell_type": "code",
   "execution_count": 24,
   "id": "68ff0d50",
   "metadata": {},
   "outputs": [
    {
     "name": "stdout",
     "output_type": "stream",
     "text": [
      "I am from constructor\n",
      "I am from call method\n",
      "200\n"
     ]
    }
   ],
   "source": [
    "class demo:\n",
    "    def __init__(self):\n",
    "        print(\"I am from constructor\")\n",
    "\n",
    "\n",
    "    def __call__(self, a, b):\n",
    "        print(\"I am from call method\")\n",
    "        print(a * b)\n",
    "\n",
    "\n",
    "ans = demo()\n",
    "ans(10, 20)\n"
   ]
  },
  {
   "cell_type": "code",
   "execution_count": 30,
   "id": "097e0104",
   "metadata": {},
   "outputs": [
    {
     "name": "stdout",
     "output_type": "stream",
     "text": [
      "Happy Learning\n"
     ]
    }
   ],
   "source": [
    "class MyDecorator:\n",
    "    def __init__(self, function):\n",
    "        self.function = function\n",
    "\n",
    "    def __call__(self):\n",
    "        self.function()\n",
    "\n",
    "def function():\n",
    "    print(\"Happy Learning\")\n",
    "    \n",
    "obj=MyDecorator(function)\n",
    "obj()\n"
   ]
  },
  {
   "cell_type": "code",
   "execution_count": 31,
   "id": "450ba682",
   "metadata": {},
   "outputs": [
    {
     "name": "stdout",
     "output_type": "stream",
     "text": [
      "Happy Learning\n"
     ]
    }
   ],
   "source": [
    "class MyDecorator:\n",
    "    def __init__(self, function):\n",
    "        self.function = function\n",
    "       \n",
    "    def __call__(self):\n",
    "        self.function()\n",
    "        \n",
    "@MyDecorator\n",
    "def function():\n",
    "    print(\"Happy Learning\")\n",
    "\n",
    "function()\n"
   ]
  }
 ],
 "metadata": {
  "kernelspec": {
   "display_name": "Python 3 (ipykernel)",
   "language": "python",
   "name": "python3"
  },
  "language_info": {
   "codemirror_mode": {
    "name": "ipython",
    "version": 3
   },
   "file_extension": ".py",
   "mimetype": "text/x-python",
   "name": "python",
   "nbconvert_exporter": "python",
   "pygments_lexer": "ipython3",
   "version": "3.9.13"
  }
 },
 "nbformat": 4,
 "nbformat_minor": 5
}
