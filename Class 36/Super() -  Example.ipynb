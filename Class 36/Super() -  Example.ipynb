{
 "cells": [
  {
   "cell_type": "code",
   "execution_count": 1,
   "id": "793f15ab",
   "metadata": {},
   "outputs": [
    {
     "name": "stdout",
     "output_type": "stream",
     "text": [
      "rectangle: 6\n",
      "cube: 24\n"
     ]
    }
   ],
   "source": [
    "class rectangle:\n",
    "    def __init__(self,length,breadth):\n",
    "        self.length=length\n",
    "        self.breadth=breadth\n",
    "        print (\"rectangle:\",self.length * self.breadth)\n",
    "        \n",
    "class cube:\n",
    "    def __init__(self,length,breadth,height):\n",
    "        self.length=length\n",
    "        self.breadth=breadth\n",
    "        self.height=height\n",
    "        print (\"cube:\",self.length * self.breadth *self.height)\n",
    "r=rectangle(2,3)\n",
    "c=cube(2,3,4)"
   ]
  },
  {
   "cell_type": "code",
   "execution_count": 2,
   "id": "b0da4dec",
   "metadata": {},
   "outputs": [
    {
     "name": "stdout",
     "output_type": "stream",
     "text": [
      "rectangle: 6\n",
      "cube: 24\n"
     ]
    }
   ],
   "source": [
    "class shape:\n",
    "    def __init__(self,length,breadth):\n",
    "        self.length=length\n",
    "        self.breadth=breadth\n",
    "        \n",
    "        \n",
    "class rectangle(shape):\n",
    "    def __init__(self,length,breadth):\n",
    "        super().__init__(length,breadth)\n",
    "        print (\"rectangle:\",self.length * self.breadth)\n",
    "        \n",
    "\n",
    "class cube(shape):\n",
    "    def __init__(self,length,breadth,height):\n",
    "        super().__init__(length,breadth) \n",
    "        self.height=height\n",
    "        print (\"cube:\",self.length * self.breadth *self.height)\n",
    "        \n",
    "r=rectangle(2,3)\n",
    "c=cube(2,3,4)"
   ]
  },
  {
   "cell_type": "code",
   "execution_count": 3,
   "id": "3fe80599",
   "metadata": {},
   "outputs": [
    {
     "name": "stdout",
     "output_type": "stream",
     "text": [
      "rectangle: 6\n",
      "cube: 24\n"
     ]
    }
   ],
   "source": [
    "class shape:\n",
    "    def __init__(self,length,breadth):\n",
    "        self.length=length\n",
    "        self.breadth=breadth\n",
    "        self.res=self.length * self.breadth\n",
    "        \n",
    "class rectangle(shape):\n",
    "    def __init__(self,length,breadth):\n",
    "        super().__init__(length,breadth)\n",
    "        print (\"rectangle:\",self.res)\n",
    "        \n",
    "\n",
    "class cube(shape):\n",
    "    def __init__(self,length,breadth,height):\n",
    "        super().__init__(length,breadth) \n",
    "        self.height=height\n",
    "        print (\"cube:\",self.res *self.height)\n",
    "        \n",
    "r=rectangle(2,3)\n",
    "c=cube(2,3,4)"
   ]
  },
  {
   "cell_type": "code",
   "execution_count": 4,
   "id": "156ace1f",
   "metadata": {},
   "outputs": [
    {
     "name": "stdout",
     "output_type": "stream",
     "text": [
      "square: 4\n",
      "rectangle: 9\n",
      "cube: 64\n"
     ]
    }
   ],
   "source": [
    "class shape:\n",
    "    def __init__(self,length,breadth):\n",
    "        self.length=length\n",
    "        self.breadth=breadth\n",
    "        self.res=self.length * self.breadth\n",
    "        \n",
    "class square(shape):\n",
    "    def __init__(self,length):\n",
    "        super().__init__(length,length)\n",
    "        print (\"square:\",self.res)\n",
    "\n",
    "class rectangle(shape):\n",
    "    def __init__(self,length,breadth):\n",
    "        super().__init__(length,breadth)\n",
    "        print (\"rectangle:\",self.res)\n",
    "        \n",
    "\n",
    "class cube(shape):\n",
    "    def __init__(self,length,breadth,height):\n",
    "        super().__init__(length,breadth) \n",
    "        self.height=height\n",
    "        print (\"cube:\",self.res *self.height)\n",
    "        \n",
    "s=square(2)\n",
    "r=rectangle(3,3)\n",
    "c=cube(4,4,4)"
   ]
  }
 ],
 "metadata": {
  "kernelspec": {
   "display_name": "Python 3 (ipykernel)",
   "language": "python",
   "name": "python3"
  },
  "language_info": {
   "codemirror_mode": {
    "name": "ipython",
    "version": 3
   },
   "file_extension": ".py",
   "mimetype": "text/x-python",
   "name": "python",
   "nbconvert_exporter": "python",
   "pygments_lexer": "ipython3",
   "version": "3.9.13"
  }
 },
 "nbformat": 4,
 "nbformat_minor": 5
}
