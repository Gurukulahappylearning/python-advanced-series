{
 "cells": [
  {
   "cell_type": "code",
   "execution_count": null,
   "id": "8b234983",
   "metadata": {},
   "outputs": [],
   "source": [
    "#hybrid inheritance"
   ]
  },
  {
   "cell_type": "code",
   "execution_count": 5,
   "id": "6a8a4c83",
   "metadata": {},
   "outputs": [
    {
     "name": "stdout",
     "output_type": "stream",
     "text": [
      "Hello i am dog\n",
      "Hello i am cat\n",
      "Hello i am elephant\n",
      "Hello i am horse\n"
     ]
    }
   ],
   "source": [
    "class dog:                            \n",
    "    def func1(self):                   \n",
    "        print(\"Hello i am dog\")\n",
    "        \n",
    "class cat(dog):                            \n",
    "    def func2(self):                   \n",
    "        print(\"Hello i am cat\")\n",
    "\n",
    "class elephant(dog):                    \n",
    "    def func3(self):                   \n",
    "        print(\"Hello i am elephant\")\n",
    " \n",
    " \n",
    "class horse(cat,elephant):            \n",
    "    def func4(self):                   \n",
    "        print(\"Hello i am horse\")   \n",
    "                            \n",
    "hor_obj=horse()\n",
    "hor_obj.func1()\n",
    "hor_obj.func2()\n",
    "hor_obj.func3()\n",
    "hor_obj.func4()"
   ]
  },
  {
   "cell_type": "code",
   "execution_count": 6,
   "id": "b500aad6",
   "metadata": {},
   "outputs": [
    {
     "name": "stdout",
     "output_type": "stream",
     "text": [
      "Hello i am dog\n",
      "Hello i am cat\n",
      "Hello i am elephant\n",
      "Hello i horse\n"
     ]
    }
   ],
   "source": [
    "class dog:                            \n",
    "    def func1(self):                   \n",
    "        print(\"Hello i am dog\")\n",
    "        \n",
    "class cat(dog):                            \n",
    "    def func2(self):                   \n",
    "        print(\"Hello i am cat\")\n",
    "\n",
    "class elephant(cat):                    \n",
    "    def func3(self):                   \n",
    "        print(\"Hello i am elephant\")\n",
    "\n",
    "class horse(elephant,dog):            \n",
    "    def func4(self):                   \n",
    "        print(\"Hello i horse\")   \n",
    "                            \n",
    "hor_obj=horse()\n",
    "hor_obj.func1()\n",
    "hor_obj.func2()\n",
    "hor_obj.func3()\n",
    "hor_obj.func4()"
   ]
  },
  {
   "cell_type": "code",
   "execution_count": null,
   "id": "0d017a5e",
   "metadata": {},
   "outputs": [],
   "source": []
  },
  {
   "cell_type": "code",
   "execution_count": null,
   "id": "51f55862",
   "metadata": {},
   "outputs": [],
   "source": []
  },
  {
   "cell_type": "code",
   "execution_count": null,
   "id": "238654eb",
   "metadata": {},
   "outputs": [],
   "source": []
  },
  {
   "cell_type": "code",
   "execution_count": null,
   "id": "69455a2e",
   "metadata": {},
   "outputs": [],
   "source": []
  },
  {
   "cell_type": "code",
   "execution_count": null,
   "id": "29aebd40",
   "metadata": {},
   "outputs": [],
   "source": []
  },
  {
   "cell_type": "code",
   "execution_count": null,
   "id": "f51c9dfa",
   "metadata": {},
   "outputs": [],
   "source": []
  },
  {
   "cell_type": "code",
   "execution_count": null,
   "id": "818438fb",
   "metadata": {},
   "outputs": [],
   "source": []
  },
  {
   "cell_type": "code",
   "execution_count": null,
   "id": "f2cd720d",
   "metadata": {},
   "outputs": [],
   "source": []
  }
 ],
 "metadata": {
  "kernelspec": {
   "display_name": "Python 3 (ipykernel)",
   "language": "python",
   "name": "python3"
  },
  "language_info": {
   "codemirror_mode": {
    "name": "ipython",
    "version": 3
   },
   "file_extension": ".py",
   "mimetype": "text/x-python",
   "name": "python",
   "nbconvert_exporter": "python",
   "pygments_lexer": "ipython3",
   "version": "3.9.13"
  }
 },
 "nbformat": 4,
 "nbformat_minor": 5
}
